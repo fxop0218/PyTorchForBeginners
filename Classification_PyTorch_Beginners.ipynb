{
  "nbformat": 4,
  "nbformat_minor": 0,
  "metadata": {
    "colab": {
      "provenance": [],
      "authorship_tag": "ABX9TyNnSwB2tVO/VW9FbMNeM//L",
      "include_colab_link": true
    },
    "kernelspec": {
      "name": "python3",
      "display_name": "Python 3"
    },
    "language_info": {
      "name": "python"
    }
  },
  "cells": [
    {
      "cell_type": "markdown",
      "metadata": {
        "id": "view-in-github",
        "colab_type": "text"
      },
      "source": [
        "<a href=\"https://colab.research.google.com/github/fxop0218/PyTorchForBeginners/blob/main/Classification_PyTorch_Beginners.ipynb\" target=\"_parent\"><img src=\"https://colab.research.google.com/assets/colab-badge.svg\" alt=\"Open In Colab\"/></a>"
      ]
    },
    {
      "cell_type": "markdown",
      "source": [
        "# Neural Network classification with PyTorch\n",
        "\n",
        "**🟦EN**: Classification is a problem of prediction whether comething is one thing or another (there can be multiple things as the option)\n",
        "\n",
        "**🟥ES**: La clasificación es un problema de predicción si comething es una cosa u otra (puede haber múltiples cosas como la opción)"
      ],
      "metadata": {
        "id": "VfWRxoEWogzr"
      }
    },
    {
      "cell_type": "markdown",
      "source": [
        "## 1. Data\n",
        "\n",
        "Make classification and get it ready"
      ],
      "metadata": {
        "id": "yAUBQyTVpFc3"
      }
    },
    {
      "cell_type": "code",
      "execution_count": null,
      "metadata": {
        "id": "okgIMfFzoQjf"
      },
      "outputs": [],
      "source": [
        "import sklearn\n",
        "from sklearn.datasets import make_circles\n",
        "\n",
        "n_samples = 1500\n",
        "\n",
        "# Create circles\n",
        "X, y = make_circles(n_samples, noise=0.03, random_state=10)"
      ]
    },
    {
      "cell_type": "code",
      "source": [
        "len(X), len(y)"
      ],
      "metadata": {
        "colab": {
          "base_uri": "https://localhost:8080/"
        },
        "id": "6CYOg2YIprHN",
        "outputId": "3f3a9349-0856-4ac1-fe05-15ec62ec1ee0"
      },
      "execution_count": null,
      "outputs": [
        {
          "output_type": "execute_result",
          "data": {
            "text/plain": [
              "(1500, 1500)"
            ]
          },
          "metadata": {},
          "execution_count": 42
        }
      ]
    },
    {
      "cell_type": "code",
      "source": [
        "print(f\"Samples X:\\n{X[:5]}\\nSamples Y:\\n{y[:5]}\")"
      ],
      "metadata": {
        "colab": {
          "base_uri": "https://localhost:8080/"
        },
        "id": "j8hRqpiFrrzr",
        "outputId": "c7c5d47d-5f9a-416a-c701-6adf51de4b2f"
      },
      "execution_count": null,
      "outputs": [
        {
          "output_type": "stream",
          "name": "stdout",
          "text": [
            "Samples X:\n",
            "[[ 0.53587933 -0.82031212]\n",
            " [ 0.85831326  0.41626779]\n",
            " [-0.39942903 -0.65131878]\n",
            " [-0.02095879 -0.78382092]\n",
            " [-0.62363349  0.53683231]]\n",
            "Samples Y:\n",
            "[0 0 1 1 1]\n"
          ]
        }
      ]
    },
    {
      "cell_type": "code",
      "source": [
        "import pandas as pd\n",
        "circles = pd.DataFrame({\"X1\": X[:, 0],\n",
        "                        \"X2\": X[:, 1],\n",
        "                        \"label\": y})\n",
        "circles.head(10)"
      ],
      "metadata": {
        "colab": {
          "base_uri": "https://localhost:8080/",
          "height": 363
        },
        "id": "yd6l4oz6sMrB",
        "outputId": "758221ad-25e3-4a44-edc1-c3331feeec21"
      },
      "execution_count": null,
      "outputs": [
        {
          "output_type": "execute_result",
          "data": {
            "text/plain": [
              "         X1        X2  label\n",
              "0  0.535879 -0.820312      0\n",
              "1  0.858313  0.416268      0\n",
              "2 -0.399429 -0.651319      1\n",
              "3 -0.020959 -0.783821      1\n",
              "4 -0.623633  0.536832      1\n",
              "5 -0.628247  0.835893      0\n",
              "6 -0.452196 -0.684702      1\n",
              "7  0.282950  0.758301      1\n",
              "8  0.708247  0.613602      0\n",
              "9 -0.471695 -0.605710      1"
            ],
            "text/html": [
              "\n",
              "  <div id=\"df-5c1bd0d4-06e0-4650-877c-84a0a1e0e3db\">\n",
              "    <div class=\"colab-df-container\">\n",
              "      <div>\n",
              "<style scoped>\n",
              "    .dataframe tbody tr th:only-of-type {\n",
              "        vertical-align: middle;\n",
              "    }\n",
              "\n",
              "    .dataframe tbody tr th {\n",
              "        vertical-align: top;\n",
              "    }\n",
              "\n",
              "    .dataframe thead th {\n",
              "        text-align: right;\n",
              "    }\n",
              "</style>\n",
              "<table border=\"1\" class=\"dataframe\">\n",
              "  <thead>\n",
              "    <tr style=\"text-align: right;\">\n",
              "      <th></th>\n",
              "      <th>X1</th>\n",
              "      <th>X2</th>\n",
              "      <th>label</th>\n",
              "    </tr>\n",
              "  </thead>\n",
              "  <tbody>\n",
              "    <tr>\n",
              "      <th>0</th>\n",
              "      <td>0.535879</td>\n",
              "      <td>-0.820312</td>\n",
              "      <td>0</td>\n",
              "    </tr>\n",
              "    <tr>\n",
              "      <th>1</th>\n",
              "      <td>0.858313</td>\n",
              "      <td>0.416268</td>\n",
              "      <td>0</td>\n",
              "    </tr>\n",
              "    <tr>\n",
              "      <th>2</th>\n",
              "      <td>-0.399429</td>\n",
              "      <td>-0.651319</td>\n",
              "      <td>1</td>\n",
              "    </tr>\n",
              "    <tr>\n",
              "      <th>3</th>\n",
              "      <td>-0.020959</td>\n",
              "      <td>-0.783821</td>\n",
              "      <td>1</td>\n",
              "    </tr>\n",
              "    <tr>\n",
              "      <th>4</th>\n",
              "      <td>-0.623633</td>\n",
              "      <td>0.536832</td>\n",
              "      <td>1</td>\n",
              "    </tr>\n",
              "    <tr>\n",
              "      <th>5</th>\n",
              "      <td>-0.628247</td>\n",
              "      <td>0.835893</td>\n",
              "      <td>0</td>\n",
              "    </tr>\n",
              "    <tr>\n",
              "      <th>6</th>\n",
              "      <td>-0.452196</td>\n",
              "      <td>-0.684702</td>\n",
              "      <td>1</td>\n",
              "    </tr>\n",
              "    <tr>\n",
              "      <th>7</th>\n",
              "      <td>0.282950</td>\n",
              "      <td>0.758301</td>\n",
              "      <td>1</td>\n",
              "    </tr>\n",
              "    <tr>\n",
              "      <th>8</th>\n",
              "      <td>0.708247</td>\n",
              "      <td>0.613602</td>\n",
              "      <td>0</td>\n",
              "    </tr>\n",
              "    <tr>\n",
              "      <th>9</th>\n",
              "      <td>-0.471695</td>\n",
              "      <td>-0.605710</td>\n",
              "      <td>1</td>\n",
              "    </tr>\n",
              "  </tbody>\n",
              "</table>\n",
              "</div>\n",
              "      <button class=\"colab-df-convert\" onclick=\"convertToInteractive('df-5c1bd0d4-06e0-4650-877c-84a0a1e0e3db')\"\n",
              "              title=\"Convert this dataframe to an interactive table.\"\n",
              "              style=\"display:none;\">\n",
              "        \n",
              "  <svg xmlns=\"http://www.w3.org/2000/svg\" height=\"24px\"viewBox=\"0 0 24 24\"\n",
              "       width=\"24px\">\n",
              "    <path d=\"M0 0h24v24H0V0z\" fill=\"none\"/>\n",
              "    <path d=\"M18.56 5.44l.94 2.06.94-2.06 2.06-.94-2.06-.94-.94-2.06-.94 2.06-2.06.94zm-11 1L8.5 8.5l.94-2.06 2.06-.94-2.06-.94L8.5 2.5l-.94 2.06-2.06.94zm10 10l.94 2.06.94-2.06 2.06-.94-2.06-.94-.94-2.06-.94 2.06-2.06.94z\"/><path d=\"M17.41 7.96l-1.37-1.37c-.4-.4-.92-.59-1.43-.59-.52 0-1.04.2-1.43.59L10.3 9.45l-7.72 7.72c-.78.78-.78 2.05 0 2.83L4 21.41c.39.39.9.59 1.41.59.51 0 1.02-.2 1.41-.59l7.78-7.78 2.81-2.81c.8-.78.8-2.07 0-2.86zM5.41 20L4 18.59l7.72-7.72 1.47 1.35L5.41 20z\"/>\n",
              "  </svg>\n",
              "      </button>\n",
              "      \n",
              "  <style>\n",
              "    .colab-df-container {\n",
              "      display:flex;\n",
              "      flex-wrap:wrap;\n",
              "      gap: 12px;\n",
              "    }\n",
              "\n",
              "    .colab-df-convert {\n",
              "      background-color: #E8F0FE;\n",
              "      border: none;\n",
              "      border-radius: 50%;\n",
              "      cursor: pointer;\n",
              "      display: none;\n",
              "      fill: #1967D2;\n",
              "      height: 32px;\n",
              "      padding: 0 0 0 0;\n",
              "      width: 32px;\n",
              "    }\n",
              "\n",
              "    .colab-df-convert:hover {\n",
              "      background-color: #E2EBFA;\n",
              "      box-shadow: 0px 1px 2px rgba(60, 64, 67, 0.3), 0px 1px 3px 1px rgba(60, 64, 67, 0.15);\n",
              "      fill: #174EA6;\n",
              "    }\n",
              "\n",
              "    [theme=dark] .colab-df-convert {\n",
              "      background-color: #3B4455;\n",
              "      fill: #D2E3FC;\n",
              "    }\n",
              "\n",
              "    [theme=dark] .colab-df-convert:hover {\n",
              "      background-color: #434B5C;\n",
              "      box-shadow: 0px 1px 3px 1px rgba(0, 0, 0, 0.15);\n",
              "      filter: drop-shadow(0px 1px 2px rgba(0, 0, 0, 0.3));\n",
              "      fill: #FFFFFF;\n",
              "    }\n",
              "  </style>\n",
              "\n",
              "      <script>\n",
              "        const buttonEl =\n",
              "          document.querySelector('#df-5c1bd0d4-06e0-4650-877c-84a0a1e0e3db button.colab-df-convert');\n",
              "        buttonEl.style.display =\n",
              "          google.colab.kernel.accessAllowed ? 'block' : 'none';\n",
              "\n",
              "        async function convertToInteractive(key) {\n",
              "          const element = document.querySelector('#df-5c1bd0d4-06e0-4650-877c-84a0a1e0e3db');\n",
              "          const dataTable =\n",
              "            await google.colab.kernel.invokeFunction('convertToInteractive',\n",
              "                                                     [key], {});\n",
              "          if (!dataTable) return;\n",
              "\n",
              "          const docLinkHtml = 'Like what you see? Visit the ' +\n",
              "            '<a target=\"_blank\" href=https://colab.research.google.com/notebooks/data_table.ipynb>data table notebook</a>'\n",
              "            + ' to learn more about interactive tables.';\n",
              "          element.innerHTML = '';\n",
              "          dataTable['output_type'] = 'display_data';\n",
              "          await google.colab.output.renderOutput(dataTable, element);\n",
              "          const docLink = document.createElement('div');\n",
              "          docLink.innerHTML = docLinkHtml;\n",
              "          element.appendChild(docLink);\n",
              "        }\n",
              "      </script>\n",
              "    </div>\n",
              "  </div>\n",
              "  "
            ]
          },
          "metadata": {},
          "execution_count": 44
        }
      ]
    },
    {
      "cell_type": "code",
      "source": [
        "import matplotlib.pyplot as plt\n",
        "plt.scatter(x=X[:, 0],\n",
        "            y=X[:, 1],\n",
        "            c=y,\n",
        "            cmap=plt.cm.RdYlBu)\n"
      ],
      "metadata": {
        "colab": {
          "base_uri": "https://localhost:8080/",
          "height": 283
        },
        "id": "rfwTuVFjsi_i",
        "outputId": "a525210f-947a-41cc-f3e6-368b6915f269"
      },
      "execution_count": null,
      "outputs": [
        {
          "output_type": "execute_result",
          "data": {
            "text/plain": [
              "<matplotlib.collections.PathCollection at 0x7f581b3e4e80>"
            ]
          },
          "metadata": {},
          "execution_count": 45
        },
        {
          "output_type": "display_data",
          "data": {
            "text/plain": [
              "<Figure size 432x288 with 1 Axes>"
            ],
            "image/png": "[encoded data removed]"
          },
          "metadata": {
            "needs_background": "light"
          }
        }
      ]
    },
    {
      "cell_type": "markdown",
      "source": [
        "**🟦EN**: The challenge is to classify in which of the circles the dot is located, red or blue.\n",
        "\n",
        "**🟥ES**: El reto consiste en clasificar en cual de los circulo se encuentra el punto, si en el rojo o en el azul."
      ],
      "metadata": {
        "id": "N6o4qPqwtTxV"
      }
    },
    {
      "cell_type": "code",
      "source": [
        "print(f\"X shape: {X.shape}, Y shape: {y.shape}\")"
      ],
      "metadata": {
        "colab": {
          "base_uri": "https://localhost:8080/"
        },
        "id": "p9UkYNPgtHX5",
        "outputId": "9eff68d1-bbeb-4c3d-a667-d2067d81a14b"
      },
      "execution_count": null,
      "outputs": [
        {
          "output_type": "stream",
          "name": "stdout",
          "text": [
            "X shape: (1500, 2), Y shape: (1500,)\n"
          ]
        }
      ]
    },
    {
      "cell_type": "markdown",
      "source": [
        "#### View feature examples"
      ],
      "metadata": {
        "id": "CiHM-_LnurEL"
      }
    },
    {
      "cell_type": "code",
      "source": [
        "X_sample = X[0]\n",
        "y_sample = y[0]\n",
        "\n",
        "print(f\"Values for one sample of X: {X_sample} and theis label {y_sample}\\nShapes for one sample of X: {X_sample.shape} and their label {y_sample.shape}\")"
      ],
      "metadata": {
        "colab": {
          "base_uri": "https://localhost:8080/"
        },
        "id": "Cbf0rCjUuqk-",
        "outputId": "f62be589-f3b6-463f-e426-b923bce2bf43"
      },
      "execution_count": null,
      "outputs": [
        {
          "output_type": "stream",
          "name": "stdout",
          "text": [
            "Values for one sample of X: [ 0.53587933 -0.82031212] and theis label 0\n",
            "Shapes for one sample of X: (2,) and their label ()\n"
          ]
        }
      ]
    },
    {
      "cell_type": "markdown",
      "source": [
        "### Turn data into tensors and create train and test splits"
      ],
      "metadata": {
        "id": "42KHbmedvbeh"
      }
    },
    {
      "cell_type": "code",
      "source": [
        "# Data -> tensors\n",
        "import torch\n",
        "\n",
        "# Transform into tensor\n",
        "\n",
        "X = torch.from_numpy(X).type(torch.float)\n",
        "y = torch.from_numpy(y).type(torch.float)\n",
        "\n",
        "print(f\"X type: {type(X)} X DataType: {X.dtype}\\nY type: {type(y)} Y DataType: {y.dtype} \")"
      ],
      "metadata": {
        "colab": {
          "base_uri": "https://localhost:8080/"
        },
        "id": "U7uV8lvPuqhE",
        "outputId": "6a0a4856-2287-4a52-81ec-ef4f8f297010"
      },
      "execution_count": null,
      "outputs": [
        {
          "output_type": "stream",
          "name": "stdout",
          "text": [
            "X type: <class 'torch.Tensor'> X DataType: torch.float32\n",
            "Y type: <class 'torch.Tensor'> Y DataType: torch.float32 \n"
          ]
        }
      ]
    },
    {
      "cell_type": "markdown",
      "source": [
        "### Train / test split"
      ],
      "metadata": {
        "id": "KJOB56gw7SX1"
      }
    },
    {
      "cell_type": "code",
      "source": [
        "from sklearn.model_selection import train_test_split\n",
        "\n",
        "X_train, X_test, y_train, y_test = train_test_split(X, y, test_size=0.2, random_state=10)\n",
        "\n",
        "print(f\"X Train: {len(X_train)} // Test: {len(X_test)}\")\n",
        "print(f\"y Train: {len(y_train)} // Test: {len(y_test)}\")"
      ],
      "metadata": {
        "colab": {
          "base_uri": "https://localhost:8080/"
        },
        "id": "YD7UhFXw7RzA",
        "outputId": "f700a477-69a8-40f4-d1b1-5fcfaa358658"
      },
      "execution_count": null,
      "outputs": [
        {
          "output_type": "stream",
          "name": "stdout",
          "text": [
            "X Train: 1200 // Test: 300\n",
            "y Train: 1200 // Test: 300\n"
          ]
        }
      ]
    },
    {
      "cell_type": "markdown",
      "source": [
        "## 2. Build a model\n",
        "\n",
        "**🟦EN**: We want:\n",
        "1. Setup device agonistic code so our code will run on an acceleratos (GPU // TPU) if there is one.\n",
        "2. Construct a model (by subclassign `nn.Module`).\n",
        "3. Define a loss function and optimizer.\n",
        "4. Create a training and test loop.\n",
        "\n",
        "**🟥ES**: Queremos:\n",
        "1. Configurar código agonístico del dispositivo para que nuestro código se ejecute en un aceleratos (GPU // TPU) si lo hay.\n",
        "2. Construir un modelo (subclasificando `nn.Module`).\n",
        "3. 3. Definir una función de pérdida y un optimizador.\n",
        "4. 4. Crear un bucle de entrenamiento y prueba."
      ],
      "metadata": {
        "id": "gF6UZBYktYRR"
      }
    },
    {
      "cell_type": "code",
      "source": [
        "# Import PyTorch\n",
        "import torch\n",
        "from torch import nn\n",
        "\n",
        "# Agnostic\n",
        "device = \"cuda\" if torch.cuda.is_available() else \"cpu\"\n",
        "print(f\"Device: {device}\")"
      ],
      "metadata": {
        "colab": {
          "base_uri": "https://localhost:8080/"
        },
        "id": "coE6QG_a8y2x",
        "outputId": "300b6658-2955-4ff6-f349-ec2bb247eb8a"
      },
      "execution_count": null,
      "outputs": [
        {
          "output_type": "stream",
          "name": "stdout",
          "text": [
            "Device: cpu\n"
          ]
        }
      ]
    },
    {
      "cell_type": "markdown",
      "source": [
        "**🟦EN**: Now we've setup device agnostic code, let's create a model that:\n",
        "\n",
        "1. Subclasses `nn.Module`(almost all models in PyTorch subclass `nn.Module`)\n",
        "2. Create 2 `nn.Linears()` layers that are capable of handling the shapes our data.\n",
        "3. Define a `forward()` method that outlines the forward pass (or frward computation) of the model\n",
        "4. Instatiate an instance of our model class and send it to the target `device`\n",
        "**🟥ES**: Ahora que hemos configurado el código agnóstico de dispositivo, vamos a crear un modelo que:\n",
        "\n",
        "1. Subclase `nn.Module`(casi todos los modelos en PyTorch subclase `nn.Module`)\n",
        "2. 2. Cree 2 capas `nn.Linears()` que sean capaces de manejar las formas de nuestros datos.\n",
        "3. 3. Definir un método `forward()` que esboce el paso hacia adelante (o cálculo hacia adelante) del modelo.\n",
        "4. Instatiate una instancia de nuestra clase de modelo y enviarlo a la `device` de destino"
      ],
      "metadata": {
        "id": "Maoj2D4ZtYTg"
      }
    },
    {
      "cell_type": "code",
      "source": [
        "IN_FEAT = len(X_train.shape)\n",
        "OUT_FEAT = len(y_train.shape)\n",
        "\n",
        "print(f\"in_features: {IN_FEAT} \\\\ out_features: {OUT_FEAT}\")"
      ],
      "metadata": {
        "colab": {
          "base_uri": "https://localhost:8080/"
        },
        "id": "sj4YIAcM-fKW",
        "outputId": "f32fb4a2-622b-4aa3-f964-38e5b7ee9589"
      },
      "execution_count": null,
      "outputs": [
        {
          "output_type": "stream",
          "name": "stdout",
          "text": [
            "in_features: 2 \\ out_features: 1\n"
          ]
        }
      ]
    },
    {
      "cell_type": "code",
      "source": [
        "\n",
        "# Contruct model\n",
        "class CircleClassV1(nn.Module):\n",
        "  def __inti__(self): \n",
        "    super().__init__()\n",
        "    # Create linear layers capable of handling the shapes of our data. \n",
        "    # self.layer_1 = nn.Linear(in_features=IN_FEAT, out_features=5) # Take in 2 features and upscales to 5 features\n",
        "    # self.layer_2 = nn.Linear(in_features=5, out_features=OUT_FEAT) # Take in 5 features from previous layer and output a single feature\n",
        "\n",
        "    self.two_linear_layers = nn.Sequential(\n",
        "        nn.Linear(in_features=IN_FEAT, out_features=5),\n",
        "        nn.Linear(in_features=5, out_features=OUT_FEAT)\n",
        "    )\n",
        "\n",
        "  def forward(self, x):\n",
        "    return self.layer_2(self.layer_1(x)) # x => l1 => l2 => OP\n",
        "\n",
        "  # Instantiate an instance of our model class and send it to the target device\n"
      ],
      "metadata": {
        "id": "237ZneXh9yDw"
      },
      "execution_count": null,
      "outputs": []
    },
    {
      "cell_type": "code",
      "source": [
        "def plot_decision_boundary(model: torch.nn.Module, X: torch.Tensor, y: torch.Tensor):\n",
        "    \"\"\"Plots decision boundaries of model predicting on X in comparison to y.\n",
        "    Source - https://madewithml.com/courses/foundations/neural-networks/ (with modifications)\n",
        "    \"\"\"\n",
        "    # Put everything to CPU (works better with NumPy + Matplotlib)\n",
        "    model.to(\"cpu\")\n",
        "    X, y = X.to(\"cpu\"), y.to(\"cpu\")\n",
        "\n",
        "    # Setup prediction boundaries and grid\n",
        "    x_min, x_max = X[:, 0].min() - 0.1, X[:, 0].max() + 0.1\n",
        "    y_min, y_max = X[:, 1].min() - 0.1, X[:, 1].max() + 0.1\n",
        "    xx, yy = np.meshgrid(np.linspace(x_min, x_max, 101), np.linspace(y_min, y_max, 101))\n",
        "\n",
        "    # Make features\n",
        "    X_to_pred_on = torch.from_numpy(np.column_stack((xx.ravel(), yy.ravel()))).float()\n",
        "\n",
        "    # Make predictions\n",
        "    model.eval()\n",
        "    with torch.inference_mode():\n",
        "        y_logits = model(X_to_pred_on)\n",
        "\n",
        "    # Test for multi-class or binary and adjust logits to prediction labels\n",
        "    if len(torch.unique(y)) > 2:\n",
        "        y_pred = torch.softmax(y_logits, dim=1).argmax(dim=1)  # mutli-class\n",
        "    else:\n",
        "        y_pred = torch.round(torch.sigmoid(y_logits))  # binary\n",
        "\n",
        "    # Reshape preds and plot\n",
        "    y_pred = y_pred.reshape(xx.shape).detach().numpy()\n",
        "    plt.contourf(xx, yy, y_pred, cmap=plt.cm.RdYlBu, alpha=0.7)\n",
        "    plt.scatter(X[:, 0], X[:, 1], c=y, s=40, cmap=plt.cm.RdYlBu)\n",
        "    plt.xlim(xx.min(), xx.max())\n",
        "    plt.ylim(yy.min(), yy.max())"
      ],
      "metadata": {
        "id": "fks7z_X81J4p"
      },
      "execution_count": null,
      "outputs": []
    },
    {
      "cell_type": "code",
      "source": [
        "model_circle = CircleClassV1().to(device)\n",
        "model_circle"
      ],
      "metadata": {
        "id": "isTKzXwDAifp",
        "outputId": "c989fb50-f63e-4199-bcfe-322d723c08be",
        "colab": {
          "base_uri": "https://localhost:8080/"
        }
      },
      "execution_count": null,
      "outputs": [
        {
          "output_type": "execute_result",
          "data": {
            "text/plain": [
              "CircleClassV1()"
            ]
          },
          "metadata": {},
          "execution_count": 53
        }
      ]
    },
    {
      "cell_type": "code",
      "source": [
        "model_circleV2 = nn.Sequential(\n",
        "    nn.Linear(in_features=IN_FEAT, out_features=5),\n",
        "    nn.Linear(in_features=5, out_features=OUT_FEAT)\n",
        ").to(device)\n",
        "\n",
        "model_circleV2"
      ],
      "metadata": {
        "colab": {
          "base_uri": "https://localhost:8080/"
        },
        "id": "hnqjRE7UAMwv",
        "outputId": "1168bc7b-2318-4493-d7c7-59420e46a736"
      },
      "execution_count": null,
      "outputs": [
        {
          "output_type": "execute_result",
          "data": {
            "text/plain": [
              "Sequential(\n",
              "  (0): Linear(in_features=2, out_features=5, bias=True)\n",
              "  (1): Linear(in_features=5, out_features=1, bias=True)\n",
              ")"
            ]
          },
          "metadata": {},
          "execution_count": 54
        }
      ]
    },
    {
      "cell_type": "code",
      "source": [
        "model_circle.state_dict()"
      ],
      "metadata": {
        "colab": {
          "base_uri": "https://localhost:8080/"
        },
        "id": "LiaSazqxiDu_",
        "outputId": "2811fefa-4448-4788-8dd6-8d464d3b936f"
      },
      "execution_count": null,
      "outputs": [
        {
          "output_type": "execute_result",
          "data": {
            "text/plain": [
              "OrderedDict()"
            ]
          },
          "metadata": {},
          "execution_count": 55
        }
      ]
    },
    {
      "cell_type": "code",
      "source": [
        "untrained_predictions = model_circleV2(X_test.to(device))\n",
        "print(f\"Predictions length: {len(untrained_predictions)}, Shape: {untrained_predictions.shape}\\nTest length {len(X_test)} Test Shape: {X_test.shape}\")\n",
        "print(f\"5 firsts predictions: {untrained_predictions[:5]}\\5 firsts labels: {y_test[:5]}\")"
      ],
      "metadata": {
        "colab": {
          "base_uri": "https://localhost:8080/"
        },
        "id": "MIQMYQiuilAz",
        "outputId": "46b9930a-7ad2-4ca0-8ec7-56095ad837ce"
      },
      "execution_count": null,
      "outputs": [
        {
          "output_type": "stream",
          "name": "stdout",
          "text": [
            "Predictions length: 300, Shape: torch.Size([300, 1])\n",
            "Test length 300 Test Shape: torch.Size([300, 2])\n",
            "5 firsts predictions: tensor([[0.1622],\n",
            "        [0.3309],\n",
            "        [0.2876],\n",
            "        [0.5611],\n",
            "        [0.4671]], grad_fn=<SliceBackward0>)\u0005 firsts labels: tensor([0., 1., 1., 0., 1.])\n"
          ]
        }
      ]
    },
    {
      "cell_type": "markdown",
      "source": [
        "### 2.1 Setup loss function and optimizer\n",
        "\n",
        "**🟦EN**: Which loss function or optimizer shoudl you use\n",
        "\n",
        "In this problem, for exemple regression you might want MAE (Mean absolute error) or MSE (mean squared error).\n",
        "\n",
        "As a reminder, the loss function measures how *wrong* your models prediction are\n",
        "\n",
        "And for optimizers two of the most common and useful are SGD or Adam, howeber PyTorch has many built-in options.\n",
        "\n",
        "* For the loss functiosn we're going to use `torch.nn.VECWithLogitsLoss()`, for more on what binary cross entropy (BCE).\n",
        "\n",
        "* For a definition on what logit is in deep learning\n",
        "\n",
        "* Different optimizers see `torch.optim`\n",
        "\n",
        "**🟥ES**: ¿Qué función de pérdida u optimizador debería utilizar?\n",
        "\n",
        "En este problema, por ejemplo de regresión, es posible que desee MAE (error absoluto medio) o MSE (error cuadrático medio).\n",
        "\n",
        "Como recordatorio, la función de pérdida mide lo *equivocada* que es la predicción de tu modelo.\n",
        "\n",
        "Y para los optimizadores dos de los más comunes y útiles son SGD o Adam, aunque PyTorch tiene muchas opciones incorporadas.\n",
        "\n",
        "* Para la función de pérdida vamos a utilizar `torch.nn.VECWithLogitsLoss()`, para más información sobre lo que es la entropía cruzada binaria (BCE).\n",
        "\n",
        "* Para una definición de lo que es logit en deep learning\n",
        "\n",
        "* Diferentes optimizadores ver `torch.optim`."
      ],
      "metadata": {
        "id": "ZKNkSIOltYVv"
      }
    },
    {
      "cell_type": "code",
      "source": [
        "loss_fn = nn.BCEWithLogitsLoss() # BCEWWithLogitsLoss => Sigmoid activation function built-in\n",
        "\n",
        "optimizer = torch.optim.SGD(params=model_circleV2.parameters(),\n",
        "                            lr = 0.05)"
      ],
      "metadata": {
        "id": "fsN-pchVhFYS"
      },
      "execution_count": null,
      "outputs": []
    },
    {
      "cell_type": "code",
      "source": [
        "# Calcula accuracy - Out of 100 exemples, what percentage does our model get right?\n",
        "\n",
        "def accuracy_fn(y_true, y_pred):\n",
        "  correct = torch.eq(y_true, y_pred).sum().item()\n",
        "  acc = (correct/len(y_pred)) * 100\n",
        "  return acc"
      ],
      "metadata": {
        "id": "k22Cfbh7j41W"
      },
      "execution_count": null,
      "outputs": []
    },
    {
      "cell_type": "markdown",
      "source": [
        "## 3.Train the model\n",
        "\n",
        "**🟦EN**:\n",
        "1. Forward pass\n",
        "2. Calculate the loss\n",
        "3. Optimizer zero grad\n",
        "4. Loss backward (backpropagation)\n",
        "5. Optimizer step (gradient descent)\n",
        "\n",
        "**🟥ES**:\n",
        "1. Pase hacia delante\n",
        "2. Calcular la pérdida\n",
        "3. Optimizador cero grad\n",
        "4. Pérdida hacia atrás (backpropagation)\n",
        "5. Paso del optimizador (descenso de gradiente)\n"
      ],
      "metadata": {
        "id": "OZcZEsoxtYX0"
      }
    },
    {
      "cell_type": "markdown",
      "source": [
        "### 3.1 Going from raw logits => predictions probabilities => prediction labels.\n",
        "\n",
        "**🟦EN**: The outputs of our model will be raw **logits**.\n",
        "\n",
        "We can convert these **logits** into prediction probability by passing them to some kind of activation function (sigmoid, binay class, etc...).\n",
        "\n",
        "Then we can convert the prediction probabilities of our model into **prediction labels** by rounding them or taking the `argmax()` value.\n",
        "\n",
        "**🟥ES**: Las salidas de nuestro modelo van a ser **logits** en bruto\n",
        "\n",
        "Podemos convertir estos **logits** en probabilidad de predicción pasándolos a algún tipo de función de activación (sigmoide, binay class, etc...)\n",
        "\n",
        "Luego podemos convertir las probabilidades de predicción de nuestro modelo en **etiquetas de predicción** redondeándolas o tomando el valor `argmax()`."
      ],
      "metadata": {
        "id": "5s0N6LuEtYaI"
      }
    },
    {
      "cell_type": "code",
      "source": [
        "# View the first 5 outputs of the forward pass on the test data\n",
        "model_circleV2.eval()\n",
        "\n",
        "with torch.inference_mode():\n",
        "  y_log = model_circleV2(X_test.to(device))[:5]\n",
        "  \n",
        "y_log"
      ],
      "metadata": {
        "colab": {
          "base_uri": "https://localhost:8080/"
        },
        "id": "SyOxewgelnxU",
        "outputId": "422f4bbf-09fa-4cb7-d8a0-6bf5cb958fa3"
      },
      "execution_count": null,
      "outputs": [
        {
          "output_type": "execute_result",
          "data": {
            "text/plain": [
              "tensor([[0.1622],\n",
              "        [0.3309],\n",
              "        [0.2876],\n",
              "        [0.5611],\n",
              "        [0.4671]])"
            ]
          },
          "metadata": {},
          "execution_count": 63
        }
      ]
    },
    {
      "cell_type": "markdown",
      "source": [
        "**🟦EN**: We need these numbers to be 0 or 1\n",
        "\n",
        "**🟥ES**: Necesitamos que estos numeros sean 0 o 1"
      ],
      "metadata": {
        "id": "stfan3POtYcZ"
      }
    },
    {
      "cell_type": "code",
      "source": [
        "# Use sigmoid activaton function in prediction probs\n",
        "\n",
        "y_preds = torch.sigmoid(y_log)\n",
        "y_preds"
      ],
      "metadata": {
        "colab": {
          "base_uri": "https://localhost:8080/"
        },
        "id": "zehWXH0mo3U_",
        "outputId": "df00aeb5-a51f-4a2d-e3aa-e31cb3710855"
      },
      "execution_count": null,
      "outputs": [
        {
          "output_type": "execute_result",
          "data": {
            "text/plain": [
              "tensor([[0.5405],\n",
              "        [0.5820],\n",
              "        [0.5714],\n",
              "        [0.6367],\n",
              "        [0.6147]])"
            ]
          },
          "metadata": {},
          "execution_count": 64
        }
      ]
    },
    {
      "cell_type": "code",
      "source": [
        "# if 0.5 < y_preds[x] == 1 // if 0.5 > y_preds[x] == 0\n",
        "y_preds = torch.round(y_preds)\n",
        "y_preds_label = torch.round(torch.sigmoid(model_circleV2(X_test.to(device))[:5]))\n",
        "\n",
        "print(torch.eq(y_preds.squeeze(), y_preds_label.squeeze()))"
      ],
      "metadata": {
        "colab": {
          "base_uri": "https://localhost:8080/"
        },
        "id": "5oNuzVWMpGGX",
        "outputId": "33ac7c87-62bb-46bb-a18f-d235aefab1f0"
      },
      "execution_count": null,
      "outputs": [
        {
          "output_type": "stream",
          "name": "stdout",
          "text": [
            "tensor([True, True, True, True, True])\n"
          ]
        }
      ]
    },
    {
      "cell_type": "markdown",
      "source": [
        "### 3.1 Build training / testing loop "
      ],
      "metadata": {
        "id": "R9mOTsIfqbgX"
      }
    },
    {
      "cell_type": "code",
      "source": [
        " torch.manual_seed(10)\n",
        " torch.cuda.manual_seed(10)\n",
        "\n",
        " # Set the number of epochs\n",
        " epochs = 100\n",
        "\n",
        "# Put training data to device\n",
        "\n",
        "X_train, y_train = X_train.to(device), y_train.to(device)\n",
        "X_test, y_test = X_test.to(device), y_test.to(device)\n",
        "\n",
        "for epoch in range(epochs):\n",
        "  # Train\n",
        "  model_circleV2.train()\n",
        "\n",
        "  # Forward pass\n",
        "  y_log = model_circleV2(X_train).squeeze()\n",
        "  y_pred = torch.round(torch.sigmoid(y_log)) # turn logits => preds probs => pred labels\n",
        "\n",
        "  # 2. Calculate loss and accuracy\n",
        "\n",
        "  loss = loss_fn(y_log, y_train) # Expects raw logits as imput.\n",
        "\n",
        "  acc = accuracy_fn(y_true=y_train,\n",
        "                    y_pred=y_pred)\n",
        "  \n",
        "  # 3. Optimizer zero grad\n",
        "  optimizer.zero_grad()\n",
        "\n",
        "  # 4. Loss backward\n",
        "  loss.backward()\n",
        "\n",
        "  # 5. Optimizer step \"gradient descent\"\n",
        "  optimizer.step()\n",
        "\n",
        "  # Testing\n",
        "  model_circle.eval()\n",
        "  with torch.inference_mode():\n",
        "\n",
        "    test_log = model_circleV2(X_test).squeeze()\n",
        "    test_pred = torch.round(torch.sigmoid(test_log))\n",
        "\n",
        "    # Calculate test loss/accuracy\n",
        "    test_loss = loss_fn(test_log, y_test)\n",
        "\n",
        "    test_acc = accuracy_fn(y_true=y_test,\n",
        "                           y_pred=test_pred)\n",
        "    \n",
        "    # Print info\n",
        "    if epoch % 10 == 0:\n",
        "      print(f\"Epoch: {epoch} | Loss: {loss:.5f} | Accuracy: {acc:.2f}% | Test loss: {test_loss:.2f} | Test accuracy: {test_acc:.2f}%\")"
      ],
      "metadata": {
        "colab": {
          "base_uri": "https://localhost:8080/"
        },
        "id": "3V_XzO7PqaoZ",
        "outputId": "9c15e5d6-ee0a-452f-9e42-0bf86119cbf9"
      },
      "execution_count": null,
      "outputs": [
        {
          "output_type": "stream",
          "name": "stdout",
          "text": [
            "Epoch: 0 | Loss: 0.70987 | Accuracy: 50.25% | Test loss: 0.71 | Test accuracy: 49.00%\n",
            "Epoch: 10 | Loss: 0.70155 | Accuracy: 50.25% | Test loss: 0.70 | Test accuracy: 49.00%\n",
            "Epoch: 20 | Loss: 0.69753 | Accuracy: 50.25% | Test loss: 0.70 | Test accuracy: 49.00%\n",
            "Epoch: 30 | Loss: 0.69557 | Accuracy: 51.25% | Test loss: 0.69 | Test accuracy: 50.67%\n",
            "Epoch: 40 | Loss: 0.69460 | Accuracy: 58.83% | Test loss: 0.69 | Test accuracy: 55.33%\n",
            "Epoch: 50 | Loss: 0.69410 | Accuracy: 54.33% | Test loss: 0.69 | Test accuracy: 52.00%\n",
            "Epoch: 60 | Loss: 0.69383 | Accuracy: 52.83% | Test loss: 0.69 | Test accuracy: 50.33%\n",
            "Epoch: 70 | Loss: 0.69367 | Accuracy: 52.33% | Test loss: 0.69 | Test accuracy: 51.67%\n",
            "Epoch: 80 | Loss: 0.69357 | Accuracy: 51.42% | Test loss: 0.69 | Test accuracy: 50.67%\n",
            "Epoch: 90 | Loss: 0.69350 | Accuracy: 50.83% | Test loss: 0.69 | Test accuracy: 50.67%\n"
          ]
        }
      ]
    },
    {
      "cell_type": "markdown",
      "source": [
        "4. Make predictions and evaluate the model\n",
        "\n",
        "form the metrics it look like out model isn't "
      ],
      "metadata": {
        "id": "PIRENr8_0bUC"
      }
    },
    {
      "cell_type": "code",
      "source": [
        "import requests\n",
        "from pathlib import Path\n",
        "\n"
      ],
      "metadata": {
        "id": "dIR3biy70UEW"
      },
      "execution_count": null,
      "outputs": []
    }
  ]
}