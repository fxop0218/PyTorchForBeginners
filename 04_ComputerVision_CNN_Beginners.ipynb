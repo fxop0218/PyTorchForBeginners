{
  "nbformat": 4,
  "nbformat_minor": 0,
  "metadata": {
    "colab": {
      "provenance": [],
      "authorship_tag": "ABX9TyPDem99y3FqvJ/Oj4NVT/8e",
      "include_colab_link": true
    },
    "kernelspec": {
      "name": "python3",
      "display_name": "Python 3"
    },
    "language_info": {
      "name": "python"
    },
    "widgets": {
      "application/vnd.jupyter.widget-state+json": {
        "a7da7361e70d47d9adcf369be0ae2c7b": {
          "model_module": "@jupyter-widgets/controls",
          "model_name": "HBoxModel",
          "model_module_version": "1.5.0",
          "state": {
            "_dom_classes": [],
            "_model_module": "@jupyter-widgets/controls",
            "_model_module_version": "1.5.0",
            "_model_name": "HBoxModel",
            "_view_count": null,
            "_view_module": "@jupyter-widgets/controls",
            "_view_module_version": "1.5.0",
            "_view_name": "HBoxView",
            "box_style": "",
            "children": [
              "IPY_MODEL_74b37d9832724e23b21eeec571dec99b",
              "IPY_MODEL_e76171f805ad4b08bdb024c8d0986969",
              "IPY_MODEL_8ad2e7b595b147a5bb004c3a1ccb5a20"
            ],
            "layout": "IPY_MODEL_ca6e79f44fdd42cf96b09ca399ad0517"
          }
        },
        "74b37d9832724e23b21eeec571dec99b": {
          "model_module": "@jupyter-widgets/controls",
          "model_name": "HTMLModel",
          "model_module_version": "1.5.0",
          "state": {
            "_dom_classes": [],
            "_model_module": "@jupyter-widgets/controls",
            "_model_module_version": "1.5.0",
            "_model_name": "HTMLModel",
            "_view_count": null,
            "_view_module": "@jupyter-widgets/controls",
            "_view_module_version": "1.5.0",
            "_view_name": "HTMLView",
            "description": "",
            "description_tooltip": null,
            "layout": "IPY_MODEL_01c08049c18b402bb672f0834fff3d4c",
            "placeholder": "​",
            "style": "IPY_MODEL_2b580424bee14499b5ad59c091b98c64",
            "value": "100%"
          }
        },
        "e76171f805ad4b08bdb024c8d0986969": {
          "model_module": "@jupyter-widgets/controls",
          "model_name": "FloatProgressModel",
          "model_module_version": "1.5.0",
          "state": {
            "_dom_classes": [],
            "_model_module": "@jupyter-widgets/controls",
            "_model_module_version": "1.5.0",
            "_model_name": "FloatProgressModel",
            "_view_count": null,
            "_view_module": "@jupyter-widgets/controls",
            "_view_module_version": "1.5.0",
            "_view_name": "ProgressView",
            "bar_style": "success",
            "description": "",
            "description_tooltip": null,
            "layout": "IPY_MODEL_dfdf0fe163564ec48907619e88ee3d89",
            "max": 30,
            "min": 0,
            "orientation": "horizontal",
            "style": "IPY_MODEL_b9d6b7813d484c61aff9d03289bfdb2f",
            "value": 30
          }
        },
        "8ad2e7b595b147a5bb004c3a1ccb5a20": {
          "model_module": "@jupyter-widgets/controls",
          "model_name": "HTMLModel",
          "model_module_version": "1.5.0",
          "state": {
            "_dom_classes": [],
            "_model_module": "@jupyter-widgets/controls",
            "_model_module_version": "1.5.0",
            "_model_name": "HTMLModel",
            "_view_count": null,
            "_view_module": "@jupyter-widgets/controls",
            "_view_module_version": "1.5.0",
            "_view_name": "HTMLView",
            "description": "",
            "description_tooltip": null,
            "layout": "IPY_MODEL_97573b9031e24e47a649abd75ee46b1d",
            "placeholder": "​",
            "style": "IPY_MODEL_fad5aef01c3d4d7ba22a3a57f1094350",
            "value": " 30/30 [05:30&lt;00:00, 10.75s/it]"
          }
        },
        "ca6e79f44fdd42cf96b09ca399ad0517": {
          "model_module": "@jupyter-widgets/base",
          "model_name": "LayoutModel",
          "model_module_version": "1.2.0",
          "state": {
            "_model_module": "@jupyter-widgets/base",
            "_model_module_version": "1.2.0",
            "_model_name": "LayoutModel",
            "_view_count": null,
            "_view_module": "@jupyter-widgets/base",
            "_view_module_version": "1.2.0",
            "_view_name": "LayoutView",
            "align_content": null,
            "align_items": null,
            "align_self": null,
            "border": null,
            "bottom": null,
            "display": null,
            "flex": null,
            "flex_flow": null,
            "grid_area": null,
            "grid_auto_columns": null,
            "grid_auto_flow": null,
            "grid_auto_rows": null,
            "grid_column": null,
            "grid_gap": null,
            "grid_row": null,
            "grid_template_areas": null,
            "grid_template_columns": null,
            "grid_template_rows": null,
            "height": null,
            "justify_content": null,
            "justify_items": null,
            "left": null,
            "margin": null,
            "max_height": null,
            "max_width": null,
            "min_height": null,
            "min_width": null,
            "object_fit": null,
            "object_position": null,
            "order": null,
            "overflow": null,
            "overflow_x": null,
            "overflow_y": null,
            "padding": null,
            "right": null,
            "top": null,
            "visibility": null,
            "width": null
          }
        },
        "01c08049c18b402bb672f0834fff3d4c": {
          "model_module": "@jupyter-widgets/base",
          "model_name": "LayoutModel",
          "model_module_version": "1.2.0",
          "state": {
            "_model_module": "@jupyter-widgets/base",
            "_model_module_version": "1.2.0",
            "_model_name": "LayoutModel",
            "_view_count": null,
            "_view_module": "@jupyter-widgets/base",
            "_view_module_version": "1.2.0",
            "_view_name": "LayoutView",
            "align_content": null,
            "align_items": null,
            "align_self": null,
            "border": null,
            "bottom": null,
            "display": null,
            "flex": null,
            "flex_flow": null,
            "grid_area": null,
            "grid_auto_columns": null,
            "grid_auto_flow": null,
            "grid_auto_rows": null,
            "grid_column": null,
            "grid_gap": null,
            "grid_row": null,
            "grid_template_areas": null,
            "grid_template_columns": null,
            "grid_template_rows": null,
            "height": null,
            "justify_content": null,
            "justify_items": null,
            "left": null,
            "margin": null,
            "max_height": null,
            "max_width": null,
            "min_height": null,
            "min_width": null,
            "object_fit": null,
            "object_position": null,
            "order": null,
            "overflow": null,
            "overflow_x": null,
            "overflow_y": null,
            "padding": null,
            "right": null,
            "top": null,
            "visibility": null,
            "width": null
          }
        },
        "2b580424bee14499b5ad59c091b98c64": {
          "model_module": "@jupyter-widgets/controls",
          "model_name": "DescriptionStyleModel",
          "model_module_version": "1.5.0",
          "state": {
            "_model_module": "@jupyter-widgets/controls",
            "_model_module_version": "1.5.0",
            "_model_name": "DescriptionStyleModel",
            "_view_count": null,
            "_view_module": "@jupyter-widgets/base",
            "_view_module_version": "1.2.0",
            "_view_name": "StyleView",
            "description_width": ""
          }
        },
        "dfdf0fe163564ec48907619e88ee3d89": {
          "model_module": "@jupyter-widgets/base",
          "model_name": "LayoutModel",
          "model_module_version": "1.2.0",
          "state": {
            "_model_module": "@jupyter-widgets/base",
            "_model_module_version": "1.2.0",
            "_model_name": "LayoutModel",
            "_view_count": null,
            "_view_module": "@jupyter-widgets/base",
            "_view_module_version": "1.2.0",
            "_view_name": "LayoutView",
            "align_content": null,
            "align_items": null,
            "align_self": null,
            "border": null,
            "bottom": null,
            "display": null,
            "flex": null,
            "flex_flow": null,
            "grid_area": null,
            "grid_auto_columns": null,
            "grid_auto_flow": null,
            "grid_auto_rows": null,
            "grid_column": null,
            "grid_gap": null,
            "grid_row": null,
            "grid_template_areas": null,
            "grid_template_columns": null,
            "grid_template_rows": null,
            "height": null,
            "justify_content": null,
            "justify_items": null,
            "left": null,
            "margin": null,
            "max_height": null,
            "max_width": null,
            "min_height": null,
            "min_width": null,
            "object_fit": null,
            "object_position": null,
            "order": null,
            "overflow": null,
            "overflow_x": null,
            "overflow_y": null,
            "padding": null,
            "right": null,
            "top": null,
            "visibility": null,
            "width": null
          }
        },
        "b9d6b7813d484c61aff9d03289bfdb2f": {
          "model_module": "@jupyter-widgets/controls",
          "model_name": "ProgressStyleModel",
          "model_module_version": "1.5.0",
          "state": {
            "_model_module": "@jupyter-widgets/controls",
            "_model_module_version": "1.5.0",
            "_model_name": "ProgressStyleModel",
            "_view_count": null,
            "_view_module": "@jupyter-widgets/base",
            "_view_module_version": "1.2.0",
            "_view_name": "StyleView",
            "bar_color": null,
            "description_width": ""
          }
        },
        "97573b9031e24e47a649abd75ee46b1d": {
          "model_module": "@jupyter-widgets/base",
          "model_name": "LayoutModel",
          "model_module_version": "1.2.0",
          "state": {
            "_model_module": "@jupyter-widgets/base",
            "_model_module_version": "1.2.0",
            "_model_name": "LayoutModel",
            "_view_count": null,
            "_view_module": "@jupyter-widgets/base",
            "_view_module_version": "1.2.0",
            "_view_name": "LayoutView",
            "align_content": null,
            "align_items": null,
            "align_self": null,
            "border": null,
            "bottom": null,
            "display": null,
            "flex": null,
            "flex_flow": null,
            "grid_area": null,
            "grid_auto_columns": null,
            "grid_auto_flow": null,
            "grid_auto_rows": null,
            "grid_column": null,
            "grid_gap": null,
            "grid_row": null,
            "grid_template_areas": null,
            "grid_template_columns": null,
            "grid_template_rows": null,
            "height": null,
            "justify_content": null,
            "justify_items": null,
            "left": null,
            "margin": null,
            "max_height": null,
            "max_width": null,
            "min_height": null,
            "min_width": null,
            "object_fit": null,
            "object_position": null,
            "order": null,
            "overflow": null,
            "overflow_x": null,
            "overflow_y": null,
            "padding": null,
            "right": null,
            "top": null,
            "visibility": null,
            "width": null
          }
        },
        "fad5aef01c3d4d7ba22a3a57f1094350": {
          "model_module": "@jupyter-widgets/controls",
          "model_name": "DescriptionStyleModel",
          "model_module_version": "1.5.0",
          "state": {
            "_model_module": "@jupyter-widgets/controls",
            "_model_module_version": "1.5.0",
            "_model_name": "DescriptionStyleModel",
            "_view_count": null,
            "_view_module": "@jupyter-widgets/base",
            "_view_module_version": "1.2.0",
            "_view_name": "StyleView",
            "description_width": ""
          }
        },
        "8f83d939180c446f9031fbd573e46d4d": {
          "model_module": "@jupyter-widgets/controls",
          "model_name": "HBoxModel",
          "model_module_version": "1.5.0",
          "state": {
            "_dom_classes": [],
            "_model_module": "@jupyter-widgets/controls",
            "_model_module_version": "1.5.0",
            "_model_name": "HBoxModel",
            "_view_count": null,
            "_view_module": "@jupyter-widgets/controls",
            "_view_module_version": "1.5.0",
            "_view_name": "HBoxView",
            "box_style": "",
            "children": [
              "IPY_MODEL_9185dbab0d6f42df8b3597e138713188",
              "IPY_MODEL_3b3f83fae21b453ebf53aaaeb246a75b",
              "IPY_MODEL_e9907979bf454e46b9cc23f674bcc400"
            ],
            "layout": "IPY_MODEL_187bacd77e644662a55e71a9a2c97b21"
          }
        },
        "9185dbab0d6f42df8b3597e138713188": {
          "model_module": "@jupyter-widgets/controls",
          "model_name": "HTMLModel",
          "model_module_version": "1.5.0",
          "state": {
            "_dom_classes": [],
            "_model_module": "@jupyter-widgets/controls",
            "_model_module_version": "1.5.0",
            "_model_name": "HTMLModel",
            "_view_count": null,
            "_view_module": "@jupyter-widgets/controls",
            "_view_module_version": "1.5.0",
            "_view_name": "HTMLView",
            "description": "",
            "description_tooltip": null,
            "layout": "IPY_MODEL_6c0ba7a2cb184c19b8cad4e449347d06",
            "placeholder": "​",
            "style": "IPY_MODEL_4d6debdd0f054621a0481d7ae9b8df4e",
            "value": "Making predictions: 100%"
          }
        },
        "3b3f83fae21b453ebf53aaaeb246a75b": {
          "model_module": "@jupyter-widgets/controls",
          "model_name": "FloatProgressModel",
          "model_module_version": "1.5.0",
          "state": {
            "_dom_classes": [],
            "_model_module": "@jupyter-widgets/controls",
            "_model_module_version": "1.5.0",
            "_model_name": "FloatProgressModel",
            "_view_count": null,
            "_view_module": "@jupyter-widgets/controls",
            "_view_module_version": "1.5.0",
            "_view_name": "ProgressView",
            "bar_style": "success",
            "description": "",
            "description_tooltip": null,
            "layout": "IPY_MODEL_5eafca8dd8404b80875a47fe8c1821cf",
            "max": 313,
            "min": 0,
            "orientation": "horizontal",
            "style": "IPY_MODEL_d928a9c55bc6455aaa0e81c181cb4a94",
            "value": 313
          }
        },
        "e9907979bf454e46b9cc23f674bcc400": {
          "model_module": "@jupyter-widgets/controls",
          "model_name": "HTMLModel",
          "model_module_version": "1.5.0",
          "state": {
            "_dom_classes": [],
            "_model_module": "@jupyter-widgets/controls",
            "_model_module_version": "1.5.0",
            "_model_name": "HTMLModel",
            "_view_count": null,
            "_view_module": "@jupyter-widgets/controls",
            "_view_module_version": "1.5.0",
            "_view_name": "HTMLView",
            "description": "",
            "description_tooltip": null,
            "layout": "IPY_MODEL_e58b5ef47c3d494eb3c841e91addc523",
            "placeholder": "​",
            "style": "IPY_MODEL_507912fe9f0040ef9393dbcf1e24af95",
            "value": " 313/313 [00:01&lt;00:00, 275.18it/s]"
          }
        },
        "187bacd77e644662a55e71a9a2c97b21": {
          "model_module": "@jupyter-widgets/base",
          "model_name": "LayoutModel",
          "model_module_version": "1.2.0",
          "state": {
            "_model_module": "@jupyter-widgets/base",
            "_model_module_version": "1.2.0",
            "_model_name": "LayoutModel",
            "_view_count": null,
            "_view_module": "@jupyter-widgets/base",
            "_view_module_version": "1.2.0",
            "_view_name": "LayoutView",
            "align_content": null,
            "align_items": null,
            "align_self": null,
            "border": null,
            "bottom": null,
            "display": null,
            "flex": null,
            "flex_flow": null,
            "grid_area": null,
            "grid_auto_columns": null,
            "grid_auto_flow": null,
            "grid_auto_rows": null,
            "grid_column": null,
            "grid_gap": null,
            "grid_row": null,
            "grid_template_areas": null,
            "grid_template_columns": null,
            "grid_template_rows": null,
            "height": null,
            "justify_content": null,
            "justify_items": null,
            "left": null,
            "margin": null,
            "max_height": null,
            "max_width": null,
            "min_height": null,
            "min_width": null,
            "object_fit": null,
            "object_position": null,
            "order": null,
            "overflow": null,
            "overflow_x": null,
            "overflow_y": null,
            "padding": null,
            "right": null,
            "top": null,
            "visibility": null,
            "width": null
          }
        },
        "6c0ba7a2cb184c19b8cad4e449347d06": {
          "model_module": "@jupyter-widgets/base",
          "model_name": "LayoutModel",
          "model_module_version": "1.2.0",
          "state": {
            "_model_module": "@jupyter-widgets/base",
            "_model_module_version": "1.2.0",
            "_model_name": "LayoutModel",
            "_view_count": null,
            "_view_module": "@jupyter-widgets/base",
            "_view_module_version": "1.2.0",
            "_view_name": "LayoutView",
            "align_content": null,
            "align_items": null,
            "align_self": null,
            "border": null,
            "bottom": null,
            "display": null,
            "flex": null,
            "flex_flow": null,
            "grid_area": null,
            "grid_auto_columns": null,
            "grid_auto_flow": null,
            "grid_auto_rows": null,
            "grid_column": null,
            "grid_gap": null,
            "grid_row": null,
            "grid_template_areas": null,
            "grid_template_columns": null,
            "grid_template_rows": null,
            "height": null,
            "justify_content": null,
            "justify_items": null,
            "left": null,
            "margin": null,
            "max_height": null,
            "max_width": null,
            "min_height": null,
            "min_width": null,
            "object_fit": null,
            "object_position": null,
            "order": null,
            "overflow": null,
            "overflow_x": null,
            "overflow_y": null,
            "padding": null,
            "right": null,
            "top": null,
            "visibility": null,
            "width": null
          }
        },
        "4d6debdd0f054621a0481d7ae9b8df4e": {
          "model_module": "@jupyter-widgets/controls",
          "model_name": "DescriptionStyleModel",
          "model_module_version": "1.5.0",
          "state": {
            "_model_module": "@jupyter-widgets/controls",
            "_model_module_version": "1.5.0",
            "_model_name": "DescriptionStyleModel",
            "_view_count": null,
            "_view_module": "@jupyter-widgets/base",
            "_view_module_version": "1.2.0",
            "_view_name": "StyleView",
            "description_width": ""
          }
        },
        "5eafca8dd8404b80875a47fe8c1821cf": {
          "model_module": "@jupyter-widgets/base",
          "model_name": "LayoutModel",
          "model_module_version": "1.2.0",
          "state": {
            "_model_module": "@jupyter-widgets/base",
            "_model_module_version": "1.2.0",
            "_model_name": "LayoutModel",
            "_view_count": null,
            "_view_module": "@jupyter-widgets/base",
            "_view_module_version": "1.2.0",
            "_view_name": "LayoutView",
            "align_content": null,
            "align_items": null,
            "align_self": null,
            "border": null,
            "bottom": null,
            "display": null,
            "flex": null,
            "flex_flow": null,
            "grid_area": null,
            "grid_auto_columns": null,
            "grid_auto_flow": null,
            "grid_auto_rows": null,
            "grid_column": null,
            "grid_gap": null,
            "grid_row": null,
            "grid_template_areas": null,
            "grid_template_columns": null,
            "grid_template_rows": null,
            "height": null,
            "justify_content": null,
            "justify_items": null,
            "left": null,
            "margin": null,
            "max_height": null,
            "max_width": null,
            "min_height": null,
            "min_width": null,
            "object_fit": null,
            "object_position": null,
            "order": null,
            "overflow": null,
            "overflow_x": null,
            "overflow_y": null,
            "padding": null,
            "right": null,
            "top": null,
            "visibility": null,
            "width": null
          }
        },
        "d928a9c55bc6455aaa0e81c181cb4a94": {
          "model_module": "@jupyter-widgets/controls",
          "model_name": "ProgressStyleModel",
          "model_module_version": "1.5.0",
          "state": {
            "_model_module": "@jupyter-widgets/controls",
            "_model_module_version": "1.5.0",
            "_model_name": "ProgressStyleModel",
            "_view_count": null,
            "_view_module": "@jupyter-widgets/base",
            "_view_module_version": "1.2.0",
            "_view_name": "StyleView",
            "bar_color": null,
            "description_width": ""
          }
        },
        "e58b5ef47c3d494eb3c841e91addc523": {
          "model_module": "@jupyter-widgets/base",
          "model_name": "LayoutModel",
          "model_module_version": "1.2.0",
          "state": {
            "_model_module": "@jupyter-widgets/base",
            "_model_module_version": "1.2.0",
            "_model_name": "LayoutModel",
            "_view_count": null,
            "_view_module": "@jupyter-widgets/base",
            "_view_module_version": "1.2.0",
            "_view_name": "LayoutView",
            "align_content": null,
            "align_items": null,
            "align_self": null,
            "border": null,
            "bottom": null,
            "display": null,
            "flex": null,
            "flex_flow": null,
            "grid_area": null,
            "grid_auto_columns": null,
            "grid_auto_flow": null,
            "grid_auto_rows": null,
            "grid_column": null,
            "grid_gap": null,
            "grid_row": null,
            "grid_template_areas": null,
            "grid_template_columns": null,
            "grid_template_rows": null,
            "height": null,
            "justify_content": null,
            "justify_items": null,
            "left": null,
            "margin": null,
            "max_height": null,
            "max_width": null,
            "min_height": null,
            "min_width": null,
            "object_fit": null,
            "object_position": null,
            "order": null,
            "overflow": null,
            "overflow_x": null,
            "overflow_y": null,
            "padding": null,
            "right": null,
            "top": null,
            "visibility": null,
            "width": null
          }
        },
        "507912fe9f0040ef9393dbcf1e24af95": {
          "model_module": "@jupyter-widgets/controls",
          "model_name": "DescriptionStyleModel",
          "model_module_version": "1.5.0",
          "state": {
            "_model_module": "@jupyter-widgets/controls",
            "_model_module_version": "1.5.0",
            "_model_name": "DescriptionStyleModel",
            "_view_count": null,
            "_view_module": "@jupyter-widgets/base",
            "_view_module_version": "1.2.0",
            "_view_name": "StyleView",
            "description_width": ""
          }
        }
      }
    },
    "accelerator": "GPU",
    "gpuClass": "standard"
  },
  "cells": [
    {
      "cell_type": "markdown",
      "metadata": {
        "id": "view-in-github",
        "colab_type": "text"
      },
      "source": [
        "<a href=\"https://colab.research.google.com/github/fxop0218/PyTorchForBeginners/blob/main/04_ComputerVision_CNN_Beginners.ipynb\" target=\"_parent\"><img src=\"https://colab.research.google.com/assets/colab-badge.svg\" alt=\"Open In Colab\"/></a>"
      ]
    },
    {
      "cell_type": "markdown",
      "source": [
        "# Buildinf a CNN (Convolution Neuronal Network)\n",
        "\n",
        "**🟦EN**:\n",
        "* CNN's also known as ConvNets\n",
        "* CNN's are know gor their capabilities to find patterns on visual data\n",
        "* To understand how works visit this page [CNN, visual exemple](https://poloclub.github.io/cnn-explainer/)\n",
        "\n",
        "**🟥ES**:\n",
        "* CNN también conocidas como ConvNets\n",
        "* Las CNN son conocidas por su capacidad para encontrar patrones en datos visuales.\n",
        "* Para entender mejor como funciona, visitar esta pagina [Ejemplo visual de CNN](https://poloclub.github.io/cnn-explainer/)"
      ],
      "metadata": {
        "id": "rHCSpLbqxmaL"
      }
    },
    {
      "cell_type": "code",
      "source": [
        "!pip install torchvision"
      ],
      "metadata": {
        "colab": {
          "base_uri": "https://localhost:8080/"
        },
        "id": "hyHCyRo1yCkA",
        "outputId": "6f99f26a-bf02-4935-ac98-046632ceb21f"
      },
      "execution_count": 59,
      "outputs": [
        {
          "output_type": "stream",
          "name": "stdout",
          "text": [
            "Looking in indexes: https://pypi.org/simple, https://us-python.pkg.dev/colab-wheels/public/simple/\n",
            "Requirement already satisfied: torchvision in /usr/local/lib/python3.8/dist-packages (0.14.0+cu116)\n",
            "Requirement already satisfied: typing-extensions in /usr/local/lib/python3.8/dist-packages (from torchvision) (4.4.0)\n",
            "Requirement already satisfied: requests in /usr/local/lib/python3.8/dist-packages (from torchvision) (2.25.1)\n",
            "Requirement already satisfied: numpy in /usr/local/lib/python3.8/dist-packages (from torchvision) (1.21.6)\n",
            "Requirement already satisfied: torch==1.13.0 in /usr/local/lib/python3.8/dist-packages (from torchvision) (1.13.0+cu116)\n",
            "Requirement already satisfied: pillow!=8.3.*,>=5.3.0 in /usr/local/lib/python3.8/dist-packages (from torchvision) (7.1.2)\n",
            "Requirement already satisfied: certifi>=2017.4.17 in /usr/local/lib/python3.8/dist-packages (from requests->torchvision) (2022.12.7)\n",
            "Requirement already satisfied: chardet<5,>=3.0.2 in /usr/local/lib/python3.8/dist-packages (from requests->torchvision) (4.0.0)\n",
            "Requirement already satisfied: idna<3,>=2.5 in /usr/local/lib/python3.8/dist-packages (from requests->torchvision) (2.10)\n",
            "Requirement already satisfied: urllib3<1.27,>=1.21.1 in /usr/local/lib/python3.8/dist-packages (from requests->torchvision) (1.24.3)\n"
          ]
        }
      ]
    },
    {
      "cell_type": "code",
      "execution_count": 60,
      "metadata": {
        "colab": {
          "base_uri": "https://localhost:8080/"
        },
        "id": "4IwZGFs2xfvw",
        "outputId": "8f368450-0ca7-4605-e855-604af52dbaca"
      },
      "outputs": [
        {
          "output_type": "stream",
          "name": "stdout",
          "text": [
            "torch version: 1.13.0+cu116\n",
            "torchvision version: 0.14.0+cu116\n"
          ]
        }
      ],
      "source": [
        "# Imports\n",
        "import torch\n",
        "import torchvision\n",
        "import matplotlib.pyplot as plt\n",
        "from torch import nn\n",
        "from torchvision import datasets, transforms, models\n",
        "from torchvision.transforms import ToTensor\n",
        "\n",
        "print(f\"torch version: {torch.__version__}\\ntorchvision version: {torchvision.__version__}\")"
      ]
    },
    {
      "cell_type": "markdown",
      "source": [
        "## 1. Getting a dataset\n",
        "\n",
        "**🟦EN**: The dataset we will use will be the one from FashionMNIST\n",
        "\n",
        "**🟥ES**: El primer set de datos que utilizaremos sera el de FashionMNIST"
      ],
      "metadata": {
        "id": "FT166kT2yUhQ"
      }
    },
    {
      "cell_type": "code",
      "source": [
        "# Setup\n",
        "train_data = datasets.FashionMNIST(\n",
        "    root = \"data\", # The downloaded data is stored in\n",
        "    train = True, \n",
        "    download = True, # True if want to download and false if not\n",
        "    transform = ToTensor(), # How do we want to transform the data?\n",
        "    target_transform=None # How dow we want to transform the labels/targets?\n",
        ")\n",
        "\n",
        "test_data = datasets.FashionMNIST(\n",
        "    root = \"data\",\n",
        "    train = False,\n",
        "    download = True,\n",
        "    transform = ToTensor(),\n",
        "    target_transform=None\n",
        ")"
      ],
      "metadata": {
        "id": "4OqHXBZdyWfm"
      },
      "execution_count": 61,
      "outputs": []
    },
    {
      "cell_type": "code",
      "source": [
        "device = \"cuda\" if torch.cuda.is_available else \"cpu\""
      ],
      "metadata": {
        "id": "L3EuxeE0yYHF"
      },
      "execution_count": 62,
      "outputs": []
    },
    {
      "cell_type": "code",
      "source": [
        "print(f\"Train length: {len(train_data)} || Test length: {len(test_data)}\")"
      ],
      "metadata": {
        "colab": {
          "base_uri": "https://localhost:8080/"
        },
        "id": "NT0bGdFnyZw3",
        "outputId": "3f98ed8d-625c-4ea8-aeeb-fb2a34e26cbe"
      },
      "execution_count": 63,
      "outputs": [
        {
          "output_type": "stream",
          "name": "stdout",
          "text": [
            "Train length: 60000 || Test length: 10000\n"
          ]
        }
      ]
    },
    {
      "cell_type": "code",
      "source": [
        "image, label = train_data[0]\n",
        "image, label"
      ],
      "metadata": {
        "colab": {
          "base_uri": "https://localhost:8080/"
        },
        "id": "X6jxd2ziya5y",
        "outputId": "a01209ff-9745-465f-d6e4-dfc5037c051b"
      },
      "execution_count": 64,
      "outputs": [
        {
          "output_type": "execute_result",
          "data": {
            "text/plain": [
              "(tensor([[[0.0000, 0.0000, 0.0000, 0.0000, 0.0000, 0.0000, 0.0000, 0.0000,\n",
              "           0.0000, 0.0000, 0.0000, 0.0000, 0.0000, 0.0000, 0.0000, 0.0000,\n",
              "           0.0000, 0.0000, 0.0000, 0.0000, 0.0000, 0.0000, 0.0000, 0.0000,\n",
              "           0.0000, 0.0000, 0.0000, 0.0000],\n",
              "          [0.0000, 0.0000, 0.0000, 0.0000, 0.0000, 0.0000, 0.0000, 0.0000,\n",
              "           0.0000, 0.0000, 0.0000, 0.0000, 0.0000, 0.0000, 0.0000, 0.0000,\n",
              "           0.0000, 0.0000, 0.0000, 0.0000, 0.0000, 0.0000, 0.0000, 0.0000,\n",
              "           0.0000, 0.0000, 0.0000, 0.0000],\n",
              "          [0.0000, 0.0000, 0.0000, 0.0000, 0.0000, 0.0000, 0.0000, 0.0000,\n",
              "           0.0000, 0.0000, 0.0000, 0.0000, 0.0000, 0.0000, 0.0000, 0.0000,\n",
              "           0.0000, 0.0000, 0.0000, 0.0000, 0.0000, 0.0000, 0.0000, 0.0000,\n",
              "           0.0000, 0.0000, 0.0000, 0.0000],\n",
              "          [0.0000, 0.0000, 0.0000, 0.0000, 0.0000, 0.0000, 0.0000, 0.0000,\n",
              "           0.0000, 0.0000, 0.0000, 0.0000, 0.0039, 0.0000, 0.0000, 0.0510,\n",
              "           0.2863, 0.0000, 0.0000, 0.0039, 0.0157, 0.0000, 0.0000, 0.0000,\n",
              "           0.0000, 0.0039, 0.0039, 0.0000],\n",
              "          [0.0000, 0.0000, 0.0000, 0.0000, 0.0000, 0.0000, 0.0000, 0.0000,\n",
              "           0.0000, 0.0000, 0.0000, 0.0000, 0.0118, 0.0000, 0.1412, 0.5333,\n",
              "           0.4980, 0.2431, 0.2118, 0.0000, 0.0000, 0.0000, 0.0039, 0.0118,\n",
              "           0.0157, 0.0000, 0.0000, 0.0118],\n",
              "          [0.0000, 0.0000, 0.0000, 0.0000, 0.0000, 0.0000, 0.0000, 0.0000,\n",
              "           0.0000, 0.0000, 0.0000, 0.0000, 0.0235, 0.0000, 0.4000, 0.8000,\n",
              "           0.6902, 0.5255, 0.5647, 0.4824, 0.0902, 0.0000, 0.0000, 0.0000,\n",
              "           0.0000, 0.0471, 0.0392, 0.0000],\n",
              "          [0.0000, 0.0000, 0.0000, 0.0000, 0.0000, 0.0000, 0.0000, 0.0000,\n",
              "           0.0000, 0.0000, 0.0000, 0.0000, 0.0000, 0.0000, 0.6078, 0.9255,\n",
              "           0.8118, 0.6980, 0.4196, 0.6118, 0.6314, 0.4275, 0.2510, 0.0902,\n",
              "           0.3020, 0.5098, 0.2824, 0.0588],\n",
              "          [0.0000, 0.0000, 0.0000, 0.0000, 0.0000, 0.0000, 0.0000, 0.0000,\n",
              "           0.0000, 0.0000, 0.0000, 0.0039, 0.0000, 0.2706, 0.8118, 0.8745,\n",
              "           0.8549, 0.8471, 0.8471, 0.6392, 0.4980, 0.4745, 0.4784, 0.5725,\n",
              "           0.5529, 0.3451, 0.6745, 0.2588],\n",
              "          [0.0000, 0.0000, 0.0000, 0.0000, 0.0000, 0.0000, 0.0000, 0.0000,\n",
              "           0.0000, 0.0039, 0.0039, 0.0039, 0.0000, 0.7843, 0.9098, 0.9098,\n",
              "           0.9137, 0.8980, 0.8745, 0.8745, 0.8431, 0.8353, 0.6431, 0.4980,\n",
              "           0.4824, 0.7686, 0.8980, 0.0000],\n",
              "          [0.0000, 0.0000, 0.0000, 0.0000, 0.0000, 0.0000, 0.0000, 0.0000,\n",
              "           0.0000, 0.0000, 0.0000, 0.0000, 0.0000, 0.7176, 0.8824, 0.8471,\n",
              "           0.8745, 0.8941, 0.9216, 0.8902, 0.8784, 0.8706, 0.8784, 0.8667,\n",
              "           0.8745, 0.9608, 0.6784, 0.0000],\n",
              "          [0.0000, 0.0000, 0.0000, 0.0000, 0.0000, 0.0000, 0.0000, 0.0000,\n",
              "           0.0000, 0.0000, 0.0000, 0.0000, 0.0000, 0.7569, 0.8941, 0.8549,\n",
              "           0.8353, 0.7765, 0.7059, 0.8314, 0.8235, 0.8275, 0.8353, 0.8745,\n",
              "           0.8627, 0.9529, 0.7922, 0.0000],\n",
              "          [0.0000, 0.0000, 0.0000, 0.0000, 0.0000, 0.0000, 0.0000, 0.0000,\n",
              "           0.0000, 0.0039, 0.0118, 0.0000, 0.0471, 0.8588, 0.8627, 0.8314,\n",
              "           0.8549, 0.7529, 0.6627, 0.8902, 0.8157, 0.8549, 0.8784, 0.8314,\n",
              "           0.8863, 0.7725, 0.8196, 0.2039],\n",
              "          [0.0000, 0.0000, 0.0000, 0.0000, 0.0000, 0.0000, 0.0000, 0.0000,\n",
              "           0.0000, 0.0000, 0.0235, 0.0000, 0.3882, 0.9569, 0.8706, 0.8627,\n",
              "           0.8549, 0.7961, 0.7765, 0.8667, 0.8431, 0.8353, 0.8706, 0.8627,\n",
              "           0.9608, 0.4667, 0.6549, 0.2196],\n",
              "          [0.0000, 0.0000, 0.0000, 0.0000, 0.0000, 0.0000, 0.0000, 0.0000,\n",
              "           0.0000, 0.0157, 0.0000, 0.0000, 0.2157, 0.9255, 0.8941, 0.9020,\n",
              "           0.8941, 0.9412, 0.9098, 0.8353, 0.8549, 0.8745, 0.9176, 0.8510,\n",
              "           0.8510, 0.8196, 0.3608, 0.0000],\n",
              "          [0.0000, 0.0000, 0.0039, 0.0157, 0.0235, 0.0275, 0.0078, 0.0000,\n",
              "           0.0000, 0.0000, 0.0000, 0.0000, 0.9294, 0.8863, 0.8510, 0.8745,\n",
              "           0.8706, 0.8588, 0.8706, 0.8667, 0.8471, 0.8745, 0.8980, 0.8431,\n",
              "           0.8549, 1.0000, 0.3020, 0.0000],\n",
              "          [0.0000, 0.0118, 0.0000, 0.0000, 0.0000, 0.0000, 0.0000, 0.0000,\n",
              "           0.0000, 0.2431, 0.5686, 0.8000, 0.8941, 0.8118, 0.8353, 0.8667,\n",
              "           0.8549, 0.8157, 0.8275, 0.8549, 0.8784, 0.8745, 0.8588, 0.8431,\n",
              "           0.8784, 0.9569, 0.6235, 0.0000],\n",
              "          [0.0000, 0.0000, 0.0000, 0.0000, 0.0706, 0.1725, 0.3216, 0.4196,\n",
              "           0.7412, 0.8941, 0.8627, 0.8706, 0.8510, 0.8863, 0.7843, 0.8039,\n",
              "           0.8275, 0.9020, 0.8784, 0.9176, 0.6902, 0.7373, 0.9804, 0.9725,\n",
              "           0.9137, 0.9333, 0.8431, 0.0000],\n",
              "          [0.0000, 0.2235, 0.7333, 0.8157, 0.8784, 0.8667, 0.8784, 0.8157,\n",
              "           0.8000, 0.8392, 0.8157, 0.8196, 0.7843, 0.6235, 0.9608, 0.7569,\n",
              "           0.8078, 0.8745, 1.0000, 1.0000, 0.8667, 0.9176, 0.8667, 0.8275,\n",
              "           0.8627, 0.9098, 0.9647, 0.0000],\n",
              "          [0.0118, 0.7922, 0.8941, 0.8784, 0.8667, 0.8275, 0.8275, 0.8392,\n",
              "           0.8039, 0.8039, 0.8039, 0.8627, 0.9412, 0.3137, 0.5882, 1.0000,\n",
              "           0.8980, 0.8667, 0.7373, 0.6039, 0.7490, 0.8235, 0.8000, 0.8196,\n",
              "           0.8706, 0.8941, 0.8824, 0.0000],\n",
              "          [0.3843, 0.9137, 0.7765, 0.8235, 0.8706, 0.8980, 0.8980, 0.9176,\n",
              "           0.9765, 0.8627, 0.7608, 0.8431, 0.8510, 0.9451, 0.2549, 0.2863,\n",
              "           0.4157, 0.4588, 0.6588, 0.8588, 0.8667, 0.8431, 0.8510, 0.8745,\n",
              "           0.8745, 0.8784, 0.8980, 0.1137],\n",
              "          [0.2941, 0.8000, 0.8314, 0.8000, 0.7569, 0.8039, 0.8275, 0.8824,\n",
              "           0.8471, 0.7255, 0.7725, 0.8078, 0.7765, 0.8353, 0.9412, 0.7647,\n",
              "           0.8902, 0.9608, 0.9373, 0.8745, 0.8549, 0.8314, 0.8196, 0.8706,\n",
              "           0.8627, 0.8667, 0.9020, 0.2627],\n",
              "          [0.1882, 0.7961, 0.7176, 0.7608, 0.8353, 0.7725, 0.7255, 0.7451,\n",
              "           0.7608, 0.7529, 0.7922, 0.8392, 0.8588, 0.8667, 0.8627, 0.9255,\n",
              "           0.8824, 0.8471, 0.7804, 0.8078, 0.7294, 0.7098, 0.6941, 0.6745,\n",
              "           0.7098, 0.8039, 0.8078, 0.4510],\n",
              "          [0.0000, 0.4784, 0.8588, 0.7569, 0.7020, 0.6706, 0.7176, 0.7686,\n",
              "           0.8000, 0.8235, 0.8353, 0.8118, 0.8275, 0.8235, 0.7843, 0.7686,\n",
              "           0.7608, 0.7490, 0.7647, 0.7490, 0.7765, 0.7529, 0.6902, 0.6118,\n",
              "           0.6549, 0.6941, 0.8235, 0.3608],\n",
              "          [0.0000, 0.0000, 0.2902, 0.7412, 0.8314, 0.7490, 0.6863, 0.6745,\n",
              "           0.6863, 0.7098, 0.7255, 0.7373, 0.7412, 0.7373, 0.7569, 0.7765,\n",
              "           0.8000, 0.8196, 0.8235, 0.8235, 0.8275, 0.7373, 0.7373, 0.7608,\n",
              "           0.7529, 0.8471, 0.6667, 0.0000],\n",
              "          [0.0078, 0.0000, 0.0000, 0.0000, 0.2588, 0.7843, 0.8706, 0.9294,\n",
              "           0.9373, 0.9490, 0.9647, 0.9529, 0.9569, 0.8667, 0.8627, 0.7569,\n",
              "           0.7490, 0.7020, 0.7137, 0.7137, 0.7098, 0.6902, 0.6510, 0.6588,\n",
              "           0.3882, 0.2275, 0.0000, 0.0000],\n",
              "          [0.0000, 0.0000, 0.0000, 0.0000, 0.0000, 0.0000, 0.0000, 0.1569,\n",
              "           0.2392, 0.1725, 0.2824, 0.1608, 0.1373, 0.0000, 0.0000, 0.0000,\n",
              "           0.0000, 0.0000, 0.0000, 0.0000, 0.0000, 0.0000, 0.0000, 0.0000,\n",
              "           0.0000, 0.0000, 0.0000, 0.0000],\n",
              "          [0.0000, 0.0000, 0.0000, 0.0000, 0.0000, 0.0000, 0.0000, 0.0000,\n",
              "           0.0000, 0.0000, 0.0000, 0.0000, 0.0000, 0.0000, 0.0000, 0.0000,\n",
              "           0.0000, 0.0000, 0.0000, 0.0000, 0.0000, 0.0000, 0.0000, 0.0000,\n",
              "           0.0000, 0.0000, 0.0000, 0.0000],\n",
              "          [0.0000, 0.0000, 0.0000, 0.0000, 0.0000, 0.0000, 0.0000, 0.0000,\n",
              "           0.0000, 0.0000, 0.0000, 0.0000, 0.0000, 0.0000, 0.0000, 0.0000,\n",
              "           0.0000, 0.0000, 0.0000, 0.0000, 0.0000, 0.0000, 0.0000, 0.0000,\n",
              "           0.0000, 0.0000, 0.0000, 0.0000]]]), 9)"
            ]
          },
          "metadata": {},
          "execution_count": 64
        }
      ]
    },
    {
      "cell_type": "code",
      "source": [
        "classes = train_data.classes\n",
        "classes_id = train_data.class_to_idx\n",
        "# print(f\"All classes names: {classes}\")\n",
        "print(f\"All classes with their id's: {classes_id}\")"
      ],
      "metadata": {
        "colab": {
          "base_uri": "https://localhost:8080/"
        },
        "id": "pW3jo_w-ycL7",
        "outputId": "a1e790ad-2b32-425f-b7fe-df18d95f9b83"
      },
      "execution_count": 65,
      "outputs": [
        {
          "output_type": "stream",
          "name": "stdout",
          "text": [
            "All classes with their id's: {'T-shirt/top': 0, 'Trouser': 1, 'Pullover': 2, 'Dress': 3, 'Coat': 4, 'Sandal': 5, 'Shirt': 6, 'Sneaker': 7, 'Bag': 8, 'Ankle boot': 9}\n"
          ]
        }
      ]
    },
    {
      "cell_type": "code",
      "source": [
        "print(f\"Image shape: {image.shape}[color chanel, heigth, width]\\n\")"
      ],
      "metadata": {
        "colab": {
          "base_uri": "https://localhost:8080/"
        },
        "id": "GVfVFK5EydXC",
        "outputId": "87762161-1219-4e1d-825f-2f459a667be2"
      },
      "execution_count": 66,
      "outputs": [
        {
          "output_type": "stream",
          "name": "stdout",
          "text": [
            "Image shape: torch.Size([1, 28, 28])[color chanel, heigth, width]\n",
            "\n"
          ]
        }
      ]
    },
    {
      "cell_type": "code",
      "source": [
        "torch.manual_seed(10)\n",
        "\n",
        "fig = plt.figure(figsize=(15, 15))\n",
        "row = 3\n",
        "col = 4\n",
        "\n",
        "for i in range(1, row * col+1):\n",
        "  random_index = torch.randint(0, len(train_data), size=[1]).item()\n",
        "  img, label = train_data[random_index]\n",
        "  fig.add_subplot(row, col, i)\n",
        "  plt.title(classes[label])\n",
        "  plt.imshow(img.squeeze(), cmap=\"gray\")\n",
        "  plt.axis(False)"
      ],
      "metadata": {
        "colab": {
          "base_uri": "https://localhost:8080/",
          "height": 804
        },
        "id": "f5b97mgAyfaY",
        "outputId": "407a18a9-a806-4e8f-e7d1-74460d24ab8d"
      },
      "execution_count": 67,
      "outputs": [
        {
          "output_type": "display_data",
          "data": {
            "text/plain": [
              "<Figure size 1080x1080 with 12 Axes>"
            ],
            "image/png": "[encoded data removed]"
          },
          "metadata": {
            "needs_background": "light"
          }
        }
      ]
    },
    {
      "cell_type": "markdown",
      "source": [
        "## 2. Prepare DataLoader\n",
        "\n",
        "**🟦EN**:  Data is in the form of PyTorch Datasets.\n",
        "\n",
        "DataLoader transform our dataset into Pyton iterable\n",
        "\n",
        "We want to turn our data into batches. \n",
        "\n",
        "Why would we do this??\n",
        "\n",
        "1. It is more computationally efficient, as in, your computign hardware may not be able to llok at 6000 image in one hit. So we break it down to 32 images at a tiem (Batch size = 32)\n",
        "\n",
        "2. It gives out neuronal network more chances to update its gradients per epochs.\n",
        "\n",
        "**🟥ES**: Los datos están en forma de PyTorch Datasets.\n",
        "\n",
        "DataLoader transforma nuestro dataset en iterable Pyton\n",
        "\n",
        "Queremos convertir nuestros datos en lotes. \n",
        "\n",
        "¿Por qué haríamos esto?\n",
        "\n",
        "1. Es más eficiente computacionalmente, como en, su hardware computign puede no ser capaz de llok en 6000 imagen en un hit. Así que lo dividimos en 32 imágenes a la vez (tamaño del lote = 32)\n",
        "\n",
        "2. Esto da a nuestra red neuronal más oportunidades de actualizar sus gradientes por lote. "
      ],
      "metadata": {
        "id": "GAX41QQFxoJ8"
      }
    },
    {
      "cell_type": "code",
      "source": [
        "from torch.utils.data import DataLoader\n",
        "\n",
        "BATCH_SIZE = 32\n",
        "\n",
        "# DataSet into iterable\n",
        "train_dataloader = DataLoader(dataset=train_data,\n",
        "                              batch_size=BATCH_SIZE,\n",
        "                              shuffle=True)\n",
        "\n",
        "test_dataloader = DataLoader(dataset=test_data,\n",
        "                             batch_size=BATCH_SIZE,\n",
        "                             shuffle=True)\n",
        "print(f\"Train DataLoader: {train_dataloader} Test dataloader: {test_dataloader}\")\n",
        "print(f\"Length of train DataLoader: {len(train_dataloader)} with batch = {BATCH_SIZE}\\nLength of test DataLoader {len(test_dataloader)} with batch = {BATCH_SIZE}\")"
      ],
      "metadata": {
        "colab": {
          "base_uri": "https://localhost:8080/"
        },
        "id": "7MIi_k4eyjAW",
        "outputId": "2bb72921-c487-44bd-b927-5e1c20bc07b9"
      },
      "execution_count": 68,
      "outputs": [
        {
          "output_type": "stream",
          "name": "stdout",
          "text": [
            "Train DataLoader: <torch.utils.data.dataloader.DataLoader object at 0x7f0f1ea07a00> Test dataloader: <torch.utils.data.dataloader.DataLoader object at 0x7f0f1ea07400>\n",
            "Length of train DataLoader: 1875 with batch = 32\n",
            "Length of test DataLoader 313 with batch = 32\n"
          ]
        }
      ]
    },
    {
      "cell_type": "code",
      "source": [
        "# Check dataloader\n",
        "\n",
        "train_features_batch, train_labels_batch = next(iter(train_dataloader))\n",
        "print(f\"Train features batch shape: {train_features_batch.shape}\\ntrain labels bartch shape: {train_labels_batch.shape}\")"
      ],
      "metadata": {
        "colab": {
          "base_uri": "https://localhost:8080/"
        },
        "id": "sJQRsm6O-15n",
        "outputId": "aa25824f-cb8c-4a1c-90cf-e680ae54bb19"
      },
      "execution_count": 69,
      "outputs": [
        {
          "output_type": "stream",
          "name": "stdout",
          "text": [
            "Train features batch shape: torch.Size([32, 1, 28, 28])\n",
            "train labels bartch shape: torch.Size([32])\n"
          ]
        }
      ]
    },
    {
      "cell_type": "code",
      "source": [
        "# Show exemple\n",
        "\n",
        "random_index = torch.randint(0, len(train_features_batch), size=[1]).item()\n",
        "img, label = train_features_batch[random_index], train_labels_batch[random_index]\n",
        "plt.imshow(img.squeeze(), cmap=\"gray\")\n",
        "plt.title(classes[label])\n",
        "plt.axis(False)\n",
        "\n",
        "print(f\"Image size: {img.shape} || Label: {label}, label size: {label.shape}\")"
      ],
      "metadata": {
        "colab": {
          "base_uri": "https://localhost:8080/",
          "height": 281
        },
        "id": "eXucPO2W_zgn",
        "outputId": "3baf6be8-4f03-486a-b606-490311eac09e"
      },
      "execution_count": 70,
      "outputs": [
        {
          "output_type": "stream",
          "name": "stdout",
          "text": [
            "Image size: torch.Size([1, 28, 28]) || Label: 0, label size: torch.Size([])\n"
          ]
        },
        {
          "output_type": "display_data",
          "data": {
            "text/plain": [
              "<Figure size 432x288 with 1 Axes>"
            ],
            "image/png": "[encoded data removed]"
          },
          "metadata": {
            "needs_background": "light"
          }
        }
      ]
    },
    {
      "cell_type": "markdown",
      "source": [
        "## 3. Build model\n",
        "\n",
        "**🟦EN**: In the next model, we see 2 new type of layers, Conv2d and Maxpool2d\n",
        "* [*Conv2d*](https://pytorch.org/docs/stable/generated/torch.nn.Conv2d.html): Applies a 2D convolution over an input signal composed of several input planes.\n",
        "* [*Maxpool2d*](https://pytorch.org/docs/stable/generated/torch.nn.MaxPool2d.html): Applies a 2D max pooling over an input signal composed of several input planes.\n",
        "\n",
        "**🟥ES**: En el siguiente modelo, vemos 2 nuevos tipos de capas, Conv2d y Maxpool2d\n",
        "* [*Conv2d*](https://pytorch.org/docs/stable/generated/torch.nn.Conv2d.html): Aplica una convolución 2D sobre una señal de entrada compuesta por varios planos de entrada.\n",
        "* [*Maxpool2d*](https://pytorch.org/docs/stable/generated/torch.nn.MaxPool2d.html): Aplica un maxpooling 2D sobre una señal de entrada compuesta de varios planos de entrada."
      ],
      "metadata": {
        "id": "HFJ5FonixqaD"
      }
    },
    {
      "cell_type": "code",
      "source": [
        "class FashionModelCNNV1(nn.Module):\n",
        "  def __init__(self,\n",
        "               input_shape: int,\n",
        "               output_shape: int,\n",
        "               hidden_lay: int):\n",
        "    super().__init__()\n",
        "    self.conv_block_1 = nn.Sequential(\n",
        "        nn.Conv2d(in_channels=input_shape,\n",
        "                  out_channels=hidden_lay,\n",
        "                  kernel_size=3,\n",
        "                  stride=1,\n",
        "                  padding=1), # Values we can set outselcen in our NN's\n",
        "        nn.ReLU(),\n",
        "        nn.Conv2d(in_channels=hidden_lay,\n",
        "                  out_channels=hidden_lay,\n",
        "                  kernel_size=3,\n",
        "                  stride=1,\n",
        "                  padding=1),\n",
        "        nn.ReLU(),\n",
        "        nn.MaxPool2d(kernel_size=2,\n",
        "                     stride=2)\n",
        "    )\n",
        "    self.conv_block_2 = nn.Sequential(\n",
        "        nn.Conv2d(in_channels=hidden_lay,\n",
        "                  out_channels=hidden_lay,\n",
        "                  kernel_size=3,\n",
        "                  stride=1,\n",
        "                  padding=1),\n",
        "        nn.ReLU(),\n",
        "        nn.Conv2d(in_channels=hidden_lay,\n",
        "                  out_channels=hidden_lay,\n",
        "                  kernel_size=3,\n",
        "                  stride=1,\n",
        "                  padding=1),\n",
        "        nn.ReLU(),\n",
        "        nn.MaxPool2d(2)\n",
        "    )\n",
        "\n",
        "    self.classificator_layer = nn.Sequential(\n",
        "        nn.Flatten(),\n",
        "        nn.Linear(in_features=hidden_lay*7*7,\n",
        "                  out_features=output_shape)\n",
        "    )\n",
        "\n",
        "  def forward(self, x):\n",
        "    x = self.conv_block_1(x)\n",
        "    # print(f\"First conv block X shape: {x.shape}\")\n",
        "    \n",
        "    x = self.conv_block_2(x)\n",
        "    # print(f\"Second conv block X shape: {x.shape}\")\n",
        "    return self.classificator_layer(x) \n",
        "    # return self.classificator_layer(self.conv_block_2(self.conv_block_1(x)))\n"
      ],
      "metadata": {
        "id": "1EaqlN3py35v"
      },
      "execution_count": 71,
      "outputs": []
    },
    {
      "cell_type": "code",
      "source": [
        "INPUT = len(train_features_batch[1][0][0]) * len(train_features_batch[1][0][1])\n",
        "OUTPUT = len(classes)\n",
        "\n",
        "print(f\"Input size: {INPUT} || Output: {OUTPUT}\")"
      ],
      "metadata": {
        "id": "B4kK1u2T3JPc",
        "colab": {
          "base_uri": "https://localhost:8080/"
        },
        "outputId": "887f43f8-c4b8-4e88-fe77-b960aa1f212a"
      },
      "execution_count": 72,
      "outputs": [
        {
          "output_type": "stream",
          "name": "stdout",
          "text": [
            "Input size: 784 || Output: 10\n"
          ]
        }
      ]
    },
    {
      "cell_type": "code",
      "source": [
        "torch.manual_seed(10)\n",
        "torch.cuda.manual_seed(10)\n",
        "\n",
        "model_v1 = FashionModelCNNV1(input_shape=1,\n",
        "                             output_shape=OUTPUT,\n",
        "                             hidden_lay=20).to(device)"
      ],
      "metadata": {
        "id": "I_0hhYbh2-wu"
      },
      "execution_count": 73,
      "outputs": []
    },
    {
      "cell_type": "code",
      "source": [
        "plt.imshow(image.squeeze(), cmap=\"gray\")"
      ],
      "metadata": {
        "colab": {
          "base_uri": "https://localhost:8080/",
          "height": 282
        },
        "id": "7B0y27rlkZ5L",
        "outputId": "83427cb3-0bb8-44b0-8ba0-c24aff6791fe"
      },
      "execution_count": 74,
      "outputs": [
        {
          "output_type": "execute_result",
          "data": {
            "text/plain": [
              "<matplotlib.image.AxesImage at 0x7f0f1e989eb0>"
            ]
          },
          "metadata": {},
          "execution_count": 74
        },
        {
          "output_type": "display_data",
          "data": {
            "text/plain": [
              "<Figure size 432x288 with 1 Axes>"
            ],
            "image/png": "[encoded data removed]"
          },
          "metadata": {
            "needs_background": "light"
          }
        }
      ]
    },
    {
      "cell_type": "markdown",
      "source": [
        "### 3.1 Stepping through `nn.Conv2d()` "
      ],
      "metadata": {
        "id": "ekqOgzYxeUTy"
      }
    },
    {
      "cell_type": "code",
      "source": [
        "torch.manual_seed(10)\n",
        "\n",
        "images = torch.rand(size=(32, 3, 64, 64))\n",
        "test_img = images[0]\n",
        "\n",
        "print(f\"Image barch shape {images.shape}\\nSingle image shape: {test_img.shape}\\nTest image: \\n{test_img}\")"
      ],
      "metadata": {
        "colab": {
          "base_uri": "https://localhost:8080/"
        },
        "id": "XhWJQuKOe3Wp",
        "outputId": "83600cdb-8ad3-4dd4-b2ba-9487922e65d9"
      },
      "execution_count": 75,
      "outputs": [
        {
          "output_type": "stream",
          "name": "stdout",
          "text": [
            "Image barch shape torch.Size([32, 3, 64, 64])\n",
            "Single image shape: torch.Size([3, 64, 64])\n",
            "Test image: \n",
            "tensor([[[0.4581, 0.4829, 0.3125,  ..., 0.0177, 0.5417, 0.6575],\n",
            "         [0.6141, 0.9619, 0.7244,  ..., 0.3651, 0.0916, 0.6161],\n",
            "         [0.0561, 0.4970, 0.4385,  ..., 0.9545, 0.7324, 0.5577],\n",
            "         ...,\n",
            "         [0.2151, 0.7065, 0.9546,  ..., 0.2649, 0.5092, 0.7558],\n",
            "         [0.0599, 0.0475, 0.9576,  ..., 0.5280, 0.4205, 0.2789],\n",
            "         [0.0992, 0.7224, 0.3359,  ..., 0.7365, 0.4165, 0.3056]],\n",
            "\n",
            "        [[0.8798, 0.1387, 0.5025,  ..., 0.4046, 0.4792, 0.9531],\n",
            "         [0.4569, 0.9987, 0.8911,  ..., 0.5405, 0.5225, 0.5225],\n",
            "         [0.8199, 0.9475, 0.3062,  ..., 0.7520, 0.4855, 0.0376],\n",
            "         ...,\n",
            "         [0.1493, 0.0930, 0.3196,  ..., 0.6219, 0.6361, 0.8130],\n",
            "         [0.0021, 0.5719, 0.6611,  ..., 0.9513, 0.9481, 0.7927],\n",
            "         [0.2978, 0.2676, 0.0397,  ..., 0.6166, 0.3377, 0.7027]],\n",
            "\n",
            "        [[0.2969, 0.2610, 0.9908,  ..., 0.2878, 0.4394, 0.9617],\n",
            "         [0.3566, 0.8183, 0.1825,  ..., 0.4107, 0.2470, 0.6375],\n",
            "         [0.2636, 0.4402, 0.1227,  ..., 0.6972, 0.2169, 0.6054],\n",
            "         ...,\n",
            "         [0.9536, 0.7833, 0.4602,  ..., 0.9334, 0.1316, 0.3701],\n",
            "         [0.6819, 0.8446, 0.0179,  ..., 0.6694, 0.1080, 0.7470],\n",
            "         [0.8514, 0.5458, 0.0904,  ..., 0.6554, 0.3206, 0.4407]]])\n"
          ]
        }
      ]
    },
    {
      "cell_type": "code",
      "source": [
        "torch.manual_seed(10)\n",
        "conv_layer = nn.Conv2d(in_channels=3,\n",
        "                       out_channels=OUTPUT,\n",
        "                       kernel_size=(3, 3),\n",
        "                       padding=0,\n",
        "                       stride=1)\n",
        "# Pass the data through the convolutional layer\n",
        "conv_out = conv_layer(test_img.unsqueeze(0))\n",
        "conv_out.shape, test_img.shape"
      ],
      "metadata": {
        "colab": {
          "base_uri": "https://localhost:8080/"
        },
        "id": "xjffucWGfalX",
        "outputId": "8659ec9b-ef98-45b0-96db-8c486b826f4f"
      },
      "execution_count": 76,
      "outputs": [
        {
          "output_type": "execute_result",
          "data": {
            "text/plain": [
              "(torch.Size([1, 10, 62, 62]), torch.Size([3, 64, 64]))"
            ]
          },
          "metadata": {},
          "execution_count": 76
        }
      ]
    },
    {
      "cell_type": "code",
      "source": [
        "test_img.unsqueeze(0).shape"
      ],
      "metadata": {
        "colab": {
          "base_uri": "https://localhost:8080/"
        },
        "id": "JjRKuc_3goWN",
        "outputId": "2d841914-306b-4921-ba2c-87d152bff6e0"
      },
      "execution_count": 77,
      "outputs": [
        {
          "output_type": "execute_result",
          "data": {
            "text/plain": [
              "torch.Size([1, 3, 64, 64])"
            ]
          },
          "metadata": {},
          "execution_count": 77
        }
      ]
    },
    {
      "cell_type": "markdown",
      "source": [
        "### 3.2 Stepping through `nn.MaxPool2d`"
      ],
      "metadata": {
        "id": "WNYN0UKYe1Ta"
      }
    },
    {
      "cell_type": "code",
      "source": [
        "maxpool_layer = nn.MaxPool2d(kernel_size=2)\n",
        "maxpool_out = maxpool_layer(conv_out)\n",
        "print(f\"Before maxpool: {conv_out.shape} || After maxpool {maxpool_out.shape}\")"
      ],
      "metadata": {
        "colab": {
          "base_uri": "https://localhost:8080/"
        },
        "id": "ErEgHo7OhNKh",
        "outputId": "ee5ea9bf-9353-4bd5-cb33-64437bec018c"
      },
      "execution_count": 78,
      "outputs": [
        {
          "output_type": "stream",
          "name": "stdout",
          "text": [
            "Before maxpool: torch.Size([1, 10, 62, 62]) || After maxpool torch.Size([1, 10, 31, 31])\n"
          ]
        }
      ]
    },
    {
      "cell_type": "code",
      "source": [
        "torch.manual_seed(10)\n",
        "\n",
        "random_tensor = torch.randn(size=(1,1,2,2))\n",
        "print(f\"Random tensor:\\n{random_tensor}\\nRandom tensor shape:\\n{random_tensor.shape}\\n\\n\")\n",
        "max_pool_layer = nn.MaxPool2d(kernel_size=2)\n",
        "\n",
        "max_pool_tensor = max_pool_layer(random_tensor)\n",
        "print(f\"Max pool tensor:\\n{max_pool_tensor}\\nMax pool tensor shape:\\n{max_pool_tensor.shape}\")"
      ],
      "metadata": {
        "colab": {
          "base_uri": "https://localhost:8080/"
        },
        "id": "yHnqxj1jiOny",
        "outputId": "f7c2c8ea-996a-4af5-d876-908885797176"
      },
      "execution_count": 79,
      "outputs": [
        {
          "output_type": "stream",
          "name": "stdout",
          "text": [
            "Random tensor:\n",
            "tensor([[[[-0.6014, -1.0122],\n",
            "          [-0.3023, -1.2277]]]])\n",
            "Random tensor shape:\n",
            "torch.Size([1, 1, 2, 2])\n",
            "\n",
            "\n",
            "Max pool tensor:\n",
            "tensor([[[[-0.3023]]]])\n",
            "Max pool tensor shape:\n",
            "torch.Size([1, 1, 1, 1])\n"
          ]
        }
      ]
    },
    {
      "cell_type": "markdown",
      "source": [
        "### 3.3 Setup loss and optimizer functions"
      ],
      "metadata": {
        "id": "M2ueAJiuuJK6"
      }
    },
    {
      "cell_type": "code",
      "source": [
        "# Accuracy function\n",
        "def accuracy_fn(y_true, y_pred):\n",
        "    correct = torch.eq(y_true, y_pred).sum().item()\n",
        "    acc = (correct / len(y_pred)) * 100\n",
        "    return acc"
      ],
      "metadata": {
        "id": "JfgvXLMnuInh"
      },
      "execution_count": 80,
      "outputs": []
    },
    {
      "cell_type": "code",
      "source": [
        "loss_fn = nn.CrossEntropyLoss()\n",
        "optimizer = torch.optim.SGD(params=model_v1.parameters(), lr=0.1)"
      ],
      "metadata": {
        "id": "rlPgG7VFvKWw"
      },
      "execution_count": 81,
      "outputs": []
    },
    {
      "cell_type": "markdown",
      "source": [
        "### 3.4 Train and testing the model, using training and test functions."
      ],
      "metadata": {
        "id": "nu2tFC8Tveu4"
      }
    },
    {
      "cell_type": "code",
      "source": [
        "def train_step(model: torch.nn.Module,\n",
        "               loss_fn: torch.nn.Module,\n",
        "               optimizer: torch.optim.Optimizer,\n",
        "               dataloader: torch.utils.data.DataLoader,\n",
        "               accuracy_fn, device: torch.device = device):  \n",
        "  train_loss = 0\n",
        "  train_acc = 0\n",
        "\n",
        "  print(f\"train step {device}\")\n",
        "\n",
        "  model.train()\n",
        "  for batch, (X, y) in enumerate(dataloader):\n",
        "    X = X.to(device)\n",
        "    y = y.to(device)\n",
        "    # Forward pass outputs the raw logits from the model\n",
        "    y_pred = model(X)\n",
        "\n",
        "    # Claculate loss\n",
        "    loss = loss_fn(y_pred, y)\n",
        "    train_loss += loss # accumulate test loss\n",
        "    train_acc += accuracy_fn(y_true=y, y_pred=y_pred.argmax(dim=1))\n",
        "\n",
        "    optimizer.zero_grad()\n",
        "    loss.backward()\n",
        "\n",
        "    # Optimizer step\n",
        "    optimizer.step()\n",
        "\n",
        "  train_loss /= len(dataloader)\n",
        "  train_acc /= len(dataloader)\n",
        "\n",
        "  print(f\"Train loss: {train_loss:.6f} | Train acc: {train_acc:.2f}%\")"
      ],
      "metadata": {
        "id": "wgcFWGoOnkWd"
      },
      "execution_count": 82,
      "outputs": []
    },
    {
      "cell_type": "code",
      "source": [
        "def test_step(model: torch.nn.Module,\n",
        "              dataloader: torch.utils.data.DataLoader,\n",
        "              loss_fn: torch.nn.Module, \n",
        "              accuracy_fn, device: torch.device = device):\n",
        "  \n",
        "  test_loss = 0\n",
        "  test_acc = 0\n",
        "  \n",
        "  # Put the model in evaluation mode\n",
        "  model.eval()\n",
        "\n",
        "  # Turn on ingerence mode context manager\n",
        "  with torch.inference_mode():\n",
        "    for X, y in dataloader:\n",
        "      # Data to device\n",
        "      X = X.to(device)\n",
        "      y = y.to(device)\n",
        "\n",
        "      # forward pass\n",
        "      test_pred = model(X)\n",
        "      \n",
        "      # Calculate loss and acc\n",
        "      test_loss += loss_fn(test_pred, y)\n",
        "      test_acc += accuracy_fn(y_true=y, y_pred=test_pred.argmax(dim=1))\n",
        "\n",
        "    # Adjust metrics\n",
        "    test_loss /= len(dataloader)\n",
        "    test_acc /= len(dataloader)\n",
        "\n",
        "    print(f\"Test loss: {test_loss:.6f} | Test acc: {test_acc:.2f}%\")  "
      ],
      "metadata": {
        "id": "nOwsj9h4vssR"
      },
      "execution_count": 83,
      "outputs": []
    },
    {
      "cell_type": "code",
      "source": [
        "from timeit import default_timer as timer\n",
        "\n",
        "def train_time(start: float, end: float, device: torch.device = None):\n",
        "    total_time = end - start\n",
        "    print(f\"Train time on {device}: {total_time:.3f} seconds\")\n",
        "    return total_time"
      ],
      "metadata": {
        "id": "NFfF_EkSS7DJ"
      },
      "execution_count": 84,
      "outputs": []
    },
    {
      "cell_type": "code",
      "source": [
        "from tqdm.auto import tqdm\n",
        "\n",
        "torch.manual_seed(10)\n",
        "torch.cuda.manual_seed(10)\n",
        "\n",
        "# Execution time\n",
        "start_model_v1_timer = timer()\n",
        "\n",
        "# Train and test the model\n",
        "\n",
        "epochs = 30\n",
        "for epoch in tqdm(range(epochs)):\n",
        "  print(f\"Epochs: {epoch}\\n##########\")\n",
        "  train_step(model=model_v1,\n",
        "             loss_fn=loss_fn,\n",
        "             dataloader=train_dataloader,\n",
        "             optimizer=optimizer,\n",
        "             accuracy_fn=accuracy_fn,\n",
        "             device=device)\n",
        "  \n",
        "  test_step(model=model_v1,\n",
        "            loss_fn=loss_fn,\n",
        "            dataloader=test_dataloader,\n",
        "            accuracy_fn=accuracy_fn,\n",
        "            device=device)\n",
        "  \n",
        "finsih_model_v1_timer = timer()\n",
        "train_time(start_model_v1_timer, finsih_model_v1_timer, device)\n"
      ],
      "metadata": {
        "colab": {
          "base_uri": "https://localhost:8080/",
          "height": 1000,
          "referenced_widgets": [
            "a7da7361e70d47d9adcf369be0ae2c7b",
            "74b37d9832724e23b21eeec571dec99b",
            "e76171f805ad4b08bdb024c8d0986969",
            "8ad2e7b595b147a5bb004c3a1ccb5a20",
            "ca6e79f44fdd42cf96b09ca399ad0517",
            "01c08049c18b402bb672f0834fff3d4c",
            "2b580424bee14499b5ad59c091b98c64",
            "dfdf0fe163564ec48907619e88ee3d89",
            "b9d6b7813d484c61aff9d03289bfdb2f",
            "97573b9031e24e47a649abd75ee46b1d",
            "fad5aef01c3d4d7ba22a3a57f1094350"
          ]
        },
        "id": "vxVdumYhvctI",
        "outputId": "5a3d2753-0e49-460f-9d96-eb9d55c36a2b"
      },
      "execution_count": 85,
      "outputs": [
        {
          "output_type": "display_data",
          "data": {
            "text/plain": [
              "  0%|          | 0/30 [00:00<?, ?it/s]"
            ],
            "application/vnd.jupyter.widget-view+json": {
              "version_major": 2,
              "version_minor": 0,
              "model_id": "a7da7361e70d47d9adcf369be0ae2c7b"
            }
          },
          "metadata": {}
        },
        {
          "output_type": "stream",
          "name": "stdout",
          "text": [
            "Epochs: 0\n",
            "##########\n",
            "train step cuda\n",
            "Train loss: 0.576101 | Train acc: 78.99%\n",
            "Test loss: 0.365716 | Test acc: 86.85%\n",
            "Epochs: 1\n",
            "##########\n",
            "train step cuda\n",
            "Train loss: 0.328582 | Train acc: 88.24%\n",
            "Test loss: 0.324163 | Test acc: 88.18%\n",
            "Epochs: 2\n",
            "##########\n",
            "train step cuda\n",
            "Train loss: 0.285869 | Train acc: 89.64%\n",
            "Test loss: 0.315113 | Test acc: 88.60%\n",
            "Epochs: 3\n",
            "##########\n",
            "train step cuda\n",
            "Train loss: 0.265020 | Train acc: 90.43%\n",
            "Test loss: 0.332271 | Test acc: 87.70%\n",
            "Epochs: 4\n",
            "##########\n",
            "train step cuda\n",
            "Train loss: 0.247059 | Train acc: 91.10%\n",
            "Test loss: 0.271148 | Test acc: 90.34%\n",
            "Epochs: 5\n",
            "##########\n",
            "train step cuda\n",
            "Train loss: 0.233525 | Train acc: 91.52%\n",
            "Test loss: 0.261700 | Test acc: 90.81%\n",
            "Epochs: 6\n",
            "##########\n",
            "train step cuda\n",
            "Train loss: 0.222932 | Train acc: 91.88%\n",
            "Test loss: 0.258956 | Test acc: 90.56%\n",
            "Epochs: 7\n",
            "##########\n",
            "train step cuda\n",
            "Train loss: 0.215695 | Train acc: 92.08%\n",
            "Test loss: 0.282084 | Test acc: 90.05%\n",
            "Epochs: 8\n",
            "##########\n",
            "train step cuda\n",
            "Train loss: 0.210640 | Train acc: 92.35%\n",
            "Test loss: 0.274935 | Test acc: 90.41%\n",
            "Epochs: 9\n",
            "##########\n",
            "train step cuda\n",
            "Train loss: 0.203005 | Train acc: 92.57%\n",
            "Test loss: 0.252427 | Test acc: 91.21%\n",
            "Epochs: 10\n",
            "##########\n",
            "train step cuda\n",
            "Train loss: 0.198551 | Train acc: 92.91%\n",
            "Test loss: 0.250576 | Test acc: 91.05%\n",
            "Epochs: 11\n",
            "##########\n",
            "train step cuda\n",
            "Train loss: 0.193112 | Train acc: 93.00%\n",
            "Test loss: 0.251313 | Test acc: 91.36%\n",
            "Epochs: 12\n",
            "##########\n",
            "train step cuda\n",
            "Train loss: 0.188192 | Train acc: 93.10%\n",
            "Test loss: 0.262918 | Test acc: 90.88%\n",
            "Epochs: 13\n",
            "##########\n",
            "train step cuda\n",
            "Train loss: 0.184868 | Train acc: 93.34%\n",
            "Test loss: 0.253602 | Test acc: 90.86%\n",
            "Epochs: 14\n",
            "##########\n",
            "train step cuda\n",
            "Train loss: 0.181113 | Train acc: 93.38%\n",
            "Test loss: 0.267420 | Test acc: 90.55%\n",
            "Epochs: 15\n",
            "##########\n",
            "train step cuda\n",
            "Train loss: 0.175277 | Train acc: 93.65%\n",
            "Test loss: 0.254198 | Test acc: 91.28%\n",
            "Epochs: 16\n",
            "##########\n",
            "train step cuda\n",
            "Train loss: 0.172459 | Train acc: 93.68%\n",
            "Test loss: 0.267617 | Test acc: 90.76%\n",
            "Epochs: 17\n",
            "##########\n",
            "train step cuda\n",
            "Train loss: 0.169952 | Train acc: 93.82%\n",
            "Test loss: 0.283859 | Test acc: 90.49%\n",
            "Epochs: 18\n",
            "##########\n",
            "train step cuda\n",
            "Train loss: 0.167191 | Train acc: 93.85%\n",
            "Test loss: 0.261677 | Test acc: 90.80%\n",
            "Epochs: 19\n",
            "##########\n",
            "train step cuda\n",
            "Train loss: 0.164671 | Train acc: 93.91%\n",
            "Test loss: 0.266566 | Test acc: 90.87%\n",
            "Epochs: 20\n",
            "##########\n",
            "train step cuda\n",
            "Train loss: 0.162220 | Train acc: 94.08%\n",
            "Test loss: 0.270143 | Test acc: 90.74%\n",
            "Epochs: 21\n",
            "##########\n",
            "train step cuda\n",
            "Train loss: 0.160410 | Train acc: 94.15%\n",
            "Test loss: 0.277735 | Test acc: 90.67%\n",
            "Epochs: 22\n",
            "##########\n",
            "train step cuda\n",
            "Train loss: 0.158071 | Train acc: 94.19%\n",
            "Test loss: 0.277218 | Test acc: 90.53%\n",
            "Epochs: 23\n",
            "##########\n",
            "train step cuda\n",
            "Train loss: 0.154961 | Train acc: 94.29%\n",
            "Test loss: 0.273025 | Test acc: 91.03%\n",
            "Epochs: 24\n",
            "##########\n",
            "train step cuda\n",
            "Train loss: 0.153386 | Train acc: 94.37%\n",
            "Test loss: 0.284484 | Test acc: 91.04%\n",
            "Epochs: 25\n",
            "##########\n",
            "train step cuda\n",
            "Train loss: 0.153892 | Train acc: 94.38%\n",
            "Test loss: 0.285218 | Test acc: 90.96%\n",
            "Epochs: 26\n",
            "##########\n",
            "train step cuda\n",
            "Train loss: 0.147832 | Train acc: 94.58%\n",
            "Test loss: 0.309690 | Test acc: 90.82%\n",
            "Epochs: 27\n",
            "##########\n",
            "train step cuda\n",
            "Train loss: 0.147665 | Train acc: 94.60%\n",
            "Test loss: 0.288532 | Test acc: 90.76%\n",
            "Epochs: 28\n",
            "##########\n",
            "train step cuda\n",
            "Train loss: 0.146829 | Train acc: 94.60%\n",
            "Test loss: 0.310974 | Test acc: 89.85%\n",
            "Epochs: 29\n",
            "##########\n",
            "train step cuda\n",
            "Train loss: 0.145143 | Train acc: 94.66%\n",
            "Test loss: 0.288930 | Test acc: 90.47%\n",
            "Train time on cuda: 330.985 seconds\n"
          ]
        },
        {
          "output_type": "execute_result",
          "data": {
            "text/plain": [
              "330.98503254100024"
            ]
          },
          "metadata": {},
          "execution_count": 85
        }
      ]
    },
    {
      "cell_type": "code",
      "source": [
        "torch.manual_seed(10)\n",
        "def eval_model(model: torch.nn.Module, \n",
        "               data_loader: torch.utils.data.DataLoader, \n",
        "               loss_fn: torch.nn.Module, \n",
        "               accuracy_fn, \n",
        "               device: torch.device = device):\n",
        "    loss, acc = 0, 0\n",
        "    model.eval()\n",
        "    with torch.inference_mode():\n",
        "        for X, y in data_loader:\n",
        "            X, y = X.to(device), y.to(device)\n",
        "            y_pred = model(X)\n",
        "            loss += loss_fn(y_pred, y)\n",
        "            acc += accuracy_fn(y_true=y, y_pred=y_pred.argmax(dim=1))\n",
        "        \n",
        "        loss /= len(data_loader)\n",
        "        acc /= len(data_loader)\n",
        "    return {\"model_name\": model.__class__.__name__,\n",
        "            \"model_loss\": loss.item(),\n",
        "            \"model_acc\": acc}\n"
      ],
      "metadata": {
        "id": "c61vVTOOTplm"
      },
      "execution_count": 86,
      "outputs": []
    },
    {
      "cell_type": "code",
      "source": [
        "# Model 2 results \n",
        "\n",
        "model_v1_res = eval_model(\n",
        "    model = model_v1,\n",
        "    data_loader=test_dataloader,\n",
        "    loss_fn=loss_fn,\n",
        "    accuracy_fn=accuracy_fn,\n",
        "    device=device\n",
        ")\n",
        "\n",
        "model_v1_res"
      ],
      "metadata": {
        "colab": {
          "base_uri": "https://localhost:8080/"
        },
        "id": "OLPRIb9KTdto",
        "outputId": "0d8c25b2-9996-4570-ad0e-dd44b18f305c"
      },
      "execution_count": 87,
      "outputs": [
        {
          "output_type": "execute_result",
          "data": {
            "text/plain": [
              "{'model_name': 'FashionModelCNNV1',\n",
              " 'model_loss': 0.2891400456428528,\n",
              " 'model_acc': 90.45527156549521}"
            ]
          },
          "metadata": {},
          "execution_count": 87
        }
      ]
    },
    {
      "cell_type": "code",
      "source": [
        "def make_preds(model: torch.nn.Module,\n",
        "               data: list,\n",
        "               device: torch.device = device):\n",
        "  pred_probs = []\n",
        "  model.to(device)\n",
        "  model.eval()\n",
        "  with torch.inference_mode():\n",
        "    for sample in data:\n",
        "      sample = torch.unsqueeze(sample, dim=0).to(device)\n",
        "      pred_logit = model(sample)\n",
        "\n",
        "      # Get pred probability (logit to prediction probability)\n",
        "      pred_prob = torch.softmax(pred_logit.squeeze(), dim = 0)\n",
        "\n",
        "      # Get pred_prob off the GPU for further calculations\n",
        "      pred_probs.append(pred_prob.cpu())\n",
        "\n",
        "  return torch.stack(pred_probs)\n",
        "\n"
      ],
      "metadata": {
        "id": "pyc8kYn4U8R9"
      },
      "execution_count": 88,
      "outputs": []
    },
    {
      "cell_type": "code",
      "source": [
        "import random\n",
        "random.seed(10)\n",
        "test_samples = []\n",
        "test_labels = []\n",
        "\n",
        "for sample, label in random.sample(list(test_data), k=9):\n",
        "  test_samples.append(sample)\n",
        "  test_labels.append(label)\n",
        "\n",
        "# print(f\"Test sample: {test_samples[0]}\")"
      ],
      "metadata": {
        "id": "pAzl447gVxaC"
      },
      "execution_count": 89,
      "outputs": []
    },
    {
      "cell_type": "code",
      "source": [
        "plt.imshow(test_samples[0].squeeze(), cmap=\"gray\")\n",
        "plt.title(classes[test_labels[0]])"
      ],
      "metadata": {
        "colab": {
          "base_uri": "https://localhost:8080/",
          "height": 298
        },
        "id": "ZgiAJuHbWceN",
        "outputId": "63a074a9-ec35-4191-a2fe-a93d5158fa2c"
      },
      "execution_count": 90,
      "outputs": [
        {
          "output_type": "execute_result",
          "data": {
            "text/plain": [
              "Text(0.5, 1.0, 'Sandal')"
            ]
          },
          "metadata": {},
          "execution_count": 90
        },
        {
          "output_type": "display_data",
          "data": {
            "text/plain": [
              "<Figure size 432x288 with 1 Axes>"
            ],
            "image/png": "[encoded data removed]"
          },
          "metadata": {
            "needs_background": "light"
          }
        }
      ]
    },
    {
      "cell_type": "code",
      "source": [
        "# Make predictions\n",
        "pred_probs = make_preds(model=model_v1,\n",
        "                        data=test_samples)\n",
        "\n",
        "pred_probs[:5]"
      ],
      "metadata": {
        "colab": {
          "base_uri": "https://localhost:8080/"
        },
        "id": "US1Fum_3WvEZ",
        "outputId": "ed9e20ad-273b-4049-e2d5-d6ce7b0439ee"
      },
      "execution_count": 91,
      "outputs": [
        {
          "output_type": "execute_result",
          "data": {
            "text/plain": [
              "tensor([[1.3903e-09, 3.7563e-12, 6.9137e-12, 1.0239e-08, 3.0636e-10, 1.0000e+00,\n",
              "         1.8138e-09, 1.8920e-07, 2.7931e-08, 2.8824e-08],\n",
              "        [2.4903e-06, 1.1594e-10, 5.7710e-09, 1.0048e-08, 5.6033e-11, 1.3559e-10,\n",
              "         1.4806e-05, 3.6035e-06, 9.9998e-01, 5.5230e-09],\n",
              "        [3.3256e-03, 2.9081e-06, 4.5699e-01, 3.1839e-06, 5.2157e-01, 8.9576e-06,\n",
              "         1.8054e-02, 2.6898e-07, 1.1626e-05, 4.1193e-05],\n",
              "        [3.1601e-04, 1.1968e-05, 1.6794e-03, 5.7157e-05, 2.0520e-01, 2.4492e-07,\n",
              "         7.9128e-01, 7.8678e-07, 1.2588e-03, 1.9816e-04],\n",
              "        [9.9946e-01, 9.3182e-06, 1.0647e-04, 5.8171e-05, 2.9945e-07, 2.7210e-10,\n",
              "         3.6253e-04, 8.5308e-12, 3.4335e-07, 4.5006e-08]])"
            ]
          },
          "metadata": {},
          "execution_count": 91
        }
      ]
    },
    {
      "cell_type": "code",
      "source": [
        "pred_class = pred_probs.argmax(dim=1)\n",
        "pred_class"
      ],
      "metadata": {
        "colab": {
          "base_uri": "https://localhost:8080/"
        },
        "id": "nNOc803GeK_O",
        "outputId": "679c4071-b811-4aae-b954-78881899a6fe"
      },
      "execution_count": 92,
      "outputs": [
        {
          "output_type": "execute_result",
          "data": {
            "text/plain": [
              "tensor([5, 8, 4, 6, 0, 2, 8, 4, 3])"
            ]
          },
          "metadata": {},
          "execution_count": 92
        }
      ]
    },
    {
      "cell_type": "code",
      "source": [
        "test_labels"
      ],
      "metadata": {
        "colab": {
          "base_uri": "https://localhost:8080/"
        },
        "id": "uzJZA839eQhj",
        "outputId": "d74ed50f-ad35-40f3-b5c8-0d92205e905c"
      },
      "execution_count": 93,
      "outputs": [
        {
          "output_type": "execute_result",
          "data": {
            "text/plain": [
              "[5, 8, 6, 6, 0, 2, 8, 4, 3]"
            ]
          },
          "metadata": {},
          "execution_count": 93
        }
      ]
    },
    {
      "cell_type": "code",
      "source": [
        "plt.figure(figsize=(9, 9))\n",
        "nrows = 3\n",
        "ncols = 3\n",
        "\n",
        "for i, sample in enumerate(test_samples):\n",
        "  plt.subplot(nrows, ncols, i+1)\n",
        "\n",
        "  # Plot img\n",
        "  plt.imshow(sample.squeeze(), cmap=\"gray\")\n",
        "\n",
        "  # Find the pred\n",
        "  pred_label = classes[pred_class[i]]\n",
        "\n",
        "  # Get the truth label (in text form)\n",
        "  truth_label = classes[test_labels[i]]\n",
        "\n",
        "  # Title\n",
        "  title = f\"Prediction: {pred_label} || Real label: {truth_label}\"\n",
        "\n",
        "  # Check equality between labels\n",
        "  if pred_label == truth_label:\n",
        "    plt.title(title, fontsize=8, c=\"g\")\n",
        "  else:\n",
        "    plt.title(title, fontsize=8, c=\"r\")"
      ],
      "metadata": {
        "colab": {
          "base_uri": "https://localhost:8080/",
          "height": 550
        },
        "id": "3Lbar8Z7gL_v",
        "outputId": "3120bccd-0c57-4ad9-8ea9-3efeb3d7ecbf"
      },
      "execution_count": 94,
      "outputs": [
        {
          "output_type": "display_data",
          "data": {
            "text/plain": [
              "<Figure size 648x648 with 9 Axes>"
            ],
            "image/png": "[encoded data removed]"
          },
          "metadata": {
            "needs_background": "light"
          }
        }
      ]
    },
    {
      "cell_type": "markdown",
      "source": [
        "## 4. Confusion matrix\n",
        "\n",
        "**🟦EN**: Confusion matrix is one of the best way to evaluate a classification model\n",
        "\n",
        "1. Make predictions with out trained model on the test dataset\n",
        "2. Make a confusion matrix `torchmetrics.ConfusionMatrix`\n",
        "3. Plot the confusion matrix usign `mlxtend.plotting.plot_confusion_matrix`\n",
        "\n",
        "**🟥ES**: La matriz de confusión es uno de los mejores métodos para evaluar un modelo de clasificación.\n",
        "\n",
        "1. Hacer predicciones con el modelo entrenado en el conjunto de datos de prueba\n",
        "2. Crear una matriz de confusión `torchmetrics.ConfusionMatrix`.\n",
        "3. Trazar la matriz de confusión usando `mlxtend.plotting.plot_confusion_matrix`."
      ],
      "metadata": {
        "id": "jtv3sHm6xqca"
      }
    },
    {
      "cell_type": "code",
      "source": [
        "from tqdm.auto import tqdm"
      ],
      "metadata": {
        "id": "vl_dHAAmjUfu"
      },
      "execution_count": 95,
      "outputs": []
    },
    {
      "cell_type": "code",
      "source": [
        "# Make predictiosn with trained model\n",
        "y_preds = []\n",
        "model_v1.eval()\n",
        "with torch.inference_mode():\n",
        "  for X, y in tqdm(test_dataloader, desc=\"Making predictions\"):\n",
        "    X = X.to(device)\n",
        "    y = y.to(device)\n",
        "\n",
        "    # Forward pass\n",
        "    y_logit = model_v1(X)\n",
        "\n",
        "    # Turn predictions from logits to prediction probs to predicion labels\n",
        "    y_pred = torch.softmax(y_logit.squeeze(), dim=0).argmax(dim=1)\n",
        "\n",
        "    # Change the device to CPU to evaluation\n",
        "    y_preds.append(y_pred.cpu())\n",
        "\n",
        "# Concatenate list of predictions\n",
        "#print(f\"y_preds: {y_preds}\")\n",
        "y_pred_tensor = torch.cat(y_preds)\n",
        "print(f\"Predictions: {y_pred_tensor[:5]}\")"
      ],
      "metadata": {
        "colab": {
          "base_uri": "https://localhost:8080/",
          "height": 66,
          "referenced_widgets": [
            "8f83d939180c446f9031fbd573e46d4d",
            "9185dbab0d6f42df8b3597e138713188",
            "3b3f83fae21b453ebf53aaaeb246a75b",
            "e9907979bf454e46b9cc23f674bcc400",
            "187bacd77e644662a55e71a9a2c97b21",
            "6c0ba7a2cb184c19b8cad4e449347d06",
            "4d6debdd0f054621a0481d7ae9b8df4e",
            "5eafca8dd8404b80875a47fe8c1821cf",
            "d928a9c55bc6455aaa0e81c181cb4a94",
            "e58b5ef47c3d494eb3c841e91addc523",
            "507912fe9f0040ef9393dbcf1e24af95"
          ]
        },
        "id": "9U0hxzcOjkkL",
        "outputId": "311c4b52-1c4c-4e22-83fa-df803e6c8a5e"
      },
      "execution_count": 96,
      "outputs": [
        {
          "output_type": "display_data",
          "data": {
            "text/plain": [
              "Making predictions:   0%|          | 0/313 [00:00<?, ?it/s]"
            ],
            "application/vnd.jupyter.widget-view+json": {
              "version_major": 2,
              "version_minor": 0,
              "model_id": "8f83d939180c446f9031fbd573e46d4d"
            }
          },
          "metadata": {}
        },
        {
          "output_type": "stream",
          "name": "stdout",
          "text": [
            "Predictions: tensor([0, 5, 0, 3, 3])\n"
          ]
        }
      ]
    },
    {
      "cell_type": "code",
      "source": [
        "try: \n",
        "  import torchmetrics, mlxtend\n",
        "  print(f\"mlxtend version: {mlxtend.__version__}\")\n",
        "  assert int(mlxtend.__version__.split(\".\")[1]) >= 19, \"mlxtend version should be 0.19.0 or higher\"\n",
        "except:\n",
        "  !pip install -q torchmetrics -U mlxtend\n",
        "  print(f\"mlxtend version: {mlxtend.__version__}\")\n"
      ],
      "metadata": {
        "colab": {
          "base_uri": "https://localhost:8080/"
        },
        "id": "1hMFVsR9k4IU",
        "outputId": "deca89ea-31ea-475f-82b6-b1cd6b4b82b5"
      },
      "execution_count": 97,
      "outputs": [
        {
          "output_type": "stream",
          "name": "stdout",
          "text": [
            "mlxtend version: 0.21.0\n"
          ]
        }
      ]
    },
    {
      "cell_type": "code",
      "source": [
        "from torchmetrics import ConfusionMatrix\n",
        "from mlxtend.plotting import plot_confusion_matrix\n",
        "\n",
        "# Setup Confusion matrix instance and compare preditiosn to target\n",
        "c_matrix = ConfusionMatrix(num_classes=len(classes), task=\"multiclass\")\n",
        "c_matrix_tensor = c_matrix(preds=y_pred_tensor,\n",
        "                           target=test_data.targets)\n",
        "\n",
        "c_matrix_tensor"
      ],
      "metadata": {
        "colab": {
          "base_uri": "https://localhost:8080/"
        },
        "id": "ENXq1yGtlsf0",
        "outputId": "752cb9ff-0e5d-4b52-b0ba-87a7d4d94841"
      },
      "execution_count": 98,
      "outputs": [
        {
          "output_type": "execute_result",
          "data": {
            "text/plain": [
              "tensor([[ 97,  89,  99, 114,  99,  89, 133, 116,  91,  73],\n",
              "        [ 93,  96,  97, 113,  98,  86, 129, 123,  76,  89],\n",
              "        [110,  94,  97, 116,  81,  77, 132, 125,  93,  75],\n",
              "        [ 88,  98, 123, 107,  96,  79, 121, 135,  80,  73],\n",
              "        [102,  87, 113, 116,  84,  79, 122, 120,  98,  79],\n",
              "        [ 99, 101, 109, 110,  95,  84, 104, 125,  86,  87],\n",
              "        [102,  77, 100, 101, 112,  79, 124, 133,  86,  86],\n",
              "        [ 92,  93,  98, 114,  87,  86, 136, 132,  84,  78],\n",
              "        [114, 109,  95,  98,  83,  68, 137, 126,  89,  81],\n",
              "        [114,  94, 101, 117,  96,  94, 137, 105,  61,  81]])"
            ]
          },
          "metadata": {},
          "execution_count": 98
        }
      ]
    },
    {
      "cell_type": "code",
      "source": [
        "fig, ax = plot_confusion_matrix(\n",
        "    conf_mat=c_matrix_tensor.numpy(), # Matplotblib works with numpy\n",
        "    class_names=classes,\n",
        "    figsize=(10, 7)\n",
        ")"
      ],
      "metadata": {
        "colab": {
          "base_uri": "https://localhost:8080/",
          "height": 477
        },
        "id": "Ws1uNPMME7VB",
        "outputId": "ebb28361-83dc-4c3f-fcb7-77d319e15416"
      },
      "execution_count": 99,
      "outputs": [
        {
          "output_type": "display_data",
          "data": {
            "text/plain": [
              "<Figure size 720x504 with 1 Axes>"
            ],
            "image/png": "[encoded data removed]"
          },
          "metadata": {
            "needs_background": "light"
          }
        }
      ]
    },
    {
      "cell_type": "code",
      "source": [
        "from pathlib import Path\n",
        "# Create model\n",
        "\n",
        "MODEL_PATH = Path(\"models\")\n",
        "MODEL_PATH.mkdir(parents=True,\n",
        "                 exist_ok=True)\n",
        "\n",
        "MODEL_NAME = \"04_CNN_model.pth\"\n",
        "MODEL_SAVE_PATH = MODEL_PATH / MODEL_NAME\n",
        "print(f\"Save path: {MODEL_SAVE_PATH}\")\n",
        "torch.save(obj=model_v1.state_dict(),\n",
        "           f=MODEL_SAVE_PATH)\n"
      ],
      "metadata": {
        "colab": {
          "base_uri": "https://localhost:8080/"
        },
        "id": "hMuQWB3eJQrw",
        "outputId": "ebd2f749-3b2f-4cb6-bbaf-2a573aaf1d9a"
      },
      "execution_count": 100,
      "outputs": [
        {
          "output_type": "stream",
          "name": "stdout",
          "text": [
            "Save path: models/04_CNN_model.pth\n"
          ]
        }
      ]
    },
    {
      "cell_type": "code",
      "source": [
        "from torchvision.datasets.mnist import FashionMNIST\n",
        "# Create new instance\n",
        "torch.manual_seed(10)\n",
        "loaded_model_v1 = FashionModelCNNV1(input_shape=1,\n",
        "                                    output_shape=OUTPUT,\n",
        "                                    hidden_lay=20)\n",
        "# Load model\n",
        "\n",
        "loaded_model_v1.load_state_dict(torch.load(f=MODEL_SAVE_PATH))\n",
        "loaded_model_v1.to(device)"
      ],
      "metadata": {
        "colab": {
          "base_uri": "https://localhost:8080/"
        },
        "id": "B6kaxYh_MCX7",
        "outputId": "19081715-6d20-4a77-f6f9-4393f56b4b11"
      },
      "execution_count": 101,
      "outputs": [
        {
          "output_type": "execute_result",
          "data": {
            "text/plain": [
              "FashionModelCNNV1(\n",
              "  (conv_block_1): Sequential(\n",
              "    (0): Conv2d(1, 20, kernel_size=(3, 3), stride=(1, 1), padding=(1, 1))\n",
              "    (1): ReLU()\n",
              "    (2): Conv2d(20, 20, kernel_size=(3, 3), stride=(1, 1), padding=(1, 1))\n",
              "    (3): ReLU()\n",
              "    (4): MaxPool2d(kernel_size=2, stride=2, padding=0, dilation=1, ceil_mode=False)\n",
              "  )\n",
              "  (conv_block_2): Sequential(\n",
              "    (0): Conv2d(20, 20, kernel_size=(3, 3), stride=(1, 1), padding=(1, 1))\n",
              "    (1): ReLU()\n",
              "    (2): Conv2d(20, 20, kernel_size=(3, 3), stride=(1, 1), padding=(1, 1))\n",
              "    (3): ReLU()\n",
              "    (4): MaxPool2d(kernel_size=2, stride=2, padding=0, dilation=1, ceil_mode=False)\n",
              "  )\n",
              "  (classificator_layer): Sequential(\n",
              "    (0): Flatten(start_dim=1, end_dim=-1)\n",
              "    (1): Linear(in_features=980, out_features=10, bias=True)\n",
              "  )\n",
              ")"
            ]
          },
          "metadata": {},
          "execution_count": 101
        }
      ]
    },
    {
      "cell_type": "code",
      "source": [
        "# Evaluate loaded model\n",
        "torch.manual_seed(10)\n",
        "\n",
        "loaded_model_v1_res = eval_model(\n",
        "    model=loaded_model_v1.to(device),\n",
        "    data_loader=test_dataloader,\n",
        "    loss_fn=loss_fn,\n",
        "    accuracy_fn=accuracy_fn,\n",
        "    device=device\n",
        ")\n",
        "\n",
        "loaded_model_v1_res"
      ],
      "metadata": {
        "colab": {
          "base_uri": "https://localhost:8080/"
        },
        "id": "qIfWc7EDPal6",
        "outputId": "63d845e3-ebac-4202-89bd-1088749cccd8"
      },
      "execution_count": 102,
      "outputs": [
        {
          "output_type": "execute_result",
          "data": {
            "text/plain": [
              "{'model_name': 'FashionModelCNNV1',\n",
              " 'model_loss': 0.2891400456428528,\n",
              " 'model_acc': 90.45527156549521}"
            ]
          },
          "metadata": {},
          "execution_count": 102
        }
      ]
    },
    {
      "cell_type": "code",
      "source": [
        "# Check if the model resutl are close to each other\n",
        "torch.isclose(torch.tensor(model_v1_res[\"model_loss\"]),\n",
        "              torch.tensor(loaded_model_v1_res[\"model_loss\"]))"
      ],
      "metadata": {
        "colab": {
          "base_uri": "https://localhost:8080/"
        },
        "id": "RVyLuPFSQbcy",
        "outputId": "0aae47e0-1b34-4d37-e769-d47e4d0d6eec"
      },
      "execution_count": 103,
      "outputs": [
        {
          "output_type": "execute_result",
          "data": {
            "text/plain": [
              "tensor(True)"
            ]
          },
          "metadata": {},
          "execution_count": 103
        }
      ]
    }
  ]
}