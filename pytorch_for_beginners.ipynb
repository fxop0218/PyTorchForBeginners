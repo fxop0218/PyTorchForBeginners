{
  "nbformat": 4,
  "nbformat_minor": 0,
  "metadata": {
    "colab": {
      "provenance": [],
      "authorship_tag": "ABX9TyPsDzg6uHU3Y+T/jVWxUKLq",
      "include_colab_link": true
    },
    "kernelspec": {
      "name": "python3",
      "display_name": "Python 3"
    },
    "language_info": {
      "name": "python"
    },
    "gpuClass": "standard"
  },
  "cells": [
    {
      "cell_type": "markdown",
      "metadata": {
        "id": "view-in-github",
        "colab_type": "text"
      },
      "source": [
        "<a href=\"https://colab.research.google.com/github/fxop0218/PyTorchForBeginners/blob/main/pytorch_for_beginners.ipynb\" target=\"_parent\"><img src=\"https://colab.research.google.com/assets/colab-badge.svg\" alt=\"Open In Colab\"/></a>"
      ]
    },
    {
      "cell_type": "markdown",
      "source": [
        "# Pytorch for beginers\n",
        "\n",
        "This booklet aims to show the first steps to follow when creating a model with pytorch and its main features."
      ],
      "metadata": {
        "id": "lbCPSl81x9d9"
      }
    },
    {
      "cell_type": "code",
      "execution_count": 1,
      "metadata": {
        "colab": {
          "base_uri": "https://localhost:8080/"
        },
        "id": "wCo4R3HMxoEM",
        "outputId": "5baf1c60-56db-47c9-9ba6-3435db353809"
      },
      "outputs": [
        {
          "output_type": "stream",
          "name": "stdout",
          "text": [
            "1.13.0+cu116\n"
          ]
        }
      ],
      "source": [
        "import torch\n",
        "import pandas as pd\n",
        "import numpy as np\n",
        "print(torch.__version__)"
      ]
    },
    {
      "cell_type": "markdown",
      "source": [
        "# 🟦EN Introducton to Tensors\n",
        "\n",
        "# 🟥ES Introducción a los tensores."
      ],
      "metadata": {
        "id": "oAeeP4gnyfYu"
      }
    },
    {
      "cell_type": "markdown",
      "source": [
        "### Creating tensors"
      ],
      "metadata": {
        "id": "yQdwIvqCyxQZ"
      }
    },
    {
      "cell_type": "code",
      "source": [
        "# Scalar\n",
        "\n",
        "scalar = torch.tensor(7)\n",
        "scalar"
      ],
      "metadata": {
        "colab": {
          "base_uri": "https://localhost:8080/"
        },
        "id": "IkgkSfDay3j5",
        "outputId": "c9ea146d-c027-4915-a8f5-eaef7bd02a37"
      },
      "execution_count": 2,
      "outputs": [
        {
          "output_type": "execute_result",
          "data": {
            "text/plain": [
              "tensor(7)"
            ]
          },
          "metadata": {},
          "execution_count": 2
        }
      ]
    },
    {
      "cell_type": "markdown",
      "source": [
        "To see more information of  [Pytotch tensors](https://pytorch.org/docs/stable/tensors.html)"
      ],
      "metadata": {
        "id": "k08bLhyOzBWG"
      }
    },
    {
      "cell_type": "code",
      "source": [
        "scalar.ndim"
      ],
      "metadata": {
        "colab": {
          "base_uri": "https://localhost:8080/"
        },
        "id": "sJ3MtIwjzUC0",
        "outputId": "36f63581-59c6-4079-c0b0-d0c31322bfbc"
      },
      "execution_count": 3,
      "outputs": [
        {
          "output_type": "execute_result",
          "data": {
            "text/plain": [
              "0"
            ]
          },
          "metadata": {},
          "execution_count": 3
        }
      ]
    },
    {
      "cell_type": "code",
      "source": [
        "# Get tensor as Python int\n",
        "scalar.item()"
      ],
      "metadata": {
        "id": "ViskV1guzT9p",
        "colab": {
          "base_uri": "https://localhost:8080/"
        },
        "outputId": "c55db964-5313-4c66-f801-c2ef37098769"
      },
      "execution_count": 4,
      "outputs": [
        {
          "output_type": "execute_result",
          "data": {
            "text/plain": [
              "7"
            ]
          },
          "metadata": {},
          "execution_count": 4
        }
      ]
    },
    {
      "cell_type": "code",
      "source": [
        "# Vector\n",
        "vec = torch.tensor([7,7])\n",
        "vec"
      ],
      "metadata": {
        "colab": {
          "base_uri": "https://localhost:8080/"
        },
        "id": "Jk1lnDeYzrws",
        "outputId": "1374e395-d03e-4b0e-f2d3-ec902cf3031a"
      },
      "execution_count": 5,
      "outputs": [
        {
          "output_type": "execute_result",
          "data": {
            "text/plain": [
              "tensor([7, 7])"
            ]
          },
          "metadata": {},
          "execution_count": 5
        }
      ]
    },
    {
      "cell_type": "code",
      "source": [
        "vec.ndim"
      ],
      "metadata": {
        "colab": {
          "base_uri": "https://localhost:8080/"
        },
        "id": "u2PZnp_Uz0_h",
        "outputId": "38d85a1e-b62a-4828-96b3-aa292991789f"
      },
      "execution_count": 6,
      "outputs": [
        {
          "output_type": "execute_result",
          "data": {
            "text/plain": [
              "1"
            ]
          },
          "metadata": {},
          "execution_count": 6
        }
      ]
    },
    {
      "cell_type": "code",
      "source": [
        "vec.shape"
      ],
      "metadata": {
        "colab": {
          "base_uri": "https://localhost:8080/"
        },
        "id": "i19U7gSNz3yS",
        "outputId": "6dd6fa70-86e5-455f-aa97-e9202abac5ba"
      },
      "execution_count": 7,
      "outputs": [
        {
          "output_type": "execute_result",
          "data": {
            "text/plain": [
              "torch.Size([2])"
            ]
          },
          "metadata": {},
          "execution_count": 7
        }
      ]
    },
    {
      "cell_type": "code",
      "source": [
        "# Matrix\n",
        "\n",
        "matrix = torch.tensor([[1,1],\n",
        "                       [2,1]])"
      ],
      "metadata": {
        "id": "31RvBnxx0A72"
      },
      "execution_count": 8,
      "outputs": []
    },
    {
      "cell_type": "code",
      "source": [
        "matrix.ndim"
      ],
      "metadata": {
        "colab": {
          "base_uri": "https://localhost:8080/"
        },
        "id": "pclkYQsk0JlU",
        "outputId": "211c2f43-4789-47e7-9d34-09d67fedf4f3"
      },
      "execution_count": 9,
      "outputs": [
        {
          "output_type": "execute_result",
          "data": {
            "text/plain": [
              "2"
            ]
          },
          "metadata": {},
          "execution_count": 9
        }
      ]
    },
    {
      "cell_type": "code",
      "source": [
        "matrix.shape"
      ],
      "metadata": {
        "colab": {
          "base_uri": "https://localhost:8080/"
        },
        "id": "INBsH3Le0Kqj",
        "outputId": "c25225e0-e35f-4929-f831-41b70e677457"
      },
      "execution_count": 10,
      "outputs": [
        {
          "output_type": "execute_result",
          "data": {
            "text/plain": [
              "torch.Size([2, 2])"
            ]
          },
          "metadata": {},
          "execution_count": 10
        }
      ]
    },
    {
      "cell_type": "code",
      "source": [
        "matrix[1]"
      ],
      "metadata": {
        "colab": {
          "base_uri": "https://localhost:8080/"
        },
        "id": "bf0_MtHA0SPv",
        "outputId": "0422fbbe-7347-410b-bb74-cb0221353737"
      },
      "execution_count": 11,
      "outputs": [
        {
          "output_type": "execute_result",
          "data": {
            "text/plain": [
              "tensor([2, 1])"
            ]
          },
          "metadata": {},
          "execution_count": 11
        }
      ]
    },
    {
      "cell_type": "code",
      "source": [
        "# Tensor\n",
        "tensor = torch.tensor([[[1,2,3],\n",
        "                        [3,5,7],\n",
        "                        [1,2,3]]])\n",
        "\n",
        "tensor"
      ],
      "metadata": {
        "colab": {
          "base_uri": "https://localhost:8080/"
        },
        "id": "vQQMz3Ua0XcS",
        "outputId": "b9cddfe9-2a61-4ab2-c940-b73e39662cb5"
      },
      "execution_count": 12,
      "outputs": [
        {
          "output_type": "execute_result",
          "data": {
            "text/plain": [
              "tensor([[[1, 2, 3],\n",
              "         [3, 5, 7],\n",
              "         [1, 2, 3]]])"
            ]
          },
          "metadata": {},
          "execution_count": 12
        }
      ]
    },
    {
      "cell_type": "code",
      "source": [
        "tensor.ndim"
      ],
      "metadata": {
        "colab": {
          "base_uri": "https://localhost:8080/"
        },
        "id": "WjQivv-E0qRI",
        "outputId": "c5c45f71-5060-4da6-eb0f-efbbfc3466f3"
      },
      "execution_count": 13,
      "outputs": [
        {
          "output_type": "execute_result",
          "data": {
            "text/plain": [
              "3"
            ]
          },
          "metadata": {},
          "execution_count": 13
        }
      ]
    },
    {
      "cell_type": "code",
      "source": [
        "tensor.shape"
      ],
      "metadata": {
        "colab": {
          "base_uri": "https://localhost:8080/"
        },
        "id": "3VwUjglk0pGo",
        "outputId": "71bda8da-360a-418b-d7f6-97f9331fe732"
      },
      "execution_count": 14,
      "outputs": [
        {
          "output_type": "execute_result",
          "data": {
            "text/plain": [
              "torch.Size([1, 3, 3])"
            ]
          },
          "metadata": {},
          "execution_count": 14
        }
      ]
    },
    {
      "cell_type": "markdown",
      "source": [
        "***🟦EN*** The first number (x) of torch.Size([x, y, z]) means the number of dimensions of the matrix, the second number (y), represents the number of vectors that compose the matrix, and the last number (z) means reflects the number of numbers that are in the matrix per neighbor, and the last number (z) means the number of vectors that compose the matrix.\n",
        "\n",
        "***🟥ES*** El primer numero(x) de torch.Size([x, y, z]) significa el numero de dimensiones de la matriz, en segundo numero (y), representa el número de vectores que componen la matriz, y el ultimo número (z) significa refleja la cantidad de números que hay por vec"
      ],
      "metadata": {
        "id": "whLfHnXb01kO"
      }
    },
    {
      "cell_type": "code",
      "source": [
        "tensor[0]"
      ],
      "metadata": {
        "colab": {
          "base_uri": "https://localhost:8080/"
        },
        "id": "AnNvAmqu1nbF",
        "outputId": "b5963af5-a237-4812-b1a1-ab54bae0e1b0"
      },
      "execution_count": 15,
      "outputs": [
        {
          "output_type": "execute_result",
          "data": {
            "text/plain": [
              "tensor([[1, 2, 3],\n",
              "        [3, 5, 7],\n",
              "        [1, 2, 3]])"
            ]
          },
          "metadata": {},
          "execution_count": 15
        }
      ]
    },
    {
      "cell_type": "code",
      "source": [
        "tensor[0][0]"
      ],
      "metadata": {
        "colab": {
          "base_uri": "https://localhost:8080/"
        },
        "id": "VT4-fjgd1qE5",
        "outputId": "87490f9e-469a-43cd-94c7-c991b48309be"
      },
      "execution_count": 16,
      "outputs": [
        {
          "output_type": "execute_result",
          "data": {
            "text/plain": [
              "tensor([1, 2, 3])"
            ]
          },
          "metadata": {},
          "execution_count": 16
        }
      ]
    },
    {
      "cell_type": "code",
      "source": [
        "tensor[0][0][0]"
      ],
      "metadata": {
        "colab": {
          "base_uri": "https://localhost:8080/"
        },
        "id": "1Uj1lcPm1snN",
        "outputId": "8159a2c7-bef2-4131-f22e-f7d75f804148"
      },
      "execution_count": 17,
      "outputs": [
        {
          "output_type": "execute_result",
          "data": {
            "text/plain": [
              "tensor(1)"
            ]
          },
          "metadata": {},
          "execution_count": 17
        }
      ]
    },
    {
      "cell_type": "markdown",
      "source": [
        "## Random tensors\n",
        "\n",
        "***🟦EN***:The random tensors are important becuase the way many neuronal networks learn is that they start with ramdom number in their tensors and adjus those to better represent the data. \n",
        "\n",
        "\n",
        "***🟥ES***:Los tensores aleatorios son importantes porque la forma en que muchas redes neuronales aprenden es que empiezan con números aleatorios en sus tensores y los ajustan para representar mejor los datos. "
      ],
      "metadata": {
        "id": "__p5y5_w1ynb"
      }
    },
    {
      "cell_type": "code",
      "source": [
        "# Create random tensor of size [3, 4]\n",
        "rand_tensor = torch.rand(3, 4)\n",
        "rand_tensor"
      ],
      "metadata": {
        "colab": {
          "base_uri": "https://localhost:8080/"
        },
        "id": "CZFyNazf4u9q",
        "outputId": "7f4d5cd1-86ae-4faa-8aa1-f7c0b2824aca"
      },
      "execution_count": 18,
      "outputs": [
        {
          "output_type": "execute_result",
          "data": {
            "text/plain": [
              "tensor([[0.1357, 0.6940, 0.5625, 0.8715],\n",
              "        [0.8947, 0.9559, 0.9125, 0.2577],\n",
              "        [0.2389, 0.0158, 0.3433, 0.8495]])"
            ]
          },
          "metadata": {},
          "execution_count": 18
        }
      ]
    },
    {
      "cell_type": "code",
      "source": [
        "rand_tensor2 = torch.rand(7, 2, 2)\n",
        "rand_tensor2"
      ],
      "metadata": {
        "colab": {
          "base_uri": "https://localhost:8080/"
        },
        "id": "GpbMvlF65A-k",
        "outputId": "e106da7d-6ab5-471f-f665-c788bf92aca6"
      },
      "execution_count": 19,
      "outputs": [
        {
          "output_type": "execute_result",
          "data": {
            "text/plain": [
              "tensor([[[0.1715, 0.4594],\n",
              "         [0.7946, 0.2944]],\n",
              "\n",
              "        [[0.1224, 0.8873],\n",
              "         [0.7992, 0.3094]],\n",
              "\n",
              "        [[0.2040, 0.6843],\n",
              "         [0.6679, 0.1653]],\n",
              "\n",
              "        [[0.1418, 0.7375],\n",
              "         [0.6067, 0.4060]],\n",
              "\n",
              "        [[0.0963, 0.2255],\n",
              "         [0.8632, 0.1235]],\n",
              "\n",
              "        [[0.5176, 0.2962],\n",
              "         [0.0868, 0.6849]],\n",
              "\n",
              "        [[0.1959, 0.8998],\n",
              "         [0.6275, 0.0611]]])"
            ]
          },
          "metadata": {},
          "execution_count": 19
        }
      ]
    },
    {
      "cell_type": "code",
      "source": [
        "# Create random tensor with similar shapo to an imgae\n",
        "HEIGHT = 224\n",
        "WIDTH = 224\n",
        "COLOR = 3 # Black and with = 1\n",
        "rand_img_tensor = torch.rand(size=(HEIGHT, WIDTH, COLOR)) # height, width, RGB (in this case)\n",
        "print(f\"Shape: {rand_img_tensor.shape}\\nNDIM: {rand_img_tensor.ndim}\\nDType: {rand_img_tensor.dtype}\")"
      ],
      "metadata": {
        "colab": {
          "base_uri": "https://localhost:8080/"
        },
        "id": "cDNpLUKx5IBO",
        "outputId": "e2962dc0-07fb-49fc-ee9c-f46aec72fa65"
      },
      "execution_count": 20,
      "outputs": [
        {
          "output_type": "stream",
          "name": "stdout",
          "text": [
            "Shape: torch.Size([224, 224, 3])\n",
            "NDIM: 3\n",
            "DType: torch.float32\n"
          ]
        }
      ]
    },
    {
      "cell_type": "code",
      "source": [
        "# Tensor all zeros\n",
        "zero_tensor = torch.zeros(size=(3, 4))\n",
        "zero_tensor"
      ],
      "metadata": {
        "colab": {
          "base_uri": "https://localhost:8080/"
        },
        "id": "0OgV7EQv56r4",
        "outputId": "b535e9af-3b43-40c1-9a6a-ab8e6ace5b54"
      },
      "execution_count": 21,
      "outputs": [
        {
          "output_type": "execute_result",
          "data": {
            "text/plain": [
              "tensor([[0., 0., 0., 0.],\n",
              "        [0., 0., 0., 0.],\n",
              "        [0., 0., 0., 0.]])"
            ]
          },
          "metadata": {},
          "execution_count": 21
        }
      ]
    },
    {
      "cell_type": "code",
      "source": [
        "# Tensor all one\n",
        "one_tensor = torch.ones(size=(4,4))\n",
        "one_tensor"
      ],
      "metadata": {
        "colab": {
          "base_uri": "https://localhost:8080/"
        },
        "id": "6fJe9__U6Brn",
        "outputId": "faa0b513-76b5-47e7-8908-c952e6de9817"
      },
      "execution_count": 22,
      "outputs": [
        {
          "output_type": "execute_result",
          "data": {
            "text/plain": [
              "tensor([[1., 1., 1., 1.],\n",
              "        [1., 1., 1., 1.],\n",
              "        [1., 1., 1., 1.],\n",
              "        [1., 1., 1., 1.]])"
            ]
          },
          "metadata": {},
          "execution_count": 22
        }
      ]
    },
    {
      "cell_type": "markdown",
      "source": [
        "## Create a range of tensors and tensors-like"
      ],
      "metadata": {
        "id": "TO1rT7sQ6vtL"
      }
    },
    {
      "cell_type": "code",
      "source": [
        "arange_ = torch.arange(0, 10)\n",
        "# To 1 - 10:\n",
        "one_ten = torch.arange(1, 11)\n",
        "one_ten\n",
        "\n",
        "print(f\"arange(0,10): {arange_}\\n arange(1, 11): {one_ten}\")"
      ],
      "metadata": {
        "colab": {
          "base_uri": "https://localhost:8080/"
        },
        "id": "EKg_rld26zZs",
        "outputId": "bd9de6ec-eef6-42dc-d291-89443bbdf10f"
      },
      "execution_count": 23,
      "outputs": [
        {
          "output_type": "stream",
          "name": "stdout",
          "text": [
            "arange(0,10): tensor([0, 1, 2, 3, 4, 5, 6, 7, 8, 9])\n",
            " arange(1, 11): tensor([ 1,  2,  3,  4,  5,  6,  7,  8,  9, 10])\n"
          ]
        }
      ]
    },
    {
      "cell_type": "code",
      "source": [
        "step = torch.arange(start=0, end=3000, step=94)\n",
        "step"
      ],
      "metadata": {
        "colab": {
          "base_uri": "https://localhost:8080/"
        },
        "id": "QcPCxG5k7csi",
        "outputId": "83e364c5-7b23-42f7-83b1-6ebde67cf9ca"
      },
      "execution_count": 24,
      "outputs": [
        {
          "output_type": "execute_result",
          "data": {
            "text/plain": [
              "tensor([   0,   94,  188,  282,  376,  470,  564,  658,  752,  846,  940, 1034,\n",
              "        1128, 1222, 1316, 1410, 1504, 1598, 1692, 1786, 1880, 1974, 2068, 2162,\n",
              "        2256, 2350, 2444, 2538, 2632, 2726, 2820, 2914])"
            ]
          },
          "metadata": {},
          "execution_count": 24
        }
      ]
    },
    {
      "cell_type": "code",
      "source": [
        "# tensor-like (Transform all the numbers to 0)\n",
        "ten_zeros = torch.zeros_like(input=one_ten)\n",
        "ten_zeros"
      ],
      "metadata": {
        "colab": {
          "base_uri": "https://localhost:8080/"
        },
        "id": "5drth7CO7pk8",
        "outputId": "56c055cb-425c-4e43-93ca-2d0bd05c247d"
      },
      "execution_count": 25,
      "outputs": [
        {
          "output_type": "execute_result",
          "data": {
            "text/plain": [
              "tensor([0, 0, 0, 0, 0, 0, 0, 0, 0, 0])"
            ]
          },
          "metadata": {},
          "execution_count": 25
        }
      ]
    },
    {
      "cell_type": "markdown",
      "source": [
        "## Tensor Datatypes"
      ],
      "metadata": {
        "id": "ERM9A7IN73r5"
      }
    },
    {
      "cell_type": "markdown",
      "source": [
        "***🟦EN***: Datatypes is a common error in DeepLearnig con PyTorch\n",
        "\n",
        "***🟥ES***: Los Datatypes son un error comun en DeepLearnign con PyTorch"
      ],
      "metadata": {
        "id": "JrSB-Fho4oN7"
      }
    },
    {
      "cell_type": "markdown",
      "source": [
        "***🟦EN***: The principal error in are:\n",
        "1. Tensor no rigth datatype.\n",
        "2. Tensor not right shape.\n",
        "3. Tensor not right device.\n",
        "\n",
        "***🟥ES***: Los principales errores són:\n",
        "1. Tensors sin el datatype correcto\n",
        "2. Tensor no tiene la forma correcta\n",
        "3. Tensor sin el dispositivo correcto."
      ],
      "metadata": {
        "id": "QrsO-HSM4r6D"
      }
    },
    {
      "cell_type": "code",
      "source": [
        "# float32 tensor\n",
        "\n",
        "f_32_tensor = torch.tensor([3.0, 5.0, 6.0], dtype=None,\n",
        "                           device=None,\n",
        "                           requires_grad=False) \n",
        "f_32_tensor\n",
        "# If dtype is not specificated the default dtype is float32"
      ],
      "metadata": {
        "colab": {
          "base_uri": "https://localhost:8080/"
        },
        "id": "-gsIO-tb76Mi",
        "outputId": "44d4902e-4c96-4c0f-962a-661d6b5d4dc7"
      },
      "execution_count": 26,
      "outputs": [
        {
          "output_type": "execute_result",
          "data": {
            "text/plain": [
              "tensor([3., 5., 6.])"
            ]
          },
          "metadata": {},
          "execution_count": 26
        }
      ]
    },
    {
      "cell_type": "code",
      "source": [
        "tensor_correct = torch.tensor([3.0, 2.0, 1.0],\n",
        "                              dtype=None,\n",
        "                              device=\"cpu\", # cuda with gpu\n",
        "                              requires_grad=False)\n",
        "tensor_correct"
      ],
      "metadata": {
        "colab": {
          "base_uri": "https://localhost:8080/"
        },
        "id": "7OjoWYMbGGKZ",
        "outputId": "90487861-ba1b-4306-ca9d-40061e1b7262"
      },
      "execution_count": 27,
      "outputs": [
        {
          "output_type": "execute_result",
          "data": {
            "text/plain": [
              "tensor([3., 2., 1.])"
            ]
          },
          "metadata": {},
          "execution_count": 27
        }
      ]
    },
    {
      "cell_type": "code",
      "source": [
        "print(f\"DataType: {tensor_correct.dtype}\")"
      ],
      "metadata": {
        "colab": {
          "base_uri": "https://localhost:8080/"
        },
        "id": "DNVqvDbMGzoK",
        "outputId": "b6d9878d-271d-4c54-d089-019ca8eddcc2"
      },
      "execution_count": 28,
      "outputs": [
        {
          "output_type": "stream",
          "name": "stdout",
          "text": [
            "DataType: torch.float32\n"
          ]
        }
      ]
    },
    {
      "cell_type": "markdown",
      "source": [
        "### Get information from tensors\n",
        "1. Tensor no rigth datatype -- To do get datatype from tensor, can use ```tensor.dtype```\n",
        "2. Tensor not right shape -- To get shape from a tensor, can use `tensor.shape`\n",
        "3. Tensor not right device -- To get devide from a tensor, can use `tensor.device`"
      ],
      "metadata": {
        "id": "dUqCV4J5HoSW"
      }
    },
    {
      "cell_type": "code",
      "source": [
        "ex_tensor = torch.rand(4,4)\n",
        "ex_tensor"
      ],
      "metadata": {
        "colab": {
          "base_uri": "https://localhost:8080/"
        },
        "id": "45XPL1jFIAYx",
        "outputId": "b0523245-c1ee-4d11-fffe-0d1ccbe7601f"
      },
      "execution_count": 29,
      "outputs": [
        {
          "output_type": "execute_result",
          "data": {
            "text/plain": [
              "tensor([[0.8627, 0.7803, 0.2168, 0.6580],\n",
              "        [0.1702, 0.2578, 0.9790, 0.7919],\n",
              "        [0.3391, 0.2280, 0.4141, 0.3450],\n",
              "        [0.1115, 0.0374, 0.7620, 0.0518]])"
            ]
          },
          "metadata": {},
          "execution_count": 29
        }
      ]
    },
    {
      "cell_type": "code",
      "source": [
        "# Get details form a tensor\n",
        "print(f\"{ex_tensor}\\nDataType: {ex_tensor.dtype}\\nShapeTensor: {ex_tensor.shape}\\nDevice: {ex_tensor.device}\")"
      ],
      "metadata": {
        "colab": {
          "base_uri": "https://localhost:8080/"
        },
        "id": "Qf49IPzhIHoX",
        "outputId": "34af80c5-a79c-4ec7-b32a-19b44c0c1192"
      },
      "execution_count": 30,
      "outputs": [
        {
          "output_type": "stream",
          "name": "stdout",
          "text": [
            "tensor([[0.8627, 0.7803, 0.2168, 0.6580],\n",
            "        [0.1702, 0.2578, 0.9790, 0.7919],\n",
            "        [0.3391, 0.2280, 0.4141, 0.3450],\n",
            "        [0.1115, 0.0374, 0.7620, 0.0518]])\n",
            "DataType: torch.float32\n",
            "ShapeTensor: torch.Size([4, 4])\n",
            "Device: cpu\n"
          ]
        }
      ]
    },
    {
      "cell_type": "markdown",
      "source": [
        "### Editic tensors\n",
        "\n",
        "Tensor operation include:\n",
        "* Addition\n",
        "* Subtraction\n",
        "* Multiplication\n",
        "* Division\n",
        "* Matrix multiplication"
      ],
      "metadata": {
        "id": "HK-2DIVLIm_v"
      }
    },
    {
      "cell_type": "code",
      "source": [
        "ten = torch.tensor([12, 2, 5])"
      ],
      "metadata": {
        "id": "oacHBUGTKQ65"
      },
      "execution_count": 31,
      "outputs": []
    },
    {
      "cell_type": "code",
      "source": [
        "# Create a tensor\n",
        "%%time\n",
        "print(f\"Default tensor: {ten}\\nTensor adding 10: {ten + 10}\\nTensor muliply per 10: {ten * 10}\\nSubstract 10: {ten - 10}\")"
      ],
      "metadata": {
        "colab": {
          "base_uri": "https://localhost:8080/"
        },
        "id": "TmfIJF0EIji2",
        "outputId": "9ea68e60-65d9-4077-f04b-70cdfedd8669"
      },
      "execution_count": 32,
      "outputs": [
        {
          "output_type": "stream",
          "name": "stdout",
          "text": [
            "Default tensor: tensor([12,  2,  5])\n",
            "Tensor adding 10: tensor([22, 12, 15])\n",
            "Tensor muliply per 10: tensor([120,  20,  50])\n",
            "Substract 10: tensor([ 2, -8, -5])\n",
            "CPU times: user 3.1 ms, sys: 1.02 ms, total: 4.12 ms\n",
            "Wall time: 10.1 ms\n"
          ]
        }
      ]
    },
    {
      "cell_type": "code",
      "source": [
        "# Using PyTorch funtions to do the same\n",
        "%%time\n",
        "print(f\"Default tensor: {ten}\\nTensor adding 10: {torch.add(ten, 10)}\\nTensor muliply per 10: {torch.mul(ten, 10)}\\nSubstract 10: {torch.sub(ten, 10)}\")"
      ],
      "metadata": {
        "colab": {
          "base_uri": "https://localhost:8080/"
        },
        "id": "uzeFLLBxJqp3",
        "outputId": "dc6a4e9e-6846-4562-a725-322c209f8bc4"
      },
      "execution_count": 33,
      "outputs": [
        {
          "output_type": "stream",
          "name": "stdout",
          "text": [
            "Default tensor: tensor([12,  2,  5])\n",
            "Tensor adding 10: tensor([22, 12, 15])\n",
            "Tensor muliply per 10: tensor([120,  20,  50])\n",
            "Substract 10: tensor([ 2, -8, -5])\n",
            "CPU times: user 1.32 ms, sys: 0 ns, total: 1.32 ms\n",
            "Wall time: 2.79 ms\n"
          ]
        }
      ]
    },
    {
      "cell_type": "markdown",
      "source": [
        "### Matrix multiplication\n",
        "\n",
        "Two main ways of performing multiplications in NN (Neuronal networks) & DL (Deep learning):\n",
        "\n",
        "1. Matrix multiplication (IMPORTANT)\n",
        "2. Element-wise multiplication"
      ],
      "metadata": {
        "id": "xRm-y2P9IzDh"
      }
    },
    {
      "cell_type": "code",
      "source": [
        "# Element wise multiplication\n",
        "\n",
        "print(f\"{ten} * {ten} = {ten * ten}\\n#################\\nPytorch funcion: {torch.matmul(ten, ten)}\")"
      ],
      "metadata": {
        "colab": {
          "base_uri": "https://localhost:8080/"
        },
        "id": "nc-Y81FcLS73",
        "outputId": "47588a01-a513-45e5-f8bf-3721f5c519df"
      },
      "execution_count": 34,
      "outputs": [
        {
          "output_type": "stream",
          "name": "stdout",
          "text": [
            "tensor([12,  2,  5]) * tensor([12,  2,  5]) = tensor([144,   4,  25])\n",
            "#################\n",
            "Pytorch funcion: 173\n"
          ]
        }
      ]
    },
    {
      "cell_type": "markdown",
      "source": [
        "***🟦EN***: Let's see the time dif usign matmul and to do it by hand\n",
        "\n",
        "***🟥ES***: Vamos a ver la diferencia aciendolo usando matmaul o haciendolo a mano."
      ],
      "metadata": {
        "id": "Am59eU0o4sAE"
      }
    },
    {
      "cell_type": "code",
      "source": [
        "# Matrix mult by hand\n",
        "%%time\n",
        "val = 0\n",
        "for i in range(len(ten)):\n",
        "  val += ten[i] * ten[i]\n",
        "print(val)"
      ],
      "metadata": {
        "colab": {
          "base_uri": "https://localhost:8080/"
        },
        "id": "VA9h-pKCMLtr",
        "outputId": "b1417fcc-c1f4-44d8-ba8a-1d3ae84dfb7d"
      },
      "execution_count": 35,
      "outputs": [
        {
          "output_type": "stream",
          "name": "stdout",
          "text": [
            "tensor(173)\n",
            "CPU times: user 2.29 ms, sys: 40 µs, total: 2.33 ms\n",
            "Wall time: 5.19 ms\n"
          ]
        }
      ]
    },
    {
      "cell_type": "code",
      "source": [
        "%%time\n",
        "torch.matmul(ten, ten) # is the same as torch.mm(x, x)"
      ],
      "metadata": {
        "colab": {
          "base_uri": "https://localhost:8080/"
        },
        "id": "YAChyKX2MXzN",
        "outputId": "e96ee2aa-64c1-4bea-fccd-9b2be17d4af0"
      },
      "execution_count": 36,
      "outputs": [
        {
          "output_type": "stream",
          "name": "stdout",
          "text": [
            "CPU times: user 82 µs, sys: 0 ns, total: 82 µs\n",
            "Wall time: 246 µs\n"
          ]
        },
        {
          "output_type": "execute_result",
          "data": {
            "text/plain": [
              "tensor(173)"
            ]
          },
          "metadata": {},
          "execution_count": 36
        }
      ]
    },
    {
      "cell_type": "markdown",
      "source": [
        "Two main rules that performing matrix multiplication needs to satisfy:\n",
        "1. The *inner dimensions* must match:\n",
        "* `(3, 2) @ (3, 2)` Must work\n",
        "* `(7, 3) @ (3, 7)` Works\n",
        "* `(4, 2) @ (2, 4)` Works\n",
        "The resutl matrix has teh shape of the *outer dimension*\n",
        "* `(2, 3) @ (3, 2)` ==> `(2, 2)`\n",
        "* `(7, 3) @ (3, 7)` ==> `(7, 7)`"
      ],
      "metadata": {
        "id": "gPqsKuPoNMqJ"
      }
    },
    {
      "cell_type": "code",
      "source": [
        "torch.matmul(torch.rand(3, 2), torch.rand(2, 3))"
      ],
      "metadata": {
        "colab": {
          "base_uri": "https://localhost:8080/"
        },
        "id": "dd2_mdt_Nve2",
        "outputId": "c4516bfd-89c3-45ea-ddf1-e648235bf794"
      },
      "execution_count": 37,
      "outputs": [
        {
          "output_type": "execute_result",
          "data": {
            "text/plain": [
              "tensor([[0.8575, 0.8629, 0.7787],\n",
              "        [0.2069, 0.3861, 0.3229],\n",
              "        [0.2114, 0.4921, 0.4040]])"
            ]
          },
          "metadata": {},
          "execution_count": 37
        }
      ]
    },
    {
      "cell_type": "code",
      "source": [
        "torch.matmul(torch.rand(3, 2), torch.rand(2, 3)).shape"
      ],
      "metadata": {
        "colab": {
          "base_uri": "https://localhost:8080/"
        },
        "id": "Ga_ampfzOi7u",
        "outputId": "77d470cc-c826-4ba1-ff5b-ce66687476b3"
      },
      "execution_count": 38,
      "outputs": [
        {
          "output_type": "execute_result",
          "data": {
            "text/plain": [
              "torch.Size([3, 3])"
            ]
          },
          "metadata": {},
          "execution_count": 38
        }
      ]
    },
    {
      "cell_type": "markdown",
      "source": [
        "### Common error in deep learnin => Shape errors"
      ],
      "metadata": {
        "id": "E3YrnP7lTq1S"
      }
    },
    {
      "cell_type": "code",
      "source": [
        "# Shape for matrix => See the proccess http://matrixmultiplication.xyz/\n",
        "tensor1 = torch.tensor([[1, 2],\n",
        "                        [3, 4],\n",
        "                        [5, 6]])\n",
        "\n",
        "tensor2 = torch.tensor([[7, 8],\n",
        "                        [9, 5],\n",
        "                        [3, 2]])\n"
      ],
      "metadata": {
        "id": "WYjbOFDLUCwG"
      },
      "execution_count": 39,
      "outputs": []
    },
    {
      "cell_type": "markdown",
      "source": [
        "***🟦EN***: In this case we can't multiply `tensor1` per `tensor2`, to manipulte the shape of on eof our tensors using a **transpose**, this funciton, switches the dimension of a given tensor.\n",
        "\n",
        "***🟥ES***: Es este caso, no podemos multiplicat el `tensor1` por el `tensor2`, para manipualr la dimension de uno de los tensores usaremos la funcion **transpose**, esta dimensión intercambia la dimensión del tensor dado."
      ],
      "metadata": {
        "id": "MWHBc6_o4sGJ"
      }
    },
    {
      "cell_type": "code",
      "source": [
        "print(f\"Default tensor: {tensor1}\\nTrasosed tensor: {tensor1.T}\\nShape of default tensor {tensor1.shape}\\nTransposed shape: {tensor1.T.shape}\")"
      ],
      "metadata": {
        "colab": {
          "base_uri": "https://localhost:8080/"
        },
        "id": "9qNvKIF8VuR4",
        "outputId": "649af185-22f1-4677-ba80-c755678d2e6a"
      },
      "execution_count": 40,
      "outputs": [
        {
          "output_type": "stream",
          "name": "stdout",
          "text": [
            "Default tensor: tensor([[1, 2],\n",
            "        [3, 4],\n",
            "        [5, 6]])\n",
            "Trasosed tensor: tensor([[1, 3, 5],\n",
            "        [2, 4, 6]])\n",
            "Shape of default tensor torch.Size([3, 2])\n",
            "Transposed shape: torch.Size([2, 3])\n"
          ]
        }
      ]
    },
    {
      "cell_type": "code",
      "source": [
        "# Now can multiplication works when the tensor2 is transposed\n",
        "\n",
        "torch.mm(tensor1, tensor2.T)"
      ],
      "metadata": {
        "colab": {
          "base_uri": "https://localhost:8080/"
        },
        "id": "NRW6TzzwWtf8",
        "outputId": "a4ca1618-ae8a-476e-ff2c-b6b4205dbc0b"
      },
      "execution_count": 41,
      "outputs": [
        {
          "output_type": "execute_result",
          "data": {
            "text/plain": [
              "tensor([[23, 19,  7],\n",
              "        [53, 47, 17],\n",
              "        [83, 75, 27]])"
            ]
          },
          "metadata": {},
          "execution_count": 41
        }
      ]
    },
    {
      "cell_type": "markdown",
      "source": [
        "## Find th max, min, mean, sum...(tensor aggregation)\n"
      ],
      "metadata": {
        "id": "_XZaNcCjYYbr"
      }
    },
    {
      "cell_type": "code",
      "source": [
        "# Tensor creation\n",
        "\n",
        "tensor = torch.arange(0, 100, 5)\n",
        "tensor"
      ],
      "metadata": {
        "colab": {
          "base_uri": "https://localhost:8080/"
        },
        "id": "eHtF1Bx_YfRm",
        "outputId": "87b91738-7125-4f05-fe7c-9283335a3120"
      },
      "execution_count": 42,
      "outputs": [
        {
          "output_type": "execute_result",
          "data": {
            "text/plain": [
              "tensor([ 0,  5, 10, 15, 20, 25, 30, 35, 40, 45, 50, 55, 60, 65, 70, 75, 80, 85,\n",
              "        90, 95])"
            ]
          },
          "metadata": {},
          "execution_count": 42
        }
      ]
    },
    {
      "cell_type": "code",
      "source": [
        "print(f\"Max: {torch.max(tensor)} // {tensor.max()}\\nMin: {torch.min(tensor)} // {tensor.min()}\")\n",
        "\n",
        "# If we try to average this tensor, we will get an error due to an incorrect datatype.\n",
        "\n",
        "tensor.dtype # https://pytorch.org/docs/stable/generated/torch.mean.html"
      ],
      "metadata": {
        "colab": {
          "base_uri": "https://localhost:8080/"
        },
        "id": "iuAoSPkaYmj4",
        "outputId": "50a65bba-86a2-4975-cb11-118d7e02050c"
      },
      "execution_count": 43,
      "outputs": [
        {
          "output_type": "stream",
          "name": "stdout",
          "text": [
            "Max: 95 // 95\n",
            "Min: 0 // 0\n"
          ]
        },
        {
          "output_type": "execute_result",
          "data": {
            "text/plain": [
              "torch.int64"
            ]
          },
          "metadata": {},
          "execution_count": 43
        }
      ]
    },
    {
      "cell_type": "code",
      "source": [
        "torch.mean(tensor.type(torch.float32)), tensor.type(torch.float32).mean()"
      ],
      "metadata": {
        "colab": {
          "base_uri": "https://localhost:8080/"
        },
        "id": "hbb2kSQYaO_f",
        "outputId": "ecc835c3-fd4f-4ffe-f65b-474c0857916f"
      },
      "execution_count": 44,
      "outputs": [
        {
          "output_type": "execute_result",
          "data": {
            "text/plain": [
              "(tensor(47.5000), tensor(47.5000))"
            ]
          },
          "metadata": {},
          "execution_count": 44
        }
      ]
    },
    {
      "cell_type": "code",
      "source": [
        "# Find the sum\n",
        "torch.sum(tensor), tensor.sum()"
      ],
      "metadata": {
        "colab": {
          "base_uri": "https://localhost:8080/"
        },
        "id": "gErmA9u6YOXW",
        "outputId": "4cd5882a-e3ff-4b98-c93a-9baf66e91d96"
      },
      "execution_count": 45,
      "outputs": [
        {
          "output_type": "execute_result",
          "data": {
            "text/plain": [
              "(tensor(950), tensor(950))"
            ]
          },
          "metadata": {},
          "execution_count": 45
        }
      ]
    },
    {
      "cell_type": "code",
      "source": [
        "print(f\"ArgMin: {tensor.argmin()} ArgMax: {tensor.argmax()}\")"
      ],
      "metadata": {
        "colab": {
          "base_uri": "https://localhost:8080/"
        },
        "id": "WiMJ1bVDY3B7",
        "outputId": "80ee786d-3cf3-48dd-b53b-627efacd7ddc"
      },
      "execution_count": 46,
      "outputs": [
        {
          "output_type": "stream",
          "name": "stdout",
          "text": [
            "ArgMin: 0 ArgMax: 19\n"
          ]
        }
      ]
    },
    {
      "cell_type": "markdown",
      "source": [
        "## Reshaping, stackng, squeezing and unsequeezing tensors.\n",
        "\n",
        "***🟦EN***: \n",
        "* **Reshaping**: Reshapes an input tensor to a defined shape.\n",
        "* **View**: Return a view of an input tensor of certain shape but keep the same memory as the original tensor.\n",
        "* **Stacking**: Combine multiple tensors on top of each other (vstack) or side by side. \n",
        "* **Squeeze**: Removes all `1` dimensions from a tensor\n",
        "* **Unsqueeze**: Add a `1` dimension to a target tensor\n",
        "* **Permute**: Return a view of the input with dimensions permuted (swapped) in a certain way\n",
        "\n",
        "***🟥ES***:\n",
        "* **Reshaping**: Da nueva forma a un tensor de entrada con una forma definida.\n",
        "* **View**: Devuelve una vista de un tensor de entrada de cierta forma pero manteniendo la misma memoria que el tensor original.\n",
        "* **Stacking**: Combina varios tensores uno encima de otro (vstack) o uno al lado del otro.\n",
        "* **Unsqueeze**: Añade `1` dimension al tensor escogido.\n",
        "* **Permute**: Devuelve una vista de la entrada con las dimensiones permutadas (intercambiadas) de una determinada manera."
      ],
      "metadata": {
        "id": "mhwM4pM8Tp2V"
      }
    },
    {
      "cell_type": "code",
      "source": [
        "# Create a tensor\n",
        "\n",
        "tensor = torch.arange(1., 11.)\n",
        "print(f\"Tensor: {tensor}\\nTensor Shape: {tensor.shape}\")"
      ],
      "metadata": {
        "colab": {
          "base_uri": "https://localhost:8080/"
        },
        "id": "ql3Insu-cJLn",
        "outputId": "80d11097-59f4-4aac-cd98-fddb87b8dc94"
      },
      "execution_count": 47,
      "outputs": [
        {
          "output_type": "stream",
          "name": "stdout",
          "text": [
            "Tensor: tensor([ 1.,  2.,  3.,  4.,  5.,  6.,  7.,  8.,  9., 10.])\n",
            "Tensor Shape: torch.Size([10])\n"
          ]
        }
      ]
    },
    {
      "cell_type": "code",
      "source": [
        "# Now we add an extra dimension to the last tensor.\n",
        "tensor_reshaped = tensor.reshape(1, 10) # tensor.reshape(x, y) To reshape y we need the form sama has te tensor.\n",
        "print(f\"Reshaped tensor: {tensor_reshaped}\\nReshaped tensor shape: {tensor_reshaped.shape}\")"
      ],
      "metadata": {
        "colab": {
          "base_uri": "https://localhost:8080/"
        },
        "id": "2AcdcvcScbRR",
        "outputId": "53b77425-12fc-4342-85c1-f1873c323805"
      },
      "execution_count": 48,
      "outputs": [
        {
          "output_type": "stream",
          "name": "stdout",
          "text": [
            "Reshaped tensor: tensor([[ 1.,  2.,  3.,  4.,  5.,  6.,  7.,  8.,  9., 10.]])\n",
            "Reshaped tensor shape: torch.Size([1, 10])\n"
          ]
        }
      ]
    },
    {
      "cell_type": "code",
      "source": [
        "tensor_reshaped = tensor.reshape(10, 1) # tensor.reshape(x, y) To reshape x we need the form sama has te tensor.\n",
        "print(f\"Reshaped tensor: {tensor_reshaped}\\nReshaped tensor shape: {tensor_reshaped.shape}\")"
      ],
      "metadata": {
        "colab": {
          "base_uri": "https://localhost:8080/"
        },
        "id": "LSDIpps0ckF0",
        "outputId": "49ded757-9f27-49c7-e61a-fddd0425fae7"
      },
      "execution_count": 49,
      "outputs": [
        {
          "output_type": "stream",
          "name": "stdout",
          "text": [
            "Reshaped tensor: tensor([[ 1.],\n",
            "        [ 2.],\n",
            "        [ 3.],\n",
            "        [ 4.],\n",
            "        [ 5.],\n",
            "        [ 6.],\n",
            "        [ 7.],\n",
            "        [ 8.],\n",
            "        [ 9.],\n",
            "        [10.]])\n",
            "Reshaped tensor shape: torch.Size([10, 1])\n"
          ]
        }
      ]
    },
    {
      "cell_type": "code",
      "source": [
        "tensor_reshaped = tensor.reshape(5, 2) # tensor.reshape(x, y) To reshape x we need the form sama has te tensor.\n",
        "print(f\"Reshaped tensor: {tensor_reshaped}\\nReshaped tensor shape: {tensor_reshaped.shape}\")"
      ],
      "metadata": {
        "colab": {
          "base_uri": "https://localhost:8080/"
        },
        "id": "pjPrYevTdgYQ",
        "outputId": "2f112bce-d308-47b4-dba0-1d260857ec3d"
      },
      "execution_count": 50,
      "outputs": [
        {
          "output_type": "stream",
          "name": "stdout",
          "text": [
            "Reshaped tensor: tensor([[ 1.,  2.],\n",
            "        [ 3.,  4.],\n",
            "        [ 5.,  6.],\n",
            "        [ 7.,  8.],\n",
            "        [ 9., 10.]])\n",
            "Reshaped tensor shape: torch.Size([5, 2])\n"
          ]
        }
      ]
    },
    {
      "cell_type": "code",
      "source": [
        "# Change the view \n",
        "\n",
        "cv_tensor = tensor.view(1,10)\n",
        "print(f\"Changed view tensor: {cv_tensor}\\nDefault tensor: {tensor}\")"
      ],
      "metadata": {
        "colab": {
          "base_uri": "https://localhost:8080/"
        },
        "id": "r06aDvSnfCBW",
        "outputId": "ce3b4085-86ab-4ae1-f9ff-4fb808365f00"
      },
      "execution_count": 51,
      "outputs": [
        {
          "output_type": "stream",
          "name": "stdout",
          "text": [
            "Changed view tensor: tensor([[ 1.,  2.,  3.,  4.,  5.,  6.,  7.,  8.,  9., 10.]])\n",
            "Default tensor: tensor([ 1.,  2.,  3.,  4.,  5.,  6.,  7.,  8.,  9., 10.])\n"
          ]
        }
      ]
    },
    {
      "cell_type": "code",
      "source": [
        "# Changin cv_tensor changes tensor variable, becuase a view of a tensor shaes the same memory as the original imput.\n",
        "cv_tensor[:, 0] = 5\n",
        "print(f\"Changed view tensor: {cv_tensor}\\nDefault tensor: {tensor}\")"
      ],
      "metadata": {
        "colab": {
          "base_uri": "https://localhost:8080/"
        },
        "id": "G6Sk3UVcfrYf",
        "outputId": "cf2e7893-ed07-4b3c-83d2-0079137c21a6"
      },
      "execution_count": 52,
      "outputs": [
        {
          "output_type": "stream",
          "name": "stdout",
          "text": [
            "Changed view tensor: tensor([[ 5.,  2.,  3.,  4.,  5.,  6.,  7.,  8.,  9., 10.]])\n",
            "Default tensor: tensor([ 5.,  2.,  3.,  4.,  5.,  6.,  7.,  8.,  9., 10.])\n"
          ]
        }
      ]
    },
    {
      "cell_type": "code",
      "source": [
        "# Stack tensors on top of each other\n",
        "tensor_stacked = torch.stack([tensor, tensor, tensor, tensor])\n",
        "tensor_stacked"
      ],
      "metadata": {
        "colab": {
          "base_uri": "https://localhost:8080/"
        },
        "id": "b-dyJUwRgAxh",
        "outputId": "cd3e193c-97e7-446c-adb8-fda794d10b98"
      },
      "execution_count": 53,
      "outputs": [
        {
          "output_type": "execute_result",
          "data": {
            "text/plain": [
              "tensor([[ 5.,  2.,  3.,  4.,  5.,  6.,  7.,  8.,  9., 10.],\n",
              "        [ 5.,  2.,  3.,  4.,  5.,  6.,  7.,  8.,  9., 10.],\n",
              "        [ 5.,  2.,  3.,  4.,  5.,  6.,  7.,  8.,  9., 10.],\n",
              "        [ 5.,  2.,  3.,  4.,  5.,  6.,  7.,  8.,  9., 10.]])"
            ]
          },
          "metadata": {},
          "execution_count": 53
        }
      ]
    },
    {
      "cell_type": "code",
      "source": [
        "tensor_stacked = torch.stack([tensor, tensor, tensor, tensor], dim=1)\n",
        "tensor_stacked"
      ],
      "metadata": {
        "colab": {
          "base_uri": "https://localhost:8080/"
        },
        "id": "8_fVE-s7g2tO",
        "outputId": "c6e70dd1-7fa0-4011-9835-cc9b9d40236c"
      },
      "execution_count": 54,
      "outputs": [
        {
          "output_type": "execute_result",
          "data": {
            "text/plain": [
              "tensor([[ 5.,  5.,  5.,  5.],\n",
              "        [ 2.,  2.,  2.,  2.],\n",
              "        [ 3.,  3.,  3.,  3.],\n",
              "        [ 4.,  4.,  4.,  4.],\n",
              "        [ 5.,  5.,  5.,  5.],\n",
              "        [ 6.,  6.,  6.,  6.],\n",
              "        [ 7.,  7.,  7.,  7.],\n",
              "        [ 8.,  8.,  8.,  8.],\n",
              "        [ 9.,  9.,  9.,  9.],\n",
              "        [10., 10., 10., 10.]])"
            ]
          },
          "metadata": {},
          "execution_count": 54
        }
      ]
    },
    {
      "cell_type": "code",
      "source": [
        "# torch.squeezee() removes all single dimensions forma target tensor.\n",
        "print(f\"Tensor before squeeze: {cv_tensor}\\nTensor before squeeze shape: {cv_tensor.shape}\")\n",
        "squeeze_tensor = cv_tensor.squeeze()\n",
        "print(\"###############################\")\n",
        "print(f\"Tensor after squeeze: {squeeze_tensor}\\nTensor after squeeze shape: {squeeze_tensor.shape}\")"
      ],
      "metadata": {
        "colab": {
          "base_uri": "https://localhost:8080/"
        },
        "id": "AwNIwO66hvdh",
        "outputId": "15d01248-2b92-4f5e-83d6-bcb78593bcc9"
      },
      "execution_count": 55,
      "outputs": [
        {
          "output_type": "stream",
          "name": "stdout",
          "text": [
            "Tensor before squeeze: tensor([[ 5.,  2.,  3.,  4.,  5.,  6.,  7.,  8.,  9., 10.]])\n",
            "Tensor before squeeze shape: torch.Size([1, 10])\n",
            "###############################\n",
            "Tensor after squeeze: tensor([ 5.,  2.,  3.,  4.,  5.,  6.,  7.,  8.,  9., 10.])\n",
            "Tensor after squeeze shape: torch.Size([10])\n"
          ]
        }
      ]
    },
    {
      "cell_type": "code",
      "source": [
        "# Add extradimension with unsqueeze\n",
        "unsqueezed_tensor = squeeze_tensor.unsqueeze(dim=0) # dim = 1 ==> torch.shape([10, 1])\n",
        "print(f\"New tensor: {unsqueezed_tensor}\")\n",
        "print(f\"New shape: {unsqueezed_tensor.shape}\")"
      ],
      "metadata": {
        "colab": {
          "base_uri": "https://localhost:8080/"
        },
        "id": "UOOAnfIIjQpc",
        "outputId": "42c9a8f5-be96-46ca-f924-232f61e80172"
      },
      "execution_count": 56,
      "outputs": [
        {
          "output_type": "stream",
          "name": "stdout",
          "text": [
            "New tensor: tensor([[ 5.,  2.,  3.,  4.,  5.,  6.,  7.,  8.,  9., 10.]])\n",
            "New shape: torch.Size([1, 10])\n"
          ]
        }
      ]
    },
    {
      "cell_type": "code",
      "source": [
        "# torch.permute ==> rearranges the dimensions of a target tensor in a specidied order\n",
        "\n",
        "original = torch.rand(size=(224, 224, 3)) # Height, width, colour cannels\n",
        "\n",
        "# Permute the original tensor to rearrange the axis (or dim) order\n",
        "\n",
        "permuted = original.permute(2, 0, 1) # Shifts axis 0 => 1, 1 => 2, 2 => 0\n",
        "\n",
        "print(f\"Previous shape: {original.shape}\\nNew shape: {permuted.shape}\") # Colour cannels, Height, width "
      ],
      "metadata": {
        "colab": {
          "base_uri": "https://localhost:8080/"
        },
        "id": "0mqYtkhkkCnF",
        "outputId": "308deeb7-85b3-4174-9609-403c4ce7e1fe"
      },
      "execution_count": 57,
      "outputs": [
        {
          "output_type": "stream",
          "name": "stdout",
          "text": [
            "Previous shape: torch.Size([224, 224, 3])\n",
            "New shape: torch.Size([3, 224, 224])\n"
          ]
        }
      ]
    },
    {
      "cell_type": "code",
      "source": [
        "# The changes in the \"original\" are reflected in the \"permuted\" becuase share the space of memory\n",
        "permuted[0, 0, 0] = 10\n",
        "print(f\"Prtmuted: {permuted[0,0,0]}\\nOriginal: {original[0,0,0]}\")"
      ],
      "metadata": {
        "colab": {
          "base_uri": "https://localhost:8080/"
        },
        "id": "oy3SF-yslFHi",
        "outputId": "12f291a0-a635-451c-96c5-8d16fa28baaf"
      },
      "execution_count": 58,
      "outputs": [
        {
          "output_type": "stream",
          "name": "stdout",
          "text": [
            "Prtmuted: 10.0\n",
            "Original: 10.0\n"
          ]
        }
      ]
    },
    {
      "cell_type": "markdown",
      "source": [
        "### Indexin (select data from tensors) *Similar to NumPy*\n",
        "\n",
        "***🟦EN***: Indexin with Pytorch in very similar to indexing with NumPy\n",
        "\n",
        "***🟥ES***: Indexar con PyTorch es muy similar a indexar con NumPy"
      ],
      "metadata": {
        "id": "vSnZM3X5Tp7m"
      }
    },
    {
      "cell_type": "code",
      "source": [
        "# Create a tensor\n",
        "\n",
        "tensor_idx = torch.arange(1, 10).reshape(1, 3, 3)\n",
        "print(f\"Tensor: {tensor_idx}\\nTensor shape: {tensor_idx.shape}\")"
      ],
      "metadata": {
        "colab": {
          "base_uri": "https://localhost:8080/"
        },
        "id": "pFGbFdL5l8yf",
        "outputId": "d03f4abb-57dd-40b7-c6e5-13c6cb548267"
      },
      "execution_count": 59,
      "outputs": [
        {
          "output_type": "stream",
          "name": "stdout",
          "text": [
            "Tensor: tensor([[[1, 2, 3],\n",
            "         [4, 5, 6],\n",
            "         [7, 8, 9]]])\n",
            "Tensor shape: torch.Size([1, 3, 3])\n"
          ]
        }
      ]
    },
    {
      "cell_type": "code",
      "source": [
        "print(f\"{tensor_idx[0]}\\n{tensor_idx[0][0]}\")"
      ],
      "metadata": {
        "colab": {
          "base_uri": "https://localhost:8080/"
        },
        "id": "VpSur4uNmVnE",
        "outputId": "30b4b230-d789-4f13-ea21-9992622299eb"
      },
      "execution_count": 60,
      "outputs": [
        {
          "output_type": "stream",
          "name": "stdout",
          "text": [
            "tensor([[1, 2, 3],\n",
            "        [4, 5, 6],\n",
            "        [7, 8, 9]])\n",
            "tensor([1, 2, 3])\n"
          ]
        }
      ]
    },
    {
      "cell_type": "code",
      "source": [
        "# Let0s index on the most inner braket (last dimension)\n",
        "tensor_idx[0][0][0], tensor_idx[0][1][1]"
      ],
      "metadata": {
        "colab": {
          "base_uri": "https://localhost:8080/"
        },
        "id": "jF8-aqCOuxQX",
        "outputId": "07c6e531-9499-49d4-de4c-cb636f4853d9"
      },
      "execution_count": 61,
      "outputs": [
        {
          "output_type": "execute_result",
          "data": {
            "text/plain": [
              "(tensor(1), tensor(5))"
            ]
          },
          "metadata": {},
          "execution_count": 61
        }
      ]
    },
    {
      "cell_type": "code",
      "source": [
        "# To select all of a target dimension, we use :\n",
        "tensor_idx[:, 2]"
      ],
      "metadata": {
        "colab": {
          "base_uri": "https://localhost:8080/"
        },
        "id": "O0WePlw8vCIJ",
        "outputId": "2eb06327-32f3-4582-c1b6-4ee017329cd0"
      },
      "execution_count": 62,
      "outputs": [
        {
          "output_type": "execute_result",
          "data": {
            "text/plain": [
              "tensor([[7, 8, 9]])"
            ]
          },
          "metadata": {},
          "execution_count": 62
        }
      ]
    },
    {
      "cell_type": "code",
      "source": [
        "# Get all the values of 0th and 1st dimensions but only index 1 of 2nd dimension\n",
        "tensor_idx[:, :, 1]"
      ],
      "metadata": {
        "colab": {
          "base_uri": "https://localhost:8080/"
        },
        "id": "NXgTYTmOvYHr",
        "outputId": "75439a25-6707-4e8e-cc46-9be5d081d113"
      },
      "execution_count": 63,
      "outputs": [
        {
          "output_type": "execute_result",
          "data": {
            "text/plain": [
              "tensor([[2, 5, 8]])"
            ]
          },
          "metadata": {},
          "execution_count": 63
        }
      ]
    },
    {
      "cell_type": "code",
      "source": [
        "# Get all values of the 0 dimension but only the 1 index values of 1st and 2nd dimesnion\n",
        "tensor_idx[:, 1, 1]"
      ],
      "metadata": {
        "colab": {
          "base_uri": "https://localhost:8080/"
        },
        "id": "hcI3j-7Rvqza",
        "outputId": "6d77033e-d9e1-48cd-e4ad-7cdcf1c8ea4d"
      },
      "execution_count": 64,
      "outputs": [
        {
          "output_type": "execute_result",
          "data": {
            "text/plain": [
              "tensor([5])"
            ]
          },
          "metadata": {},
          "execution_count": 64
        }
      ]
    },
    {
      "cell_type": "code",
      "source": [
        "# Index to return 9\n",
        "tensor_idx[:, 2, 2]"
      ],
      "metadata": {
        "colab": {
          "base_uri": "https://localhost:8080/"
        },
        "id": "22de3aZ7wOb8",
        "outputId": "27fb8f4c-9853-4eea-d72a-560c2274c59e"
      },
      "execution_count": 65,
      "outputs": [
        {
          "output_type": "execute_result",
          "data": {
            "text/plain": [
              "tensor([9])"
            ]
          },
          "metadata": {},
          "execution_count": 65
        }
      ]
    },
    {
      "cell_type": "code",
      "source": [
        "# Index to return 3, 6, 9\n",
        "tensor_idx[:, :, 2]"
      ],
      "metadata": {
        "colab": {
          "base_uri": "https://localhost:8080/"
        },
        "id": "nzZqEeQTwXZ4",
        "outputId": "61b9cf2d-bfdc-4cdc-ecd1-c491b921b498"
      },
      "execution_count": 66,
      "outputs": [
        {
          "output_type": "execute_result",
          "data": {
            "text/plain": [
              "tensor([[3, 6, 9]])"
            ]
          },
          "metadata": {},
          "execution_count": 66
        }
      ]
    },
    {
      "cell_type": "markdown",
      "source": [
        "### Pytorch & NumPy\n",
        "\n",
        "***🟦EN***: NumPy its a popular library to numerical computing, and becuase of this, PyTorch can interact with him.\n",
        "* Data in **NumPy**, want in PyTorch tensor => `torch.from_numpy(ndarray)`\n",
        "* **PyTorch** tensor to NumPy => `torch.Tensor.numpy()`\n",
        "\n",
        "***🟥ES***: NumPy es una biblioteca popular para la computación numérica, y debido a esto, PyTorch puede interactuar con él\n",
        "* Datos en **NumPy**, a **PyTorch** tensro => `torch.from_numpy(ndarray)`\n",
        "* **PyTorch** Tensor a **NumPy** => `torch.Tensor.numpy()`"
      ],
      "metadata": {
        "id": "rKbtPaJkTp96"
      }
    },
    {
      "cell_type": "code",
      "source": [
        "# NUMPY ARRAY TO PYTORCH TENSOR\n",
        "# Imports\n",
        "import torch\n",
        "import numpy as np\n",
        "\n",
        "# Create array\n",
        "array = np.arange(1.0, 8.0)\n",
        "\n",
        "# Transform to tensor\n",
        "tensor = torch.from_numpy(array) # The default datatype when we are transformed from numpy to tensor is float64\n",
        "\n",
        "print(f\"Array: {array}\\nTensor: {tensor}\")\n",
        "print(f\"Array DType: {array.dtype}\\nTensor DType: {tensor.dtype}\")"
      ],
      "metadata": {
        "colab": {
          "base_uri": "https://localhost:8080/"
        },
        "id": "0JJzbMaGw3mS",
        "outputId": "390cd7a5-2645-4915-c631-5564f6b98892"
      },
      "execution_count": 67,
      "outputs": [
        {
          "output_type": "stream",
          "name": "stdout",
          "text": [
            "Array: [1. 2. 3. 4. 5. 6. 7.]\n",
            "Tensor: tensor([1., 2., 3., 4., 5., 6., 7.], dtype=torch.float64)\n",
            "Array DType: float64\n",
            "Tensor DType: torch.float64\n"
          ]
        }
      ]
    },
    {
      "cell_type": "code",
      "source": [
        "# PYTORCH TENSOR TO NUMPY ARRAY\n",
        "# Imports\n",
        "import torch\n",
        "import numpy as np\n",
        "\n",
        "# Create a tensro\n",
        "tensor = torch.arange(1.0, 10.0)\n",
        "\n",
        "# To array\n",
        "array = tensor.numpy()\n",
        "\n",
        "print(f\"Array: {array}\\nTensor: {tensor}\")\n",
        "print(f\"Array DType: {array.dtype}\\nTensor DType: {tensor.dtype}\")"
      ],
      "metadata": {
        "colab": {
          "base_uri": "https://localhost:8080/"
        },
        "id": "0PqmtVG2yblj",
        "outputId": "b0d0a3a6-7f6d-40dd-e0c5-951854955d6e"
      },
      "execution_count": 68,
      "outputs": [
        {
          "output_type": "stream",
          "name": "stdout",
          "text": [
            "Array: [1. 2. 3. 4. 5. 6. 7. 8. 9.]\n",
            "Tensor: tensor([1., 2., 3., 4., 5., 6., 7., 8., 9.])\n",
            "Array DType: float32\n",
            "Tensor DType: torch.float32\n"
          ]
        }
      ]
    },
    {
      "cell_type": "markdown",
      "source": [
        "### Reproducbility (trying to take random out of random)\n",
        "\n",
        "***🟦EN***: In short how a neural network learns:\n",
        "\n",
        "Start with random numbers => tensor operations => update random numbers to try and make them better representations of data => repeat\n",
        "\n",
        "To reduce the randomness in NN we use a *Random seed*.\n",
        "\n",
        "***🟥ES***: En resumen, cómo aprende una red neuronal:\n",
        "\n",
        "Empieza con números aleatorios => operaciones tensoriales => actualiza los números aleatorios para intentar que representen mejor los datos => repite\n",
        "\n",
        "Para reducir la aleatoriedad en las NN, usamos una *Semilla aleatoría*"
      ],
      "metadata": {
        "id": "to1msI_4Tp__"
      }
    },
    {
      "cell_type": "code",
      "source": [
        "# Imports\n",
        "import torch\n",
        "\n",
        "# Create a random tensor\n",
        "rand_tensor1 = torch.rand(3, 5)\n",
        "rand_tensor2 = torch.rand(3, 5)\n",
        "\n",
        "# Show\n",
        "print(f\"Random tensor 1:\\n{rand_tensor1}\\nRandom tensor 2:\\n{rand_tensor2}\\nThe tensors are the same?\\n{rand_tensor1 == rand_tensor2}\")"
      ],
      "metadata": {
        "colab": {
          "base_uri": "https://localhost:8080/"
        },
        "id": "m2CAeNcYz-Gs",
        "outputId": "70f319ff-6e8b-4333-8479-6b732ac165dd"
      },
      "execution_count": 69,
      "outputs": [
        {
          "output_type": "stream",
          "name": "stdout",
          "text": [
            "Random tensor 1:\n",
            "tensor([[0.7621, 0.0943, 0.0326, 0.7796, 0.9931],\n",
            "        [0.9711, 0.3766, 0.0466, 0.4129, 0.3991],\n",
            "        [0.9663, 0.3513, 0.4921, 0.6189, 0.7522]])\n",
            "Random tensor 2:\n",
            "tensor([[0.7942, 0.6972, 0.7532, 0.7129, 0.0548],\n",
            "        [0.6718, 0.2428, 0.7385, 0.7523, 0.5954],\n",
            "        [0.3981, 0.1782, 0.9675, 0.8670, 0.0604]])\n",
            "The tensors are the same?\n",
            "tensor([[False, False, False, False, False],\n",
            "        [False, False, False, False, False],\n",
            "        [False, False, False, False, False]])\n"
          ]
        }
      ]
    },
    {
      "cell_type": "code",
      "source": [
        "# Make reproducible \"ramdom tensors\"\n",
        "# Imports\n",
        "\n",
        "import torch\n",
        "\n",
        "# Create random seed\n",
        "RANDOM_SEED = 1000\n",
        "\n",
        "# Create \"Random\" tensor\n",
        "torch.manual_seed(RANDOM_SEED)\n",
        "random_tensor_A = torch.rand(3, 5)\n",
        "\n",
        "torch.manual_seed(RANDOM_SEED)\n",
        "random_tensor_B = torch.rand(3, 5)\n",
        "\n",
        "print(f\"Random tensor 1:\\n{random_tensor_A}\\nRandom tensor 2:\\n{random_tensor_B}\\nThe tensors are the same?\\n{random_tensor_A == random_tensor_B}\")"
      ],
      "metadata": {
        "colab": {
          "base_uri": "https://localhost:8080/"
        },
        "id": "hBrgYJif1aHX",
        "outputId": "b664cfea-e634-4ebe-dfd1-31714f3634b4"
      },
      "execution_count": 70,
      "outputs": [
        {
          "output_type": "stream",
          "name": "stdout",
          "text": [
            "Random tensor 1:\n",
            "tensor([[0.3189, 0.6136, 0.4418, 0.2580, 0.2724],\n",
            "        [0.6261, 0.4410, 0.3653, 0.3535, 0.5971],\n",
            "        [0.3572, 0.4807, 0.4217, 0.1254, 0.6818]])\n",
            "Random tensor 2:\n",
            "tensor([[0.3189, 0.6136, 0.4418, 0.2580, 0.2724],\n",
            "        [0.6261, 0.4410, 0.3653, 0.3535, 0.5971],\n",
            "        [0.3572, 0.4807, 0.4217, 0.1254, 0.6818]])\n",
            "The tensors are the same?\n",
            "tensor([[True, True, True, True, True],\n",
            "        [True, True, True, True, True],\n",
            "        [True, True, True, True, True]])\n"
          ]
        }
      ]
    },
    {
      "cell_type": "markdown",
      "source": [
        "### Running tensors on the GPUs\n",
        "***🟦EN***: The GPUs enable much faster computing thanks to CUDA and NVIDIA technologies.\n",
        "\n",
        "***🟥ES***: Las GPUs permiten una computación mucho mas rapida gracias a las tecnologias CUDA y de NVIDIA."
      ],
      "metadata": {
        "id": "90OuaswWTqCE"
      }
    },
    {
      "cell_type": "code",
      "source": [
        "# Check if have access to a GPU\n",
        "import torch\n",
        "\n",
        "torch.cuda.is_available()"
      ],
      "metadata": {
        "colab": {
          "base_uri": "https://localhost:8080/"
        },
        "id": "TFw4yvdq2_A-",
        "outputId": "cc246df7-85d5-455e-c94e-fdf25ab883fa"
      },
      "execution_count": 71,
      "outputs": [
        {
          "output_type": "execute_result",
          "data": {
            "text/plain": [
              "False"
            ]
          },
          "metadata": {},
          "execution_count": 71
        }
      ]
    },
    {
      "cell_type": "code",
      "source": [
        "!nvidia-smi"
      ],
      "metadata": {
        "colab": {
          "base_uri": "https://localhost:8080/"
        },
        "id": "jed6AefKENn-",
        "outputId": "0429aad1-e7a6-4b70-e9aa-04cf1fabf1af"
      },
      "execution_count": 72,
      "outputs": [
        {
          "output_type": "stream",
          "name": "stdout",
          "text": [
            "NVIDIA-SMI has failed because it couldn't communicate with the NVIDIA driver. Make sure that the latest NVIDIA driver is installed and running.\n",
            "\n"
          ]
        }
      ]
    },
    {
      "cell_type": "code",
      "source": [
        "# Setup device agnostic code\n",
        "device = \"cuda\" if torch.cuda.is_available() else \"cpu\"\n",
        "device"
      ],
      "metadata": {
        "colab": {
          "base_uri": "https://localhost:8080/",
          "height": 36
        },
        "id": "14t3XOrsEXBl",
        "outputId": "327e03f4-742a-49b7-a0dc-b9a618173d43"
      },
      "execution_count": 73,
      "outputs": [
        {
          "output_type": "execute_result",
          "data": {
            "text/plain": [
              "'cpu'"
            ],
            "application/vnd.google.colaboratory.intrinsic+json": {
              "type": "string"
            }
          },
          "metadata": {},
          "execution_count": 73
        }
      ]
    },
    {
      "cell_type": "code",
      "source": [
        "# Number of devices\n",
        "\n",
        "torch.cuda.device_count()"
      ],
      "metadata": {
        "colab": {
          "base_uri": "https://localhost:8080/"
        },
        "id": "zWcRQOm4EieQ",
        "outputId": "238ccce0-2069-4be2-c981-feb54dedc078"
      },
      "execution_count": 74,
      "outputs": [
        {
          "output_type": "stream",
          "name": "stderr",
          "text": [
            "/usr/local/lib/python3.8/dist-packages/torch/cuda/__init__.py:497: UserWarning: Can't initialize NVML\n",
            "  warnings.warn(\"Can't initialize NVML\")\n"
          ]
        },
        {
          "output_type": "execute_result",
          "data": {
            "text/plain": [
              "0"
            ]
          },
          "metadata": {},
          "execution_count": 74
        }
      ]
    }
  ]
}