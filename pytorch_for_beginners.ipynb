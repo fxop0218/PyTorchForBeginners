{
  "nbformat": 4,
  "nbformat_minor": 0,
  "metadata": {
    "colab": {
      "provenance": []
    },
    "kernelspec": {
      "name": "python3",
      "display_name": "Python 3"
    },
    "language_info": {
      "name": "python"
    }
  },
  "cells": [
    {
      "cell_type": "markdown",
      "source": [
        "# Pytorch for beginers\n",
        "\n",
        "This booklet aims to show the first steps to follow when creating a model with pytorch and its main features."
      ],
      "metadata": {
        "id": "lbCPSl81x9d9"
      }
    },
    {
      "cell_type": "code",
      "execution_count": 2,
      "metadata": {
        "colab": {
          "base_uri": "https://localhost:8080/"
        },
        "id": "wCo4R3HMxoEM",
        "outputId": "0a50f097-ca4d-4c29-8aec-f3645e5654e8"
      },
      "outputs": [
        {
          "output_type": "stream",
          "name": "stdout",
          "text": [
            "1.13.0+cu116\n"
          ]
        }
      ],
      "source": [
        "import torch\n",
        "import pandas as pd\n",
        "import numpy as np\n",
        "print(torch.__version__)"
      ]
    },
    {
      "cell_type": "markdown",
      "source": [
        "# 🟦EN Introducton to Tensors\n",
        "\n",
        "# 🟥ES Introducción a los tensores."
      ],
      "metadata": {
        "id": "oAeeP4gnyfYu"
      }
    },
    {
      "cell_type": "markdown",
      "source": [
        "### Creating tensors"
      ],
      "metadata": {
        "id": "yQdwIvqCyxQZ"
      }
    },
    {
      "cell_type": "code",
      "source": [
        "# Scalar\n",
        "\n",
        "scalar = torch.tensor(7)\n",
        "scalar"
      ],
      "metadata": {
        "colab": {
          "base_uri": "https://localhost:8080/"
        },
        "id": "IkgkSfDay3j5",
        "outputId": "5a8b3633-a6d6-43da-b066-1302ece814d2"
      },
      "execution_count": 3,
      "outputs": [
        {
          "output_type": "execute_result",
          "data": {
            "text/plain": [
              "tensor(7)"
            ]
          },
          "metadata": {},
          "execution_count": 3
        }
      ]
    },
    {
      "cell_type": "markdown",
      "source": [
        "To see more information of  [Pytotch tensors](https://pytorch.org/docs/stable/tensors.html)"
      ],
      "metadata": {
        "id": "k08bLhyOzBWG"
      }
    },
    {
      "cell_type": "code",
      "source": [
        "scalar.ndim"
      ],
      "metadata": {
        "colab": {
          "base_uri": "https://localhost:8080/"
        },
        "id": "sJ3MtIwjzUC0",
        "outputId": "8050abbb-6120-4f11-b474-e1a6b51bede7"
      },
      "execution_count": 4,
      "outputs": [
        {
          "output_type": "execute_result",
          "data": {
            "text/plain": [
              "0"
            ]
          },
          "metadata": {},
          "execution_count": 4
        }
      ]
    },
    {
      "cell_type": "code",
      "source": [
        "# Get tensor as Python int\n",
        "scalar.item()"
      ],
      "metadata": {
        "id": "ViskV1guzT9p",
        "colab": {
          "base_uri": "https://localhost:8080/"
        },
        "outputId": "1342a267-452e-44fd-b32e-890e3a779702"
      },
      "execution_count": 5,
      "outputs": [
        {
          "output_type": "execute_result",
          "data": {
            "text/plain": [
              "7"
            ]
          },
          "metadata": {},
          "execution_count": 5
        }
      ]
    },
    {
      "cell_type": "code",
      "source": [
        "# Vector\n",
        "vec = torch.tensor([7,7])\n",
        "vec"
      ],
      "metadata": {
        "colab": {
          "base_uri": "https://localhost:8080/"
        },
        "id": "Jk1lnDeYzrws",
        "outputId": "4219ced5-ae52-4622-b075-4abbc98e7989"
      },
      "execution_count": 6,
      "outputs": [
        {
          "output_type": "execute_result",
          "data": {
            "text/plain": [
              "tensor([7, 7])"
            ]
          },
          "metadata": {},
          "execution_count": 6
        }
      ]
    },
    {
      "cell_type": "code",
      "source": [
        "vec.ndim"
      ],
      "metadata": {
        "colab": {
          "base_uri": "https://localhost:8080/"
        },
        "id": "u2PZnp_Uz0_h",
        "outputId": "95b0a782-70e4-4892-b13b-c4bd0388f883"
      },
      "execution_count": 7,
      "outputs": [
        {
          "output_type": "execute_result",
          "data": {
            "text/plain": [
              "1"
            ]
          },
          "metadata": {},
          "execution_count": 7
        }
      ]
    },
    {
      "cell_type": "code",
      "source": [
        "vec.shape"
      ],
      "metadata": {
        "colab": {
          "base_uri": "https://localhost:8080/"
        },
        "id": "i19U7gSNz3yS",
        "outputId": "3e724df7-b6bc-45d9-f49e-d0546dc6bc82"
      },
      "execution_count": 8,
      "outputs": [
        {
          "output_type": "execute_result",
          "data": {
            "text/plain": [
              "torch.Size([2])"
            ]
          },
          "metadata": {},
          "execution_count": 8
        }
      ]
    },
    {
      "cell_type": "code",
      "source": [
        "# Matrix\n",
        "\n",
        "matrix = torch.tensor([[1,1],\n",
        "                       [2,1]])"
      ],
      "metadata": {
        "id": "31RvBnxx0A72"
      },
      "execution_count": 9,
      "outputs": []
    },
    {
      "cell_type": "code",
      "source": [
        "matrix.ndim"
      ],
      "metadata": {
        "colab": {
          "base_uri": "https://localhost:8080/"
        },
        "id": "pclkYQsk0JlU",
        "outputId": "2d2e9cb8-d37d-4b75-e110-5dba55b6b74b"
      },
      "execution_count": 10,
      "outputs": [
        {
          "output_type": "execute_result",
          "data": {
            "text/plain": [
              "2"
            ]
          },
          "metadata": {},
          "execution_count": 10
        }
      ]
    },
    {
      "cell_type": "code",
      "source": [
        "matrix.shape"
      ],
      "metadata": {
        "colab": {
          "base_uri": "https://localhost:8080/"
        },
        "id": "INBsH3Le0Kqj",
        "outputId": "bb8d690a-1533-434a-d410-9fdc011d6fe9"
      },
      "execution_count": 11,
      "outputs": [
        {
          "output_type": "execute_result",
          "data": {
            "text/plain": [
              "torch.Size([2, 2])"
            ]
          },
          "metadata": {},
          "execution_count": 11
        }
      ]
    },
    {
      "cell_type": "code",
      "source": [
        "matrix[1]"
      ],
      "metadata": {
        "colab": {
          "base_uri": "https://localhost:8080/"
        },
        "id": "bf0_MtHA0SPv",
        "outputId": "19c840bc-4b61-4969-febc-65180cf1f118"
      },
      "execution_count": 12,
      "outputs": [
        {
          "output_type": "execute_result",
          "data": {
            "text/plain": [
              "tensor([2, 1])"
            ]
          },
          "metadata": {},
          "execution_count": 12
        }
      ]
    },
    {
      "cell_type": "code",
      "source": [
        "# Tensor\n",
        "tensor = torch.tensor([[[1,2,3],\n",
        "                        [3,5,7],\n",
        "                        [1,2,3]]])\n",
        "\n",
        "tensor"
      ],
      "metadata": {
        "colab": {
          "base_uri": "https://localhost:8080/"
        },
        "id": "vQQMz3Ua0XcS",
        "outputId": "6ee819f3-b74f-42b5-c5e9-a8ba60ebd563"
      },
      "execution_count": 13,
      "outputs": [
        {
          "output_type": "execute_result",
          "data": {
            "text/plain": [
              "tensor([[[1, 2, 3],\n",
              "         [3, 5, 7],\n",
              "         [1, 2, 3]]])"
            ]
          },
          "metadata": {},
          "execution_count": 13
        }
      ]
    },
    {
      "cell_type": "code",
      "source": [
        "tensor.ndim"
      ],
      "metadata": {
        "colab": {
          "base_uri": "https://localhost:8080/"
        },
        "id": "WjQivv-E0qRI",
        "outputId": "6d9efe4d-c18d-430d-f30f-9cbad26b95cb"
      },
      "execution_count": 14,
      "outputs": [
        {
          "output_type": "execute_result",
          "data": {
            "text/plain": [
              "3"
            ]
          },
          "metadata": {},
          "execution_count": 14
        }
      ]
    },
    {
      "cell_type": "code",
      "source": [
        "tensor.shape"
      ],
      "metadata": {
        "colab": {
          "base_uri": "https://localhost:8080/"
        },
        "id": "3VwUjglk0pGo",
        "outputId": "f06bf555-2be7-4574-fcd7-bea1e01423b2"
      },
      "execution_count": 15,
      "outputs": [
        {
          "output_type": "execute_result",
          "data": {
            "text/plain": [
              "torch.Size([1, 3, 3])"
            ]
          },
          "metadata": {},
          "execution_count": 15
        }
      ]
    },
    {
      "cell_type": "markdown",
      "source": [
        "***🟦EN*** The first number (x) of torch.Size([x, y, z]) means the number of dimensions of the matrix, the second number (y), represents the number of vectors that compose the matrix, and the last number (z) means reflects the number of numbers that are in the matrix per neighbor, and the last number (z) means the number of vectors that compose the matrix.\n",
        "\n",
        "***🟥ES*** El primer numero(x) de torch.Size([x, y, z]) significa el numero de dimensiones de la matriz, en segundo numero (y), representa el número de vectores que componen la matriz, y el ultimo número (z) significa refleja la cantidad de números que hay por vec"
      ],
      "metadata": {
        "id": "whLfHnXb01kO"
      }
    },
    {
      "cell_type": "code",
      "source": [
        "tensor[0]"
      ],
      "metadata": {
        "colab": {
          "base_uri": "https://localhost:8080/"
        },
        "id": "AnNvAmqu1nbF",
        "outputId": "7625ddd2-d32c-4a4b-aacb-01ae9d191a46"
      },
      "execution_count": 16,
      "outputs": [
        {
          "output_type": "execute_result",
          "data": {
            "text/plain": [
              "tensor([[1, 2, 3],\n",
              "        [3, 5, 7],\n",
              "        [1, 2, 3]])"
            ]
          },
          "metadata": {},
          "execution_count": 16
        }
      ]
    },
    {
      "cell_type": "code",
      "source": [
        "tensor[0][0]"
      ],
      "metadata": {
        "colab": {
          "base_uri": "https://localhost:8080/"
        },
        "id": "VT4-fjgd1qE5",
        "outputId": "7458bd1d-280d-4f96-da6c-3dee981d774d"
      },
      "execution_count": 17,
      "outputs": [
        {
          "output_type": "execute_result",
          "data": {
            "text/plain": [
              "tensor([1, 2, 3])"
            ]
          },
          "metadata": {},
          "execution_count": 17
        }
      ]
    },
    {
      "cell_type": "code",
      "source": [
        "tensor[0][0][0]"
      ],
      "metadata": {
        "colab": {
          "base_uri": "https://localhost:8080/"
        },
        "id": "1Uj1lcPm1snN",
        "outputId": "2a419700-f002-4a04-f888-14b8428c3946"
      },
      "execution_count": 18,
      "outputs": [
        {
          "output_type": "execute_result",
          "data": {
            "text/plain": [
              "tensor(1)"
            ]
          },
          "metadata": {},
          "execution_count": 18
        }
      ]
    },
    {
      "cell_type": "markdown",
      "source": [
        "## Random tensors\n",
        "\n",
        "***🟦EN***:The random tensors are important becuase the way many neuronal networks learn is that they start with ramdom number in their tensors and adjus those to better represent the data. \n",
        "\n",
        "\n",
        "***🟥ES***:Los tensores aleatorios son importantes porque la forma en que muchas redes neuronales aprenden es que empiezan con números aleatorios en sus tensores y los ajustan para representar mejor los datos. "
      ],
      "metadata": {
        "id": "__p5y5_w1ynb"
      }
    },
    {
      "cell_type": "code",
      "source": [
        "# Create random tensor of size [3, 4]\n",
        "rand_tensor = torch.rand(3, 4)\n",
        "rand_tensor"
      ],
      "metadata": {
        "colab": {
          "base_uri": "https://localhost:8080/"
        },
        "id": "CZFyNazf4u9q",
        "outputId": "2cec132d-950c-4eb6-dd91-ebf87a3d68cb"
      },
      "execution_count": 19,
      "outputs": [
        {
          "output_type": "execute_result",
          "data": {
            "text/plain": [
              "tensor([[0.9596, 0.5139, 0.1665, 0.7326],\n",
              "        [0.5657, 0.1587, 0.8822, 0.8060],\n",
              "        [0.2326, 0.1880, 0.4251, 0.1442]])"
            ]
          },
          "metadata": {},
          "execution_count": 19
        }
      ]
    },
    {
      "cell_type": "code",
      "source": [
        "rand_tensor2 = torch.rand(7, 2, 2)\n",
        "rand_tensor2"
      ],
      "metadata": {
        "colab": {
          "base_uri": "https://localhost:8080/"
        },
        "id": "GpbMvlF65A-k",
        "outputId": "6d8e4401-780f-4de5-de28-03d1123f394c"
      },
      "execution_count": 20,
      "outputs": [
        {
          "output_type": "execute_result",
          "data": {
            "text/plain": [
              "tensor([[[0.7002, 0.2449],\n",
              "         [0.8617, 0.3752]],\n",
              "\n",
              "        [[0.4581, 0.5743],\n",
              "         [0.3736, 0.7038]],\n",
              "\n",
              "        [[0.3468, 0.3813],\n",
              "         [0.3304, 0.2847]],\n",
              "\n",
              "        [[0.1095, 0.9110],\n",
              "         [0.5412, 0.5250]],\n",
              "\n",
              "        [[0.9848, 0.1429],\n",
              "         [0.2374, 0.6673]],\n",
              "\n",
              "        [[0.1807, 0.9379],\n",
              "         [0.9907, 0.0670]],\n",
              "\n",
              "        [[0.5067, 0.5470],\n",
              "         [0.0397, 0.7777]]])"
            ]
          },
          "metadata": {},
          "execution_count": 20
        }
      ]
    },
    {
      "cell_type": "code",
      "source": [
        "# Create random tensor with similar shapo to an imgae\n",
        "HEIGHT = 224\n",
        "WIDTH = 224\n",
        "COLOR = 3 # Black and with = 1\n",
        "rand_img_tensor = torch.rand(size=(HEIGHT, WIDTH, COLOR)) # height, width, RGB (in this case)\n",
        "print(f\"Shape: {rand_img_tensor.shape}\\nNDIM: {rand_img_tensor.ndim}\\nDType: {rand_img_tensor.dtype}\")"
      ],
      "metadata": {
        "colab": {
          "base_uri": "https://localhost:8080/"
        },
        "id": "cDNpLUKx5IBO",
        "outputId": "fd811f4a-872e-4ca8-fea8-fd5fe1d36ad0"
      },
      "execution_count": 21,
      "outputs": [
        {
          "output_type": "stream",
          "name": "stdout",
          "text": [
            "Shape: torch.Size([224, 224, 3])\n",
            "NDIM: 3\n",
            "DType: torch.float32\n"
          ]
        }
      ]
    },
    {
      "cell_type": "code",
      "source": [
        "# Tensor all zeros\n",
        "zero_tensor = torch.zeros(size=(3, 4))\n",
        "zero_tensor"
      ],
      "metadata": {
        "colab": {
          "base_uri": "https://localhost:8080/"
        },
        "id": "0OgV7EQv56r4",
        "outputId": "5687a74a-1df8-4aa1-9f43-bb215860f5cd"
      },
      "execution_count": 22,
      "outputs": [
        {
          "output_type": "execute_result",
          "data": {
            "text/plain": [
              "tensor([[0., 0., 0., 0.],\n",
              "        [0., 0., 0., 0.],\n",
              "        [0., 0., 0., 0.]])"
            ]
          },
          "metadata": {},
          "execution_count": 22
        }
      ]
    },
    {
      "cell_type": "code",
      "source": [
        "# Tensor all one\n",
        "one_tensor = torch.ones(size=(4,4))\n",
        "one_tensor"
      ],
      "metadata": {
        "colab": {
          "base_uri": "https://localhost:8080/"
        },
        "id": "6fJe9__U6Brn",
        "outputId": "052afb4a-d6e1-47b9-de15-16d74bab4743"
      },
      "execution_count": 23,
      "outputs": [
        {
          "output_type": "execute_result",
          "data": {
            "text/plain": [
              "tensor([[1., 1., 1., 1.],\n",
              "        [1., 1., 1., 1.],\n",
              "        [1., 1., 1., 1.],\n",
              "        [1., 1., 1., 1.]])"
            ]
          },
          "metadata": {},
          "execution_count": 23
        }
      ]
    },
    {
      "cell_type": "markdown",
      "source": [
        "## Create a range of tensors and tensors-like"
      ],
      "metadata": {
        "id": "TO1rT7sQ6vtL"
      }
    },
    {
      "cell_type": "code",
      "source": [
        "arange_ = torch.arange(0, 10)\n",
        "# To 1 - 10:\n",
        "one_ten = torch.arange(1, 11)\n",
        "one_ten\n",
        "\n",
        "print(f\"arange(0,10): {arange_}\\n arange(1, 11): {one_ten}\")"
      ],
      "metadata": {
        "colab": {
          "base_uri": "https://localhost:8080/"
        },
        "id": "EKg_rld26zZs",
        "outputId": "86506eff-4dab-43dc-b0fc-c72fc100b4c5"
      },
      "execution_count": 24,
      "outputs": [
        {
          "output_type": "stream",
          "name": "stdout",
          "text": [
            "arange(0,10): tensor([0, 1, 2, 3, 4, 5, 6, 7, 8, 9])\n",
            " arange(1, 11): tensor([ 1,  2,  3,  4,  5,  6,  7,  8,  9, 10])\n"
          ]
        }
      ]
    },
    {
      "cell_type": "code",
      "source": [
        "step = torch.arange(start=0, end=3000, step=94)\n",
        "step"
      ],
      "metadata": {
        "colab": {
          "base_uri": "https://localhost:8080/"
        },
        "id": "QcPCxG5k7csi",
        "outputId": "5a47d996-09c0-4abb-ba5e-095365983300"
      },
      "execution_count": 25,
      "outputs": [
        {
          "output_type": "execute_result",
          "data": {
            "text/plain": [
              "tensor([   0,   94,  188,  282,  376,  470,  564,  658,  752,  846,  940, 1034,\n",
              "        1128, 1222, 1316, 1410, 1504, 1598, 1692, 1786, 1880, 1974, 2068, 2162,\n",
              "        2256, 2350, 2444, 2538, 2632, 2726, 2820, 2914])"
            ]
          },
          "metadata": {},
          "execution_count": 25
        }
      ]
    },
    {
      "cell_type": "code",
      "source": [
        "# tensor-like (Transform all the numbers to 0)\n",
        "ten_zeros = torch.zeros_like(input=one_ten)\n",
        "ten_zeros"
      ],
      "metadata": {
        "colab": {
          "base_uri": "https://localhost:8080/"
        },
        "id": "5drth7CO7pk8",
        "outputId": "6bd81042-1fee-42fa-ef0a-f84a6e5b3a1f"
      },
      "execution_count": 26,
      "outputs": [
        {
          "output_type": "execute_result",
          "data": {
            "text/plain": [
              "tensor([0, 0, 0, 0, 0, 0, 0, 0, 0, 0])"
            ]
          },
          "metadata": {},
          "execution_count": 26
        }
      ]
    },
    {
      "cell_type": "markdown",
      "source": [
        "## Tensor Datatypes"
      ],
      "metadata": {
        "id": "ERM9A7IN73r5"
      }
    },
    {
      "cell_type": "markdown",
      "source": [
        "***🟦EN***: Datatypes is a common error in DeepLearnig con PyTorch\n",
        "\n",
        "***🟥ES***: Los Datatypes son un error comun en DeepLearnign con PyTorch"
      ],
      "metadata": {
        "id": "JrSB-Fho4oN7"
      }
    },
    {
      "cell_type": "markdown",
      "source": [
        "***🟦EN***: The principal error in are:\n",
        "1. Tensor no rigth datatype.\n",
        "2. Tensor not right shape.\n",
        "3. Tensor not right device.\n",
        "\n",
        "***🟥ES***: Los principales errores són:\n",
        "1. Tensors sin el datatype correcto\n",
        "2. Tensor no tiene la forma correcta\n",
        "3. Tensor sin el dispositivo correcto."
      ],
      "metadata": {
        "id": "QrsO-HSM4r6D"
      }
    },
    {
      "cell_type": "code",
      "source": [
        "# float32 tensor\n",
        "\n",
        "f_32_tensor = torch.tensor([3.0, 5.0, 6.0], dtype=None,\n",
        "                           device=None,\n",
        "                           requires_grad=False) \n",
        "f_32_tensor\n",
        "# If dtype is not specificated the default dtype is float32"
      ],
      "metadata": {
        "colab": {
          "base_uri": "https://localhost:8080/"
        },
        "id": "-gsIO-tb76Mi",
        "outputId": "a84ba00c-74cb-4513-9f3e-4183db801254"
      },
      "execution_count": 27,
      "outputs": [
        {
          "output_type": "execute_result",
          "data": {
            "text/plain": [
              "tensor([3., 5., 6.])"
            ]
          },
          "metadata": {},
          "execution_count": 27
        }
      ]
    },
    {
      "cell_type": "code",
      "source": [
        "tensor_correct = torch.tensor([3.0, 2.0, 1.0],\n",
        "                              dtype=None,\n",
        "                              device=\"cpu\", # cuda with gpu\n",
        "                              requires_grad=False)\n",
        "tensor_correct"
      ],
      "metadata": {
        "colab": {
          "base_uri": "https://localhost:8080/"
        },
        "id": "7OjoWYMbGGKZ",
        "outputId": "a581885f-9766-450e-c8df-6fbcb2cc9a8a"
      },
      "execution_count": 28,
      "outputs": [
        {
          "output_type": "execute_result",
          "data": {
            "text/plain": [
              "tensor([3., 2., 1.])"
            ]
          },
          "metadata": {},
          "execution_count": 28
        }
      ]
    },
    {
      "cell_type": "code",
      "source": [
        "print(f\"DataType: {tensor_correct.dtype}\")"
      ],
      "metadata": {
        "colab": {
          "base_uri": "https://localhost:8080/"
        },
        "id": "DNVqvDbMGzoK",
        "outputId": "cddaa49a-3773-4b31-a3c9-d11ae10d06f0"
      },
      "execution_count": 29,
      "outputs": [
        {
          "output_type": "stream",
          "name": "stdout",
          "text": [
            "DataType: torch.float32\n"
          ]
        }
      ]
    },
    {
      "cell_type": "markdown",
      "source": [
        "### Get information from tensors\n",
        "1. Tensor no rigth datatype -- To do get datatype from tensor, can use ```tensor.dtype```\n",
        "2. Tensor not right shape -- To get shape from a tensor, can use `tensor.shape`\n",
        "3. Tensor not right device -- To get devide from a tensor, can use `tensor.device`"
      ],
      "metadata": {
        "id": "dUqCV4J5HoSW"
      }
    },
    {
      "cell_type": "code",
      "source": [
        "ex_tensor = torch.rand(4,4)\n",
        "ex_tensor"
      ],
      "metadata": {
        "colab": {
          "base_uri": "https://localhost:8080/"
        },
        "id": "45XPL1jFIAYx",
        "outputId": "06d84bad-9862-4a43-a013-122ea7b9b13f"
      },
      "execution_count": 30,
      "outputs": [
        {
          "output_type": "execute_result",
          "data": {
            "text/plain": [
              "tensor([[0.2135, 0.6608, 0.0049, 0.7020],\n",
              "        [0.7424, 0.3754, 0.5969, 0.4515],\n",
              "        [0.6646, 0.5094, 0.2655, 0.1678],\n",
              "        [0.8807, 0.5433, 0.1999, 0.3255]])"
            ]
          },
          "metadata": {},
          "execution_count": 30
        }
      ]
    },
    {
      "cell_type": "code",
      "source": [
        "# Get details form a tensor\n",
        "print(f\"{ex_tensor}\\nDataType: {ex_tensor.dtype}\\nShapeTensor: {ex_tensor.shape}\\nDevice: {ex_tensor.device}\")"
      ],
      "metadata": {
        "colab": {
          "base_uri": "https://localhost:8080/"
        },
        "id": "Qf49IPzhIHoX",
        "outputId": "bac4d11e-1717-420f-c705-e2cd7d282551"
      },
      "execution_count": 31,
      "outputs": [
        {
          "output_type": "stream",
          "name": "stdout",
          "text": [
            "tensor([[0.2135, 0.6608, 0.0049, 0.7020],\n",
            "        [0.7424, 0.3754, 0.5969, 0.4515],\n",
            "        [0.6646, 0.5094, 0.2655, 0.1678],\n",
            "        [0.8807, 0.5433, 0.1999, 0.3255]])\n",
            "DataType: torch.float32\n",
            "ShapeTensor: torch.Size([4, 4])\n",
            "Device: cpu\n"
          ]
        }
      ]
    },
    {
      "cell_type": "markdown",
      "source": [
        "### Editic tensors\n",
        "\n",
        "Tensor operation include:\n",
        "* Addition\n",
        "* Subtraction\n",
        "* Multiplication\n",
        "* Division\n",
        "* Matrix multiplication"
      ],
      "metadata": {
        "id": "HK-2DIVLIm_v"
      }
    },
    {
      "cell_type": "code",
      "source": [
        "ten = torch.tensor([12, 2, 5])"
      ],
      "metadata": {
        "id": "oacHBUGTKQ65"
      },
      "execution_count": 32,
      "outputs": []
    },
    {
      "cell_type": "code",
      "source": [
        "# Create a tensor\n",
        "%%time\n",
        "print(f\"Default tensor: {ten}\\nTensor adding 10: {ten + 10}\\nTensor muliply per 10: {ten * 10}\\nSubstract 10: {ten - 10}\")"
      ],
      "metadata": {
        "colab": {
          "base_uri": "https://localhost:8080/"
        },
        "id": "TmfIJF0EIji2",
        "outputId": "48395367-39c2-4eb6-83d2-1c548bf85d5c"
      },
      "execution_count": 33,
      "outputs": [
        {
          "output_type": "stream",
          "name": "stdout",
          "text": [
            "Default tensor: tensor([12,  2,  5])\n",
            "Tensor adding 10: tensor([22, 12, 15])\n",
            "Tensor muliply per 10: tensor([120,  20,  50])\n",
            "Substract 10: tensor([ 2, -8, -5])\n",
            "CPU times: user 4.99 ms, sys: 0 ns, total: 4.99 ms\n",
            "Wall time: 14 ms\n"
          ]
        }
      ]
    },
    {
      "cell_type": "code",
      "source": [
        "# Using PyTorch funtions to do the same\n",
        "%%time\n",
        "print(f\"Default tensor: {ten}\\nTensor adding 10: {torch.add(ten, 10)}\\nTensor muliply per 10: {torch.mul(ten, 10)}\\nSubstract 10: {torch.sub(ten, 10)}\")"
      ],
      "metadata": {
        "colab": {
          "base_uri": "https://localhost:8080/"
        },
        "id": "uzeFLLBxJqp3",
        "outputId": "3eea7963-5979-46ea-d07e-c58917e96a08"
      },
      "execution_count": 34,
      "outputs": [
        {
          "output_type": "stream",
          "name": "stdout",
          "text": [
            "Default tensor: tensor([12,  2,  5])\n",
            "Tensor adding 10: tensor([22, 12, 15])\n",
            "Tensor muliply per 10: tensor([120,  20,  50])\n",
            "Substract 10: tensor([ 2, -8, -5])\n",
            "CPU times: user 1.31 ms, sys: 0 ns, total: 1.31 ms\n",
            "Wall time: 1.34 ms\n"
          ]
        }
      ]
    },
    {
      "cell_type": "markdown",
      "source": [
        "### Matrix multiplication\n",
        "\n",
        "Two main ways of performing multiplications in NN (Neuronal networks) & DL (Deep learning):\n",
        "\n",
        "1. Matrix multiplication (IMPORTANT)\n",
        "2. Element-wise multiplication"
      ],
      "metadata": {
        "id": "xRm-y2P9IzDh"
      }
    },
    {
      "cell_type": "code",
      "source": [
        "# Element wise multiplication\n",
        "\n",
        "print(f\"{ten} * {ten} = {ten * ten}\\n#################\\nPytorch funcion: {torch.matmul(ten, ten)}\")"
      ],
      "metadata": {
        "colab": {
          "base_uri": "https://localhost:8080/"
        },
        "id": "nc-Y81FcLS73",
        "outputId": "91ea7b31-3e72-4cdf-e370-19825cc1e0d3"
      },
      "execution_count": 35,
      "outputs": [
        {
          "output_type": "stream",
          "name": "stdout",
          "text": [
            "tensor([12,  2,  5]) * tensor([12,  2,  5]) = tensor([144,   4,  25])\n",
            "#################\n",
            "Pytorch funcion: 173\n"
          ]
        }
      ]
    },
    {
      "cell_type": "markdown",
      "source": [
        "***🟦EN***: Let's see the time dif usign matmul and to do it by hand\n",
        "\n",
        "***🟥ES***: Vamos a ver la diferencia aciendolo usando matmaul o haciendolo a mano."
      ],
      "metadata": {
        "id": "Am59eU0o4sAE"
      }
    },
    {
      "cell_type": "code",
      "source": [
        "# Matrix mult by hand\n",
        "%%time\n",
        "val = 0\n",
        "for i in range(len(ten)):\n",
        "  val += ten[i] * ten[i]\n",
        "print(val)"
      ],
      "metadata": {
        "colab": {
          "base_uri": "https://localhost:8080/"
        },
        "id": "VA9h-pKCMLtr",
        "outputId": "a422b068-329b-4cdb-86a0-d8ecd64d70a2"
      },
      "execution_count": 36,
      "outputs": [
        {
          "output_type": "stream",
          "name": "stdout",
          "text": [
            "tensor(173)\n",
            "CPU times: user 2.8 ms, sys: 213 µs, total: 3.01 ms\n",
            "Wall time: 9.23 ms\n"
          ]
        }
      ]
    },
    {
      "cell_type": "code",
      "source": [
        "%%time\n",
        "torch.matmul(ten, ten) # is the same as torch.mm(x, x)"
      ],
      "metadata": {
        "colab": {
          "base_uri": "https://localhost:8080/"
        },
        "id": "YAChyKX2MXzN",
        "outputId": "b7664208-aaba-4511-c366-752e328139e9"
      },
      "execution_count": 37,
      "outputs": [
        {
          "output_type": "stream",
          "name": "stdout",
          "text": [
            "CPU times: user 82 µs, sys: 0 ns, total: 82 µs\n",
            "Wall time: 86.5 µs\n"
          ]
        },
        {
          "output_type": "execute_result",
          "data": {
            "text/plain": [
              "tensor(173)"
            ]
          },
          "metadata": {},
          "execution_count": 37
        }
      ]
    },
    {
      "cell_type": "markdown",
      "source": [
        "Two main rules that performing matrix multiplication needs to satisfy:\n",
        "1. The *inner dimensions* must match:\n",
        "* `(3, 2) @ (3, 2)` Must work\n",
        "* `(7, 3) @ (3, 7)` Works\n",
        "* `(4, 2) @ (2, 4)` Works\n",
        "The resutl matrix has teh shape of the *outer dimension*\n",
        "* `(2, 3) @ (3, 2)` ==> `(2, 2)`\n",
        "* `(7, 3) @ (3, 7)` ==> `(7, 7)`"
      ],
      "metadata": {
        "id": "gPqsKuPoNMqJ"
      }
    },
    {
      "cell_type": "code",
      "source": [
        "torch.matmul(torch.rand(3, 2), torch.rand(2, 3))"
      ],
      "metadata": {
        "colab": {
          "base_uri": "https://localhost:8080/"
        },
        "id": "dd2_mdt_Nve2",
        "outputId": "ac0b7049-3a6c-465d-e562-b407acc20aa0"
      },
      "execution_count": 38,
      "outputs": [
        {
          "output_type": "execute_result",
          "data": {
            "text/plain": [
              "tensor([[0.2869, 0.1848, 0.3731],\n",
              "        [0.0600, 0.0509, 0.1040],\n",
              "        [0.2447, 0.2262, 0.4635]])"
            ]
          },
          "metadata": {},
          "execution_count": 38
        }
      ]
    },
    {
      "cell_type": "code",
      "source": [
        "torch.matmul(torch.rand(3, 2), torch.rand(2, 3)).shape"
      ],
      "metadata": {
        "colab": {
          "base_uri": "https://localhost:8080/"
        },
        "id": "Ga_ampfzOi7u",
        "outputId": "18226e32-9d6e-470c-a4ca-01de3af693b9"
      },
      "execution_count": 39,
      "outputs": [
        {
          "output_type": "execute_result",
          "data": {
            "text/plain": [
              "torch.Size([3, 3])"
            ]
          },
          "metadata": {},
          "execution_count": 39
        }
      ]
    },
    {
      "cell_type": "markdown",
      "source": [
        "### Common error in deep learnin => Shape errors"
      ],
      "metadata": {
        "id": "E3YrnP7lTq1S"
      }
    },
    {
      "cell_type": "code",
      "source": [
        "# Shape for matrix => See the proccess http://matrixmultiplication.xyz/\n",
        "tensor1 = torch.tensor([[1, 2],\n",
        "                        [3, 4],\n",
        "                        [5, 6]])\n",
        "\n",
        "tensor2 = torch.tensor([[7, 8],\n",
        "                        [9, 5],\n",
        "                        [3, 2]])\n"
      ],
      "metadata": {
        "id": "WYjbOFDLUCwG"
      },
      "execution_count": 40,
      "outputs": []
    },
    {
      "cell_type": "markdown",
      "source": [
        "***🟦EN***: In this case we can't multiply `tensor1` per `tensor2`, to manipulte the shape of on eof our tensors using a **transpose**, this funciton, switches the dimension of a given tensor.\n",
        "\n",
        "***🟥ES***: Es este caso, no podemos multiplicat el `tensor1` por el `tensor2`, para manipualr la dimension de uno de los tensores usaremos la funcion **transpose**, esta dimensión intercambia la dimensión del tensor dado."
      ],
      "metadata": {
        "id": "MWHBc6_o4sGJ"
      }
    },
    {
      "cell_type": "code",
      "source": [
        "print(f\"Default tensor: {tensor1}\\nTrasosed tensor: {tensor1.T}\\nShape of default tensor {tensor1.shape}\\nTransposed shape: {tensor1.T.shape}\")"
      ],
      "metadata": {
        "colab": {
          "base_uri": "https://localhost:8080/"
        },
        "id": "9qNvKIF8VuR4",
        "outputId": "5238edfb-daf1-4085-c77f-d0c88ed655a1"
      },
      "execution_count": 41,
      "outputs": [
        {
          "output_type": "stream",
          "name": "stdout",
          "text": [
            "Default tensor: tensor([[1, 2],\n",
            "        [3, 4],\n",
            "        [5, 6]])\n",
            "Trasosed tensor: tensor([[1, 3, 5],\n",
            "        [2, 4, 6]])\n",
            "Shape of default tensor torch.Size([3, 2])\n",
            "Transposed shape: torch.Size([2, 3])\n"
          ]
        }
      ]
    },
    {
      "cell_type": "code",
      "source": [
        "# Now can multiplication works when the tensor2 is transposed\n",
        "\n",
        "torch.mm(tensor1, tensor2.T)"
      ],
      "metadata": {
        "colab": {
          "base_uri": "https://localhost:8080/"
        },
        "id": "NRW6TzzwWtf8",
        "outputId": "25ade030-5056-446d-b365-96bd286f6d2d"
      },
      "execution_count": 42,
      "outputs": [
        {
          "output_type": "execute_result",
          "data": {
            "text/plain": [
              "tensor([[23, 19,  7],\n",
              "        [53, 47, 17],\n",
              "        [83, 75, 27]])"
            ]
          },
          "metadata": {},
          "execution_count": 42
        }
      ]
    },
    {
      "cell_type": "markdown",
      "source": [
        "## Find th max, min, mean, sum...(tensor aggregation)\n"
      ],
      "metadata": {
        "id": "_XZaNcCjYYbr"
      }
    },
    {
      "cell_type": "code",
      "source": [
        "# Tensor creation\n",
        "\n",
        "tensor = torch.arange(0, 100, 5)\n",
        "tensor"
      ],
      "metadata": {
        "colab": {
          "base_uri": "https://localhost:8080/"
        },
        "id": "eHtF1Bx_YfRm",
        "outputId": "0a20cd89-8e62-4039-ceb5-33f8b3d2c843"
      },
      "execution_count": 43,
      "outputs": [
        {
          "output_type": "execute_result",
          "data": {
            "text/plain": [
              "tensor([ 0,  5, 10, 15, 20, 25, 30, 35, 40, 45, 50, 55, 60, 65, 70, 75, 80, 85,\n",
              "        90, 95])"
            ]
          },
          "metadata": {},
          "execution_count": 43
        }
      ]
    },
    {
      "cell_type": "code",
      "source": [
        "print(f\"Max: {torch.max(tensor)} // {tensor.max()}\\nMin: {torch.min(tensor)} // {tensor.min()}\")\n",
        "\n",
        "# If we try to average this tensor, we will get an error due to an incorrect datatype.\n",
        "\n",
        "tensor.dtype # https://pytorch.org/docs/stable/generated/torch.mean.html"
      ],
      "metadata": {
        "colab": {
          "base_uri": "https://localhost:8080/"
        },
        "id": "iuAoSPkaYmj4",
        "outputId": "9852d99f-0017-48f8-b70e-86080d0a8bce"
      },
      "execution_count": 44,
      "outputs": [
        {
          "output_type": "stream",
          "name": "stdout",
          "text": [
            "Max: 95 // 95\n",
            "Min: 0 // 0\n"
          ]
        },
        {
          "output_type": "execute_result",
          "data": {
            "text/plain": [
              "torch.int64"
            ]
          },
          "metadata": {},
          "execution_count": 44
        }
      ]
    },
    {
      "cell_type": "code",
      "source": [
        "torch.mean(tensor.type(torch.float32)), tensor.type(torch.float32).mean()"
      ],
      "metadata": {
        "colab": {
          "base_uri": "https://localhost:8080/"
        },
        "id": "hbb2kSQYaO_f",
        "outputId": "959bdb36-da90-4cf6-9301-aa1589431fd4"
      },
      "execution_count": 45,
      "outputs": [
        {
          "output_type": "execute_result",
          "data": {
            "text/plain": [
              "(tensor(47.5000), tensor(47.5000))"
            ]
          },
          "metadata": {},
          "execution_count": 45
        }
      ]
    },
    {
      "cell_type": "code",
      "source": [
        "# Find the sum\n",
        "torch.sum(tensor), tensor.sum()"
      ],
      "metadata": {
        "colab": {
          "base_uri": "https://localhost:8080/"
        },
        "id": "gErmA9u6YOXW",
        "outputId": "58bd5bdb-8abd-47d8-969d-2b3b2a516be0"
      },
      "execution_count": 48,
      "outputs": [
        {
          "output_type": "execute_result",
          "data": {
            "text/plain": [
              "(tensor(950), tensor(950))"
            ]
          },
          "metadata": {},
          "execution_count": 48
        }
      ]
    },
    {
      "cell_type": "code",
      "source": [
        "print(f\"ArgMin: {tensor.argmin()} ArgMax: {tensor.argmax()}\")"
      ],
      "metadata": {
        "colab": {
          "base_uri": "https://localhost:8080/"
        },
        "id": "WiMJ1bVDY3B7",
        "outputId": "a025ee2f-67c7-4588-f052-11fe76535380"
      },
      "execution_count": 50,
      "outputs": [
        {
          "output_type": "stream",
          "name": "stdout",
          "text": [
            "ArgMin: 0 ArgMax: 19\n"
          ]
        }
      ]
    },
    {
      "cell_type": "markdown",
      "source": [
        "## Reshaping, stackng, squeezing and unsequeezing tensors.\n",
        "\n",
        "***🟦EN***: \n",
        "* **Reshaping**: Reshapes an input tensor to a defined shape.\n",
        "* **View**: Return a view of an input tensor of certain shape but keep the same memory as the original tensor.\n",
        "* **Stacking**: Combine multiple tensors on top of each other (vstack) or side by side. \n",
        "\n",
        "***🟥ES***:\n",
        "* **Reshaping**: Da nueva forma a un tensor de entrada con una forma definida.\n",
        "* **View**: Devuelve una vista de un tensor de entrada de cierta forma pero manteniendo la misma memoria que el tensor original.\n",
        "* **Stacking**: Combina varios tensores uno encima de otro (vstack) o uno al lado del otro. "
      ],
      "metadata": {
        "id": "mhwM4pM8Tp2V"
      }
    },
    {
      "cell_type": "markdown",
      "source": [
        "***🟦EN***\n",
        "\n",
        "***🟥ES***:"
      ],
      "metadata": {
        "id": "vSnZM3X5Tp7m"
      }
    },
    {
      "cell_type": "markdown",
      "source": [
        "***🟦EN***\n",
        "\n",
        "***🟥ES***:"
      ],
      "metadata": {
        "id": "rKbtPaJkTp96"
      }
    },
    {
      "cell_type": "markdown",
      "source": [
        "***🟦EN***\n",
        "\n",
        "***🟥ES***:"
      ],
      "metadata": {
        "id": "to1msI_4Tp__"
      }
    },
    {
      "cell_type": "markdown",
      "source": [
        "***🟦EN***\n",
        "\n",
        "***🟥ES***:"
      ],
      "metadata": {
        "id": "90OuaswWTqCE"
      }
    },
    {
      "cell_type": "markdown",
      "source": [
        "***🟦EN***\n",
        "\n",
        "***🟥ES***:"
      ],
      "metadata": {
        "id": "cvjI3mh0TqEG"
      }
    },
    {
      "cell_type": "code",
      "source": [],
      "metadata": {
        "id": "Xs_YoXkF14M0"
      },
      "execution_count": null,
      "outputs": []
    }
  ]
}